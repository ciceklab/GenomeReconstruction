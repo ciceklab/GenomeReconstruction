{
 "cells": [
  {
   "cell_type": "code",
   "execution_count": 1,
   "metadata": {},
   "outputs": [],
   "source": [
    "import numpy as np\n",
    "import pandas as pd\n",
    "import os\n",
    "from os import listdir\n",
    "from os.path import isfile, join, getsize, dirname\n",
    "from collections import Counter, OrderedDict\n",
    "import shutil\n",
    "import warnings\n",
    "import h5py\n",
    "import pickle\n",
    "import random\n",
    "warnings.filterwarnings('ignore')\n",
    "path = \"../../../../../zion/OpenSNP/people\"\n",
    "meta = \"../../../../../zion/OpenSNP/meta\"\n",
    "phenotype = \"../../../../../zion/OpenSNP/phenotypes\"\n",
    "beacon_path = \"../../../../../zion/OpenSNP/beacon\""
   ]
  },
  {
   "cell_type": "code",
   "execution_count": 2,
   "metadata": {},
   "outputs": [],
   "source": [
    "with open(join(beacon_path, \"SNP_Info.pickle\"), 'rb') as handle:\n",
    "    maf = pickle.load(handle)"
   ]
  },
  {
   "cell_type": "code",
   "execution_count": 26,
   "metadata": {},
   "outputs": [
    {
     "data": {
      "text/plain": [
       "['EyeColor',\n",
       " 'ColorBlindness',\n",
       " 'HairType',\n",
       " 'HairColor',\n",
       " 'TanAbility',\n",
       " 'Asthma',\n",
       " 'LactoseIntolerance',\n",
       " 'BloodType',\n",
       " 'EarWax',\n",
       " 'Freckling',\n",
       " 'TongueRoller',\n",
       " 'RingFinger',\n",
       " 'BeardColor',\n",
       " 'Intolerance']"
      ]
     },
     "execution_count": 26,
     "metadata": {},
     "output_type": "execute_result"
    }
   ],
   "source": [
    "# Select phenotype features to be used\n",
    "remainingFeatures = ['EyeColor',\n",
    "            'ColorBlindness',\n",
    "            'HairType',\n",
    "            'HairColor',\n",
    "            'TanAbility',\n",
    "            'Asthma',\n",
    "            'LactoseIntolerance',\n",
    "            'BloodType',\n",
    "            'EarWax',\n",
    "            'Freckling',\n",
    "            'TongueRoller',\n",
    "            'RingFinger',\n",
    "            'BeardColor',\n",
    "            'Intolerance']\n",
    "remainingFeatures"
   ]
  },
  {
   "cell_type": "code",
   "execution_count": null,
   "metadata": {},
   "outputs": [],
   "source": [
    "beacon_name = remainingFeatures[0] + \".pickle\"\n",
    "with open(join(phenotype, beacon_name), 'rb') as handle:\n",
    "    beacon = pickle.load(handle)\n",
    "beacon.columns = beacon.columns.astype(int)\n",
    "\n",
    "for i in range(1, len(remainingFeatures)):\n",
    "    print(\"Started\")\n",
    "    beacon_name = remainingFeatures[i] + \".pickle\"\n",
    "    with open(join(phenotype, beacon_name), 'rb') as handle:\n",
    "        data = pickle.load(handle)\n",
    "    beacon = pd.merge(beacon, data[np.setdiff1d(data.columns, beacon.columns)], left_index=True, right_index=True, how='outer')\n",
    "    print(\"Done\")"
   ]
  },
  {
   "cell_type": "code",
   "execution_count": null,
   "metadata": {},
   "outputs": [],
   "source": [
    "beacon.to_pickle(join(meta, \"Beacon_1217.pickle\"))"
   ]
  },
  {
   "cell_type": "code",
   "execution_count": 31,
   "metadata": {},
   "outputs": [],
   "source": [
    "with open(join(beacon_path, \"Beacon_1217.pickle\"), 'rb') as handle:\n",
    "    beacon = pickle.load(handle)"
   ]
  },
  {
   "cell_type": "code",
   "execution_count": 32,
   "metadata": {},
   "outputs": [
    {
     "name": "stdout",
     "output_type": "stream",
     "text": [
      "(2151743, 1217)\n",
      "(2151743, 6)\n"
     ]
    }
   ],
   "source": [
    "print(beacon.shape)\n",
    "print(maf.shape)"
   ]
  },
  {
   "cell_type": "code",
   "execution_count": 33,
   "metadata": {},
   "outputs": [],
   "source": [
    "maf[\"major\"] = \"NN\"\n",
    "maf[\"major_freq\"] = 0\n",
    "maf[\"minor\"] = \"NN\"\n",
    "maf[\"minor_freq\"] = 0"
   ]
  },
  {
   "cell_type": "code",
   "execution_count": 34,
   "metadata": {},
   "outputs": [
    {
     "name": "stdout",
     "output_type": "stream",
     "text": [
      "CPU times: user 9min 21s, sys: 1min 16s, total: 10min 38s\n",
      "Wall time: 10min 31s\n"
     ]
    }
   ],
   "source": [
    "%%time\n",
    "def calculate(item):\n",
    "    line = ''.join(item).replace(\"N\",\"\")\n",
    "    return line\n",
    "res = np.apply_along_axis(calculate, 1, beacon.values)\n",
    "\n",
    "def foo(item):\n",
    "    return list(map(lambda c2: c2, item[0]))\n",
    "res = res.reshape(res.shape[0],1)\n",
    "res = [foo(res[i]) for i in range(len(res))]\n",
    "\n",
    "result = [list(Counter(e).items()) for e in res]\n",
    "\n",
    "result = np.array(result)\n",
    "result.shape"
   ]
  },
  {
   "cell_type": "code",
   "execution_count": 35,
   "metadata": {},
   "outputs": [
    {
     "name": "stdout",
     "output_type": "stream",
     "text": [
      "CPU times: user 20.7 s, sys: 656 ms, total: 21.3 s\n",
      "Wall time: 3.27 s\n"
     ]
    }
   ],
   "source": [
    "%%time\n",
    "maf[\"major\"] = [i[0][0] if i else \"N\" for i in result ]\n",
    "maf[\"major_freq\"] = [i[0][1] if i else 0 for i in result ]\n",
    "maf[\"minor\"] = [i[1][0] if len(i) > 1 else \"N\" for i in result ]\n",
    "maf[\"minor_freq\"] = [i[1][1] if len(i) > 1 else 0 for i in result ]\n",
    "\n",
    "t = maf[\"major_freq\"] + maf[\"minor_freq\"]\n",
    "maf[\"major_freq\"] = maf[\"major_freq\"] / t\n",
    "maf[\"minor_freq\"] = maf[\"minor_freq\"] / t\n",
    "maf = maf.fillna(0)\n",
    "maf[\"chr\"] = maf[\"chr\"].astype(int)\n",
    "maf[\"maf\"] = maf[['minor_freq','major_freq']].min(axis=1)\n",
    "maf"
   ]
  },
  {
   "cell_type": "code",
   "execution_count": 24,
   "metadata": {},
   "outputs": [],
   "source": [
    "maf.to_pickle(join(beacon_path,\"MAF_1217.pickle\"))"
   ]
  },
  {
   "cell_type": "code",
   "execution_count": 37,
   "metadata": {},
   "outputs": [],
   "source": [
    "# Create Reference\n",
    "def getReference(maf):\n",
    "    greater = maf.loc[maf['major_freq'] > maf['minor_freq']]\n",
    "    equal   = maf.loc[maf['major_freq'] == maf['minor_freq']]\n",
    "    smaller = maf.loc[maf['major_freq'] < maf['minor_freq']]\n",
    "\n",
    "    greater[\"normal\"] = greater['major'] + \"\" + greater['major']\n",
    "    equal[\"normal\"] = equal['major'] + \"\" + equal['major'] #TODO\n",
    "    smaller[\"normal\"] = smaller['minor'] + \"\" + smaller['minor']\n",
    "    \n",
    "    x = pd.concat([greater,equal,smaller], axis=0)\n",
    "    x = x.sort_values(by=['rs_id'])\n",
    "    reference = x[\"normal\"].values\n",
    "    reference = np.expand_dims(reference, axis=1)\n",
    "    return reference\n",
    "\n",
    "reference = getReference(maf)\n",
    "nn = np.full(reference.shape, 'NN')"
   ]
  },
  {
   "cell_type": "code",
   "execution_count": 40,
   "metadata": {},
   "outputs": [],
   "source": [
    "with open(join(beacon_path, \"Reference_1217.pickle\"), 'wb') as handle:\n",
    "    pickle.dump(reference, handle, protocol=pickle.HIGHEST_PROTOCOL)"
   ]
  }
 ],
 "metadata": {
  "kernelspec": {
   "display_name": "Python 3",
   "language": "python",
   "name": "python3"
  },
  "language_info": {
   "codemirror_mode": {
    "name": "ipython",
    "version": 3
   },
   "file_extension": ".py",
   "mimetype": "text/x-python",
   "name": "python",
   "nbconvert_exporter": "python",
   "pygments_lexer": "ipython3",
   "version": "3.7.4"
  }
 },
 "nbformat": 4,
 "nbformat_minor": 2
}

{
 "cells": [
  {
   "cell_type": "code",
   "execution_count": 1,
   "metadata": {},
   "outputs": [],
   "source": [
    "import pandas as pd\n",
    "import numpy as np\n",
    "import random\n",
    "import math\n",
    "import timeit\n",
    "import itertools\n",
    "import warnings\n",
    "import seaborn as sn\n",
    "import pickle\n",
    "import feather\n",
    "import gc\n",
    "import sys\n",
    "import matplotlib.pyplot as plt\n",
    "from os.path import join, isfile\n",
    "from collections import Counter, OrderedDict\n",
    "from xgboost import XGBClassifier\n",
    "from fcmeans import FCM\n",
    "from sklearn.manifold import TSNE\n",
    "from sklearn.ensemble import RandomForestClassifier\n",
    "from sklearn.metrics.pairwise import pairwise_distances\n",
    "from sklearn.cluster import KMeans, SpectralClustering\n",
    "from sklearn.decomposition import PCA\n",
    "from sklearn.feature_selection import SelectKBest, chi2\n",
    "from sklearn.metrics import auc, accuracy_score, confusion_matrix, mean_squared_error\n",
    "from sklearn.model_selection import train_test_split, GridSearchCV, cross_val_score, KFold, RandomizedSearchCV\n",
    "from sklearn.model_selection import cross_val_score, StratifiedShuffleSplit, RepeatedStratifiedKFold\n",
    "from sklearn.preprocessing import LabelEncoder, OneHotEncoder\n",
    "from sklearn.pipeline import Pipeline\n",
    "warnings.filterwarnings('ignore')\n",
    "np.set_printoptions(suppress=True)"
   ]
  },
  {
   "cell_type": "code",
   "execution_count": 2,
   "metadata": {},
   "outputs": [
    {
     "data": {
      "text/html": [
       "<style>.container { width:75% !important; }</style>"
      ],
      "text/plain": [
       "<IPython.core.display.HTML object>"
      ]
     },
     "metadata": {},
     "output_type": "display_data"
    }
   ],
   "source": [
    "from IPython.core.display import display, HTML\n",
    "display(HTML(\"<style>.container { width:75% !important; }</style>\"))"
   ]
  },
  {
   "cell_type": "code",
   "execution_count": 7,
   "metadata": {},
   "outputs": [],
   "source": [
    "mainPath = \"../../GenomeReconstruction\"\n",
    "beacons = join(mainPath, \"beacon\")\n",
    "ceuPath = join(beacons, \"CEU\")\n",
    "models = join(mainPath, \"models\")\n",
    "opensnpPath = join(beacons, \"OpenSNP\")"
   ]
  },
  {
   "cell_type": "code",
   "execution_count": null,
   "metadata": {},
   "outputs": [],
   "source": [
    "%%time\n",
    "beacon = feather.read_dataframe(join(opensnpPath, \"Beacon_.ftr\"))\n",
    "beacon.set_index(\"rs_id\", inplace=True)"
   ]
  },
  {
   "cell_type": "markdown",
   "metadata": {},
   "source": [
    "#### Clean"
   ]
  },
  {
   "cell_type": "code",
   "execution_count": null,
   "metadata": {},
   "outputs": [],
   "source": [
    "# Bad Shape\n",
    "beacon.values[beacon.values == \"      AA\"] = \"AA\"\n",
    "beacon.values[beacon.values == \"AA      \\\"CURLY HAIR\\\"\"] = \"AA\"\n",
    "beacon.values[beacon.values == \"CC \"] = \"CC\"\n",
    "beacon.values[beacon.values == \"CT \"] = \"CT\"\n",
    "beacon.values[beacon.values == \"      AG\"] = \"AG\"\n",
    "# Single ones\n",
    "beacon.values[beacon.values == \"A\"] = \"AA\"\n",
    "beacon.values[beacon.values == \"C\"] = \"CC\"\n",
    "beacon.values[beacon.values == \"T\"] = \"TT\"\n",
    "beacon.values[beacon.values == \"G\"] = \"GG\"\n",
    "# Symmetric ones\n",
    "beacon.values[beacon.values == \"CA\"] = \"AC\"\n",
    "beacon.values[beacon.values == \"GA\"] = \"AG\"\n",
    "beacon.values[beacon.values == \"GC\"] = \"CG\"\n",
    "beacon.values[beacon.values == \"TA\"] = \"AT\"\n",
    "beacon.values[beacon.values == \"TC\"] = \"CT\"\n",
    "beacon.values[beacon.values == \"TG\"] = \"GT\"\n",
    "# NN\n",
    "beacon.values[beacon.values == \"I\"] = \"NN\"\n",
    "beacon.values[beacon.values == \"D\"] = \"NN\"\n",
    "beacon.values[beacon.values == \"0\"] = \"NN\"\n",
    "beacon.values[beacon.values == \"00\"] = \"NN\"\n",
    "beacon.values[beacon.values == \"ID\"] = \"NN\"\n",
    "# Check\n",
    "all_pos = set(beacon.iloc[:, 0].values)\n",
    "for i in range(beacon.shape[1]):\n",
    "    all_pos = all_pos.union(set(beacon.iloc[:, i].values))"
   ]
  },
  {
   "cell_type": "markdown",
   "metadata": {},
   "source": [
    "#### Encode&Load Categorical"
   ]
  },
  {
   "cell_type": "code",
   "execution_count": null,
   "metadata": {},
   "outputs": [],
   "source": [
    "beacon = beacon.astype(\"category\")\n",
    "beacon.to_pickle(join(opensnpPath, \"Beacon.pickle\"))\n",
    "ref_df = pd.DataFrame(data=reference.T[0], index=beacon.index, columns=[0], dtype=\"category\")\n",
    "with open(join(opensnpPath, \"Reference_c.pickle\"), 'wb') as handle:\n",
    "    pickle.dump(ref_df, handle)\n",
    "    \n",
    "# Load\n",
    "with open(join(opensnpPath, \"Beacon.pickle\"), 'rb') as handle:\n",
    "    beacon = pickle.load(handle)\n",
    "with open(join(opensnpPath, \"Reference.pickle\"), 'rb') as handle:\n",
    "    reference = pickle.load(handle)"
   ]
  },
  {
   "cell_type": "markdown",
   "metadata": {},
   "source": [
    "#### Encode&Load Integer Categorical"
   ]
  },
  {
   "cell_type": "code",
   "execution_count": null,
   "metadata": {},
   "outputs": [],
   "source": [
    "le = LabelEncoder()\n",
    "temp = le.fit_transform(list(all_pos))\n",
    "dictionary = dict(zip(np.array(list(all_pos)), temp))\n",
    "with open(join(opensnpPath, \"encoding.pickle\"), 'wb') as handle:\n",
    "    pickle.dump(dictionary, handle)\n",
    "encoded_beacon = np.array([le.transform(beacon.iloc[:, i]) for i in range(beacon.shape[1])])\n",
    "beacon_ = pd.DataFrame(data=encoded_beacon.T, index=beacon.index, columns=beacon.columns, dtype=\"category\")\n",
    "beacon_.to_pickle(join(opensnpPath, \"Beacon.pickle\"))\n",
    "\n",
    "# Load\n",
    "with open(join(opensnpPath, \"Beacon.pickle\"), 'rb') as handle:\n",
    "    beacon_ = pickle.load(handle)\n",
    "with open(join(opensnpPath, \"encoding.pickle\"), 'rb') as handle:\n",
    "    enc = pickle.load(handle)"
   ]
  },
  {
   "cell_type": "markdown",
   "metadata": {},
   "source": [
    "### Fix MAF"
   ]
  },
  {
   "cell_type": "code",
   "execution_count": null,
   "metadata": {},
   "outputs": [],
   "source": [
    "with open(join(opensnpPath, \"MAF.pickle\"), 'rb') as handle:\n",
    "    maf = pickle.load(handle)\n",
    "maf[\"chr\"] = pd.to_numeric(maf[\"chr\"], downcast=\"integer\")\n",
    "maf[\"maf\"] = maf[['major_freq','minor_freq']].min(axis=1)\n",
    "maf[\"chr\"][maf[\"chr\"] == 0] = 1\n",
    "\n",
    "with open(join(opensnpPath, \"MAF.pickle\"), 'wb') as handle:\n",
    "    pickle.dump(maf, handle)"
   ]
  },
  {
   "cell_type": "markdown",
   "metadata": {},
   "source": [
    "### Get Binary Beacon"
   ]
  },
  {
   "cell_type": "code",
   "execution_count": null,
   "metadata": {},
   "outputs": [],
   "source": [
    "%%time\n",
    "y = np.logical_and(beacon.values != reference.values, beacon.values != \"NN\")\n",
    "with open(join(opensnpPath, \"BinaryBeacon.pickle\"), 'wb') as handle:\n",
    "    pickle.dump(y, handle, protocol=4)\n",
    "    \n",
    "y[beacon == \"NN\"] = -1\n",
    "with open(join(opensnpPath, \"TernaryBeacon.pickle\"), 'wb') as handle:\n",
    "    pickle.dump(r1, handle, protocol=4)"
   ]
  },
  {
   "cell_type": "code",
   "execution_count": 4,
   "metadata": {},
   "outputs": [],
   "source": [
    "with open(join(opensnpPath, \"BinaryBeacon.pickle\"), 'rb') as handle:\n",
    "    r1 = pickle.load(handle)"
   ]
  },
  {
   "cell_type": "markdown",
   "metadata": {},
   "source": [
    "# Seperate Homozygous and Heterozygous"
   ]
  },
  {
   "cell_type": "code",
   "execution_count": 19,
   "metadata": {},
   "outputs": [],
   "source": [
    "# Create Reference\n",
    "def getHeterozygous(maf):\n",
    "    greater = maf.loc[maf['major_freq'] < maf['minor_freq']]\n",
    "    equal   = maf.loc[maf['major_freq'] == maf['minor_freq']]\n",
    "    smaller = maf.loc[maf['major_freq'] > maf['minor_freq']]\n",
    "\n",
    "    greater[\"normal\"] = greater['major'] + \"\" + greater['major']\n",
    "    equal[\"normal\"] = equal['major'] + \"\" + equal['major'] #TODO\n",
    "    smaller[\"normal\"] = smaller['minor'] + \"\" + smaller['minor']\n",
    "    \n",
    "    x = pd.concat([greater,equal,smaller], axis=0)\n",
    "    x = x.sort_values(by=['rs_id'])\n",
    "    reference = x[\"normal\"].values\n",
    "    reference = np.expand_dims(reference, axis=1)\n",
    "    return reference\n",
    "\n",
    "doubleminor = getHeterozygous(maf)"
   ]
  },
  {
   "cell_type": "code",
   "execution_count": 24,
   "metadata": {},
   "outputs": [],
   "source": [
    "data = np.zeros(beacon.shape, dtype=np.int8)\n",
    "data[beacon==doubleminor] = 1\n",
    "data[beacon==reference] = 2\n",
    "data[beacon==\"NN\"] = 3\n",
    "beacon_ = pd.DataFrame(data=data, index=beacon.index, columns=beacon.columns, dtype=\"category\")"
   ]
  },
  {
   "cell_type": "code",
   "execution_count": 48,
   "metadata": {},
   "outputs": [],
   "source": [
    "with open(join(opensnpPath, \"QuadBeacon.pickle\"), 'wb') as handle:\n",
    "    pickle.dump(beacon_, handle, protocol=4)"
   ]
  },
  {
   "cell_type": "code",
   "execution_count": 50,
   "metadata": {},
   "outputs": [
    {
     "data": {
      "text/plain": [
       "20"
      ]
     },
     "execution_count": 50,
     "metadata": {},
     "output_type": "execute_result"
    }
   ],
   "source": [
    "gc.collect()"
   ]
  },
  {
   "cell_type": "code",
   "execution_count": null,
   "metadata": {},
   "outputs": [],
   "source": []
  }
 ],
 "metadata": {
  "kernelspec": {
   "display_name": "Python 3",
   "language": "python",
   "name": "python3"
  },
  "language_info": {
   "codemirror_mode": {
    "name": "ipython",
    "version": 3
   },
   "file_extension": ".py",
   "mimetype": "text/x-python",
   "name": "python",
   "nbconvert_exporter": "python",
   "pygments_lexer": "ipython3",
   "version": "3.7.4"
  }
 },
 "nbformat": 4,
 "nbformat_minor": 2
}

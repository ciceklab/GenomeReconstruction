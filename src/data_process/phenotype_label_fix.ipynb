{
 "cells": [
  {
   "cell_type": "code",
   "execution_count": 1,
   "metadata": {},
   "outputs": [
    {
     "data": {
      "text/html": [
       "<style>.container { width:85% !important; }</style>"
      ],
      "text/plain": [
       "<IPython.core.display.HTML object>"
      ]
     },
     "metadata": {},
     "output_type": "display_data"
    }
   ],
   "source": [
    "import numpy as np\n",
    "import pandas as pd\n",
    "import os\n",
    "from os import listdir\n",
    "from os.path import isfile, join, getsize, dirname\n",
    "from collections import Counter, OrderedDict\n",
    "import shutil\n",
    "import warnings\n",
    "import h5py\n",
    "import pickle\n",
    "import matplotlib.pyplot as plt\n",
    "import random\n",
    "warnings.filterwarnings('ignore')\n",
    "path = \"../../../../../zion/OpenSNP/people\"\n",
    "meta = \"../../../../../zion/OpenSNP/original\"\n",
    "beacons = \"../../../../../zion/OpenSNP/beacon\"\n",
    "phenotype = \"../../../../../zion/OpenSNP/phenotypes\"\n",
    "from IPython.core.display import display, HTML\n",
    "display(HTML(\"<style>.container { width:85% !important; }</style>\"))"
   ]
  },
  {
   "cell_type": "code",
   "execution_count": 2,
   "metadata": {},
   "outputs": [],
   "source": [
    "def findUserIndex(filename):\n",
    "    filename = filename[4:]\n",
    "    return int(filename.split(\"_\")[0])\n",
    "\n",
    "def findFileIndex(filename):\n",
    "    return int(filename.split(\"_\")[1][4:])"
   ]
  },
  {
   "cell_type": "code",
   "execution_count": 3,
   "metadata": {},
   "outputs": [],
   "source": [
    "# Corrupted file cut\n",
    "files = np.array([f for f in listdir(path) if isfile(join(path, f))], dtype=str)\n",
    "types = []\n",
    "sizes = []\n",
    "for f in files:\n",
    "    types.append(f.split(\".\")[-2])\n",
    "    sizes.append(getsize(join(path,f)))\n",
    "types = np.array(types)\n",
    "sizes = np.array(sizes)\n",
    "Counter(types)\n",
    "ind = np.logical_and(types == \"23andme\", sizes > 15 * 1000000)\n",
    "files = files[ind]\n",
    "\n",
    "# Deal with multiple file people, select newest one\n",
    "user_filename = {}\n",
    "for f in files:\n",
    "    user_filename.setdefault(int(findUserIndex(f)),[]).append(f)\n",
    "multiple_files = {k:v for (k,v) in user_filename.items() if len(v) > 1}\n",
    "\n",
    "for m in multiple_files:\n",
    "    f_names = multiple_files.get(m)\n",
    "    selected = [findFileIndex(item) for item in f_names]\n",
    "    selected = selected.index(max(selected))\n",
    "    for i in range(len(f_names)):\n",
    "        if i != selected:\n",
    "            index = np.argwhere(files==f_names[i])\n",
    "            files = np.delete(files, index)\n",
    "\n",
    "user_filename = {}\n",
    "for f in files:\n",
    "    user_filename[int(findUserIndex(f))] = f\n",
    "user_ind = np.array(list(user_filename.keys()))"
   ]
  },
  {
   "cell_type": "code",
   "execution_count": 4,
   "metadata": {},
   "outputs": [],
   "source": [
    "# 3034 User remaining\n",
    "################################################################################################################################"
   ]
  },
  {
   "cell_type": "code",
   "execution_count": 5,
   "metadata": {},
   "outputs": [],
   "source": [
    "features = ['Eye color',\n",
    "            'Colour Blindness',\n",
    "            'Hair Type',\n",
    "            'Hair Color',\n",
    "            'Ability to Tan',\n",
    "            'Asthma',\n",
    "            'Lactose intolerance',\n",
    "            'Blood type',\n",
    "            'Earwax type',\n",
    "            'Freckling',\n",
    "            'Tongue roller',\n",
    "            'ring finger longer than index finger',\n",
    "            'Beard Color',\n",
    "            'Intolerance: gluten, casein, soy',\n",
    "            'chrom_sex',\n",
    "            'Handedness',\n",
    "            'Widow\\'s Peak',\n",
    "            'ADHD',\n",
    "            'Acrophobia',\n",
    "            'hair on fingers',\n",
    "            'Short-sightedness (Myopia)',\n",
    "            'Irritable Bowel Syndrome',\n",
    "            'Index Toe Longer than Big Toe',\n",
    "            'Photic Sneeze Reflex (Photoptarmis)',\n",
    "            'Migraine',\n",
    "             #Mergings\n",
    "            'ABO Rh ',\n",
    "            'eye colour'\n",
    "            #,'RhProtein'\n",
    "             ]"
   ]
  },
  {
   "cell_type": "code",
   "execution_count": 6,
   "metadata": {},
   "outputs": [],
   "source": [
    "renamed = [ 'EyeColor',\n",
    "            'ColorBlindness',\n",
    "            'HairType',\n",
    "            'HairColor',\n",
    "            'TanAbility',\n",
    "            'Asthma',\n",
    "            'LactoseIntolerance',\n",
    "            'BloodType',\n",
    "            'EarWax',\n",
    "            'Freckling',\n",
    "            'TongueRoller',\n",
    "            'RingFinger',\n",
    "            'BeardColor',\n",
    "            'Intolerance',\n",
    "            'Sex',\n",
    "            'Handedness',\n",
    "            'WidowPeak',\n",
    "            'ADHD',\n",
    "            'Acrophobia',\n",
    "            'FingerHair',\n",
    "            'Myopia',\n",
    "            'IrritableBowel',\n",
    "            'IndexLongerBig',\n",
    "            'Photoptarmis',\n",
    "            'Migraine',\n",
    "             #Mergings\n",
    "            'BloodType2',\n",
    "            'EyeColor2']"
   ]
  },
  {
   "cell_type": "code",
   "execution_count": 7,
   "metadata": {},
   "outputs": [],
   "source": [
    "# Read phenotype file\n",
    "pheno = pd.read_csv(join(meta, \"phenotypes_201811100342.csv\"), sep=\";\")\n",
    "pheno = pheno.sort_values(by=['user_id'])\n",
    "pheno = pheno.drop(['date_of_birth', 'openhumans_name'], axis=1)\n",
    "pheno.set_index('user_id', inplace=True)\n",
    "pheno[pheno == \"rather not say\"] = \"-\"\n",
    "\n",
    "# Drop duplicate values\n",
    "pheno = pheno.loc[user_ind]\n",
    "pheno = pheno.loc[~pheno.index.duplicated(keep='first')]"
   ]
  },
  {
   "cell_type": "code",
   "execution_count": 8,
   "metadata": {
    "scrolled": false
   },
   "outputs": [],
   "source": [
    "# Test the density\n",
    "density = [(pheno.columns.values[i], np.sum(pheno[pheno.columns.values[i]] != \"-\", axis=0)) for i in range(len(pheno.columns.values))]\n",
    "density = sorted(density, key=lambda x: x[1], reverse=True)\n",
    "#Counter(pheno[\"brown hair colour\"].values)"
   ]
  },
  {
   "cell_type": "code",
   "execution_count": 9,
   "metadata": {},
   "outputs": [
    {
     "name": "stdout",
     "output_type": "stream",
     "text": [
      "(3034, 27)\n"
     ]
    }
   ],
   "source": [
    "pheno = pheno[features]\n",
    "\n",
    "pheno.columns = renamed\n",
    "pheno.fillna(\"-\", inplace=True)\n",
    "pheno.sort_index(inplace=True)\n",
    "print(pheno.shape)"
   ]
  },
  {
   "cell_type": "code",
   "execution_count": 10,
   "metadata": {},
   "outputs": [],
   "source": [
    "# Merge duplicate columns\n",
    "missing = pheno[\"EyeColor2\"][np.logical_and(pheno[\"EyeColor\"] == \"-\", pheno[\"EyeColor2\"] != \"-\")]\n",
    "pheno[\"EyeColor\"][np.logical_and(pheno[\"EyeColor\"] == \"-\", pheno[\"EyeColor2\"] != \"-\")] = missing\n",
    "\n",
    "missing = pheno[\"BloodType2\"][np.logical_and(pheno[\"BloodType\"] == \"-\", pheno[\"BloodType2\"] != \"-\")]\n",
    "pheno[\"BloodType\"][np.logical_and(pheno[\"BloodType\"] == \"-\", pheno[\"BloodType2\"] != \"-\")] = missing\n",
    "\n",
    "pheno[\"RhProtein\"] = pheno[\"BloodType\"].copy()\n",
    "\n",
    "del pheno[\"BloodType2\"]\n",
    "del pheno[\"EyeColor2\"]"
   ]
  },
  {
   "cell_type": "markdown",
   "metadata": {},
   "source": [
    "# Eye Color"
   ]
  },
  {
   "cell_type": "code",
   "execution_count": 11,
   "metadata": {},
   "outputs": [
    {
     "data": {
      "text/plain": [
       "Counter({'Blue': 366,\n",
       "         'Brown': 322,\n",
       "         '-': 2045,\n",
       "         'Green': 104,\n",
       "         'Hazel': 175,\n",
       "         nan: 22})"
      ]
     },
     "execution_count": 11,
     "metadata": {},
     "output_type": "execute_result"
    }
   ],
   "source": [
    "# Blue-Green\n",
    "pheno[\"EyeColor\"][pheno[\"EyeColor\"] == \"Blue, grey, green, changing\"] = \"Blue-green\" \n",
    "pheno[\"EyeColor\"][pheno[\"EyeColor\"] == \"blue-green \"] = \"Blue-green\" \n",
    "pheno[\"EyeColor\"][pheno[\"EyeColor\"] == \"Blue-green; amber collarette, and gray-blue ringing\"] = \"Blue-green\"\n",
    "pheno[\"EyeColor\"][pheno[\"EyeColor\"] == \"Blue-green \"] = \"Blue-green\" \n",
    "pheno[\"EyeColor\"][pheno[\"EyeColor\"] == \"blue-green\"] = \"Blue-green\" \n",
    "pheno[\"EyeColor\"][pheno[\"EyeColor\"] == \"Blue-green-grey\"] = \"Blue-green\" \n",
    "pheno[\"EyeColor\"][pheno[\"EyeColor\"] == \"Light blue-green\"] = \"Blue-green\" \n",
    "pheno[\"EyeColor\"][pheno[\"EyeColor\"] == \"Blue/green\"] = \"Blue-green\"\n",
    "\n",
    "# Blue\n",
    "pheno[\"EyeColor\"][pheno[\"EyeColor\"] == \"blue\"] = \"Blue\" \n",
    "pheno[\"EyeColor\"][pheno[\"EyeColor\"] == \"Blue with yellow parts\"] = \"Blue\" \n",
    "pheno[\"EyeColor\"][pheno[\"EyeColor\"] == \"Blue with a yellow ring of flecks that make my eyes look green depending on the light or my  mood     \"] = \"Blue\" \n",
    "pheno[\"EyeColor\"][pheno[\"EyeColor\"] == \"Dark blue\"] = \"Blue\"\n",
    "pheno[\"EyeColor\"][pheno[\"EyeColor\"] == \"blue-grey\"] = \"Blue\" # Blue-Gray\n",
    "pheno[\"EyeColor\"][pheno[\"EyeColor\"] == \"gray-blue\"] = \"Blue\" \n",
    "pheno[\"EyeColor\"][pheno[\"EyeColor\"] == \"Blue-grey; broken amber collarette\"] = \"Blue\" \n",
    "pheno[\"EyeColor\"][pheno[\"EyeColor\"] == \"Gray-blue\"] = \"Blue\" \n",
    "pheno[\"EyeColor\"][pheno[\"EyeColor\"] == \"Dark Grayish-Blue Eyes (like a stone)\"] = \"Blue\" \n",
    "pheno[\"EyeColor\"][pheno[\"EyeColor\"] == \"Blue grey\"] = \"Blue\" \n",
    "pheno[\"EyeColor\"][pheno[\"EyeColor\"] == \"Blue/gray\"] = \"Blue\"\n",
    "pheno[\"EyeColor\"][pheno[\"EyeColor\"] == \"Blue-grey\"] = \"Blue\"\n",
    "\n",
    "# Green \n",
    "pheno[\"EyeColor\"][pheno[\"EyeColor\"] == \"Green \"] = \"Green\" \n",
    "pheno[\"EyeColor\"][pheno[\"EyeColor\"] == \"green\"] = \"Green\" \n",
    "pheno[\"EyeColor\"][pheno[\"EyeColor\"] == \"Green-gray\"] = \"Green\" \n",
    "pheno[\"EyeColor\"][pheno[\"EyeColor\"] == \"Ambar-Green\"] = \"Green\" \n",
    "pheno[\"EyeColor\"][pheno[\"EyeColor\"] == \"Light-mixed Green\"] = \"Green\" \n",
    "pheno[\"EyeColor\"][pheno[\"EyeColor\"] == \"Ambar-green\"] = \"Green\" \n",
    "pheno[\"EyeColor\"][pheno[\"EyeColor\"] == \"Light-mixed green\"] = \"Green\" \n",
    "pheno[\"EyeColor\"][pheno[\"EyeColor\"] == \"Green with blue halo\"] = \"Green\"\n",
    "pheno[\"EyeColor\"][pheno[\"EyeColor\"] == \"Green with amber burst and gray outer ring\"] = \"Green\"\n",
    "pheno[\"EyeColor\"][pheno[\"EyeColor\"] == \"Brown inner, dark green outer\"] = \"Green\"\n",
    "\n",
    "# Brown\n",
    "pheno[\"EyeColor\"][pheno[\"EyeColor\"] == \"brown\"] = \"Brown\"\n",
    "pheno[\"EyeColor\"][pheno[\"EyeColor\"] == \"Grey brown\"] = \"Brown\" \n",
    "pheno[\"EyeColor\"][pheno[\"EyeColor\"] == \"Brown - Brown and green in bright sunlight\"] = \"Brown\" \n",
    "pheno[\"EyeColor\"][pheno[\"EyeColor\"] == \"Olive-Brown ringing Burnt Umber-Brown\"] = \"Brown\" \n",
    "pheno[\"EyeColor\"][pheno[\"EyeColor\"] == \"Olive-brown ringing burnt umber-brown\"] = \"Brown\" \n",
    "pheno[\"EyeColor\"][pheno[\"EyeColor\"] == \"Brown-(green when external temperature rises)\"] = \"Brown\" \n",
    "pheno[\"EyeColor\"][pheno[\"EyeColor\"] == \"Brown green starburs\"] = \"Brown\"\n",
    "pheno[\"EyeColor\"][pheno[\"EyeColor\"] == \"Grey and Amber\"] = \"Brown\"\n",
    "pheno[\"EyeColor\"][pheno[\"EyeColor\"] == \"Brown/black\"] = \"Brown\" \n",
    "pheno[\"EyeColor\"][pheno[\"EyeColor\"] == \"Dark brown\"] = \"Brown\"\n",
    "\n",
    "# Hazel\n",
    "pheno[\"EyeColor\"][pheno[\"EyeColor\"] == \"Green-hazel\"] = \"Hazel\"\n",
    "pheno[\"EyeColor\"][pheno[\"EyeColor\"] == \"Hazel (brown/green)\"] = \"Hazel\"\n",
    "pheno[\"EyeColor\"][pheno[\"EyeColor\"] == \"Hazel/Yellow\"] = \"Hazel\" \n",
    "pheno[\"EyeColor\"][pheno[\"EyeColor\"] == \"Amber/brown\"] = \"Hazel\"\n",
    "pheno[\"EyeColor\"][pheno[\"EyeColor\"] == \"Brown green starburst\"] = \"Hazel\"\n",
    "pheno[\"EyeColor\"][pheno[\"EyeColor\"] == \"brown green starburst\"] = \"Hazel\"\n",
    "pheno[\"EyeColor\"][pheno[\"EyeColor\"] == \"Green yellow\"] = \"Hazel\"\n",
    "pheno[\"EyeColor\"][pheno[\"EyeColor\"] == \"Hazel, olive green with amber starburst\"] = \"Hazel\"\n",
    "pheno[\"EyeColor\"][pheno[\"EyeColor\"] == \"Brown-green\"] = \"Hazel\"\n",
    "pheno[\"EyeColor\"][pheno[\"EyeColor\"] == \"hazel\"] = \"Hazel\" \n",
    "pheno[\"EyeColor\"][pheno[\"EyeColor\"] == \"Hazel/Light Brown\"] = \"Hazel\" \n",
    "pheno[\"EyeColor\"][pheno[\"EyeColor\"] == \"Hazel/light brown\"] = \"Hazel\" \n",
    "pheno[\"EyeColor\"][pheno[\"EyeColor\"] == \"Hazel (light brown, dark green, dark blue)\"] = \"Hazel\" \n",
    "pheno[\"EyeColor\"][pheno[\"EyeColor\"] == \"brown-green\"] = \"Hazel\" # brown-green\n",
    "pheno[\"EyeColor\"][pheno[\"EyeColor\"] == \"Green-brown\"] = \"Hazel\"\n",
    "pheno[\"EyeColor\"][pheno[\"EyeColor\"] == \"green-brown\"] = \"Hazel\" \n",
    "pheno[\"EyeColor\"][pheno[\"EyeColor\"] == \"Indeterminate brown-green with a subtle grey caste\"] = \"Hazel\" \n",
    "pheno[\"EyeColor\"][pheno[\"EyeColor\"] == \"Brown - brown and green in bright sunlight\"] = \"Hazel\" \n",
    "pheno[\"EyeColor\"][pheno[\"EyeColor\"] == \"indeterminate brown-green with a subtle grey caste\"] = \"Hazel\" \n",
    "\n",
    "# Other\n",
    "pheno[\"EyeColor\"][pheno[\"EyeColor\"] == \"Mixed\"] = \"Other\" \n",
    "pheno[\"EyeColor\"][pheno[\"EyeColor\"] == \"Rs12913832 aa\"] = \"Other\" \n",
    "pheno[\"EyeColor\"][pheno[\"EyeColor\"] == \"rs12913832 AG (they\"] = \"Other\" \n",
    "pheno[\"EyeColor\"][pheno[\"EyeColor\"] == \"Gg\"] = \"Other\" \n",
    "pheno[\"EyeColor\"][pheno[\"EyeColor\"] == \"GG\"] = \"Other\" \n",
    "pheno[\"EyeColor\"][pheno[\"EyeColor\"] == \"Split - one side dark blue / other side light blue and green\"] = \"Other\" \n",
    "pheno[\"EyeColor\"][pheno[\"EyeColor\"] == \"Rs12913832 ag (they\"] = \"Other\" \n",
    "pheno[\"EyeColor\"][pheno[\"EyeColor\"] == \"blue-brown heterochromia\"] = \"Other\" \n",
    "pheno[\"EyeColor\"][pheno[\"EyeColor\"] == \"Amber - (yellow/ocre  brown)\"] = \"Other\" \n",
    "pheno[\"EyeColor\"][pheno[\"EyeColor\"] == \"The very first phenotype listed is \\\"eye colour\\\".  you have created a duplicate.  please read the list of phenotypes before adding a new one.\"] = \"Other\" \n",
    "pheno[\"EyeColor\"][pheno[\"EyeColor\"] == \"Ice blue mixed with slate blue, with an amber pupil burst in both eyes and a brown spot adjacent to lower left pupil. eyes were green into my 20's.\"] = \"Other\"\n",
    "pheno[\"EyeColor\"][pheno[\"EyeColor\"] == \"Blue/green/gold\"] = \"Other\"\n",
    "pheno[\"EyeColor\"][pheno[\"EyeColor\"] == \"blue spot of brown\"] = \"Other\"\n",
    "pheno[\"EyeColor\"] = pheno[\"EyeColor\"][pheno[\"EyeColor\"] != \"Other\"]\n",
    "\n",
    "# Not Decided\n",
    "pheno[\"EyeColor\"][pheno[\"EyeColor\"] == \"Blue-green\"] = \"Blue\"\n",
    "\n",
    "Counter(pheno[\"EyeColor\"])"
   ]
  },
  {
   "cell_type": "code",
   "execution_count": 12,
   "metadata": {},
   "outputs": [
    {
     "data": {
      "text/plain": [
       "Counter({'Blonde': 134,\n",
       "         '-': 2562,\n",
       "         'Brown': 259,\n",
       "         'Auburn': 35,\n",
       "         'Black': 40,\n",
       "         nan: 4})"
      ]
     },
     "execution_count": 12,
     "metadata": {},
     "output_type": "execute_result"
    }
   ],
   "source": [
    "''' 2. HAIR COLOR '''\n",
    "# Dark Brown\n",
    "pheno[\"HairColor\"][pheno[\"HairColor\"] == \"Dark Brown\"] = \"DarkBrown\" \n",
    "pheno[\"HairColor\"][pheno[\"HairColor\"] == \"Dark brown\"] = \"DarkBrown\" \n",
    "pheno[\"HairColor\"][pheno[\"HairColor\"] == \"Darkest brown to black\"] = \"DarkBrown\" \n",
    "pheno[\"HairColor\"][pheno[\"HairColor\"] == \"Dark brown; red highlights\"] = \"DarkBrown\" \n",
    "pheno[\"HairColor\"][pheno[\"HairColor\"] == \"dark brown\"] = \"DarkBrown\" \n",
    "pheno[\"HairColor\"][pheno[\"HairColor\"] == \"Dark brown; blonde highlights\"] = \"DarkBrown\"\n",
    "pheno[\"HairColor\"][pheno[\"HairColor\"] == \"Blackish brown\"] = \"DarkBrown\" \n",
    "pheno[\"HairColor\"][pheno[\"HairColor\"] == \"Brown-black\"] = \"DarkBrown\" \n",
    "pheno[\"HairColor\"][pheno[\"HairColor\"] == \"Brown-Black\"] = \"DarkBrown\" \n",
    "\n",
    "# Brown\n",
    "pheno[\"HairColor\"][pheno[\"HairColor\"] == \"brown\"] = \"Brown\" \n",
    "pheno[\"HairColor\"][pheno[\"HairColor\"] == \"Medium brown\"] = \"Brown\" \n",
    "pheno[\"HairColor\"][pheno[\"HairColor\"] == \"Light to Medium brown\"] = \"Brown\" \n",
    "pheno[\"HairColor\"][pheno[\"HairColor\"] == \"Light to medium brown\"] = \"Brown\" \n",
    "pheno[\"HairColor\"][pheno[\"HairColor\"] == \"Medium brown with highlights\"] = \"Brown\" \n",
    "pheno[\"HairColor\"][pheno[\"HairColor\"] == \"Chestnut brown\"] = \"Brown\" \n",
    "pheno[\"HairColor\"][pheno[\"HairColor\"] == \"Brown and silver\"] = \"Brown\" \n",
    "\n",
    "# Blonde\n",
    "pheno[\"HairColor\"][pheno[\"HairColor\"] == \"Dirty blonde, light brown, something?\"] = \"Blonde\" \n",
    "pheno[\"HairColor\"][pheno[\"HairColor\"] == \"Blond\"] = \"Blonde\" \n",
    "pheno[\"HairColor\"][pheno[\"HairColor\"] == \"Blond born, today dark brown\"] = \"Blonde\" \n",
    "pheno[\"HairColor\"][pheno[\"HairColor\"] == \"blond born, today dark brown\"] = \"Blonde\" \n",
    "pheno[\"HairColor\"][pheno[\"HairColor\"] == \"Blond as a child and light brown as an adult\"] = \"Blonde\" \n",
    "pheno[\"HairColor\"][pheno[\"HairColor\"] == \"Blonde as a child, light brown as an adult\"] = \"Blonde\" \n",
    "pheno[\"HairColor\"][pheno[\"HairColor\"] == \"blonde as a child, to brown as an adult\"] = \"Blonde\" \n",
    "pheno[\"HairColor\"][pheno[\"HairColor\"] == \"Blonde as a child, to brown as an adult\"] = \"Blonde\" \n",
    "pheno[\"HairColor\"][pheno[\"HairColor\"] == \"Hair darkening with age, starting blonde, ending dark brown\"] = \"Blonde\" \n",
    "pheno[\"HairColor\"][pheno[\"HairColor\"] == \"Dirt-brown\"] = \"Blonde\" \n",
    "pheno[\"HairColor\"][pheno[\"HairColor\"] == \"Dirt-blonde\"] = \"Blonde\" \n",
    "pheno[\"HairColor\"][pheno[\"HairColor\"] == \"Dirt-Brown\"] = \"Blonde\" \n",
    "pheno[\"HairColor\"][pheno[\"HairColor\"] == \"Dirt-Blonde\"] = \"Blonde\" \n",
    "pheno[\"HairColor\"][pheno[\"HairColor\"] == \"Strawberry blonde\"] = \"Blonde\"\n",
    "\n",
    "# Dark Blonde\n",
    "pheno[\"HairColor\"][pheno[\"HairColor\"] == \"Dark blonde (light brown)\"] = \"DarkBlonde\" \n",
    "pheno[\"HairColor\"][pheno[\"HairColor\"] == \"Dark blonde with a little of every colour but black.\"] = \"DarkBlonde\" \n",
    "pheno[\"HairColor\"][pheno[\"HairColor\"] == \"Dark blonde as a child, dark brown as an adult\"] = \"DarkBlonde\" \n",
    "pheno[\"HairColor\"][pheno[\"HairColor\"] == \"Light ashy brown\"] = \"DarkBlonde\" \n",
    "pheno[\"HairColor\"][pheno[\"HairColor\"] == \"Light brown\"] = \"DarkBlonde\" \n",
    "pheno[\"HairColor\"][pheno[\"HairColor\"] == \"Blonde to light brown as child, medium brown as adult with blonde highlights from sun\"] = \"DarkBlonde\" \n",
    "\n",
    "# Auburn\n",
    "pheno[\"HairColor\"][pheno[\"HairColor\"] == \"Auburn (Reddish-Brown)\"] = \"Auburn\" \n",
    "pheno[\"HairColor\"][pheno[\"HairColor\"] == \"Auburn (reddish-brown)\"] = \"Auburn\" \n",
    "pheno[\"HairColor\"][pheno[\"HairColor\"] == \"Strawberry brown\"] = \"Auburn\" \n",
    "pheno[\"HairColor\"][pheno[\"HairColor\"] == \"medium brown, red highlights\"] = \"Auburn\" \n",
    "pheno[\"HairColor\"][pheno[\"HairColor\"] == \"Reddish-brown\"] = \"Auburn\" \n",
    "pheno[\"HairColor\"][pheno[\"HairColor\"] == \"Medium brown, red highlights\"] = \"Auburn\" \n",
    "pheno[\"HairColor\"][pheno[\"HairColor\"] == \"Red\"] = \"Auburn\" \n",
    "pheno[\"HairColor\"][pheno[\"HairColor\"] == \"Red (gone blond-grey)\"] = \"Auburn\" \n",
    "pheno[\"HairColor\"][pheno[\"HairColor\"] == \"red\"] = \"Auburn\"\n",
    "\n",
    "# Other\n",
    "pheno[\"HairColor\"][pheno[\"HairColor\"] == \"CC\"] = \"Other\" \n",
    "pheno[\"HairColor\"][pheno[\"HairColor\"] == \"Cc\"] = \"Other\" \n",
    "pheno[\"HairColor\"][pheno[\"HairColor\"] == \"Born pure white, darkens to near black\"] = \"Other\" \n",
    "pheno[\"HairColor\"] = pheno[\"HairColor\"][pheno[\"HairColor\"] != \"Other\"]\n",
    "\n",
    "# Fix\n",
    "pheno[\"HairColor\"][pheno[\"HairColor\"] == \"DarkBlonde\"] = \"Blonde\" \n",
    "pheno[\"HairColor\"][pheno[\"HairColor\"] == \"DarkBrown\"] = \"Brown\" \n",
    "#pheno[\"HairColor\"][pheno[\"HairColor\"] == \"Auburn\"] = \"Blonde\" \n",
    "#pheno[\"HairColor\"][pheno[\"HairColor\"] == \"Black\"] = \"Brown\" \n",
    "\n",
    "Counter(pheno[\"HairColor\"])"
   ]
  },
  {
   "cell_type": "code",
   "execution_count": 13,
   "metadata": {},
   "outputs": [
    {
     "data": {
      "text/plain": [
       "Counter({'Straight': 145, '-': 2650, 'Wavy': 120, 'Curly': 106, nan: 13})"
      ]
     },
     "execution_count": 13,
     "metadata": {},
     "output_type": "execute_result"
    }
   ],
   "source": [
    "''' 3. HAIR TYPE '''\n",
    "# Straight\n",
    "pheno[\"HairType\"][pheno[\"HairType\"] == \"Mostly straight\"] = \"Straight\" \n",
    "pheno[\"HairType\"][pheno[\"HairType\"] == \"Thick, dense, straight\"] = \"Straight\" \n",
    "pheno[\"HairType\"][pheno[\"HairType\"] == \"Black, straight\"] = \"Straight\" \n",
    "pheno[\"HairType\"][pheno[\"HairType\"] == \"Brown, straight, slight wave\"] = \"Straight\" \n",
    "pheno[\"HairType\"][pheno[\"HairType\"] == \"Thick,wavy,straight\"] = \"Straight\" \n",
    "pheno[\"HairType\"][pheno[\"HairType\"] == \"straight\"] = \"Straight\" \n",
    "pheno[\"HairType\"][pheno[\"HairType\"] == \"Brown, straight\"] = \"Straight\"\n",
    "pheno[\"HairType\"][pheno[\"HairType\"] == \"Red, straight\"] = \"Straight\" \n",
    "pheno[\"HairType\"][pheno[\"HairType\"] == \"thick,wavy,straight\"] = \"Straight\" \n",
    "pheno[\"HairType\"][pheno[\"HairType\"] == \"Thick, straight with slight wave that flips outward near chin/neck length, mostly straight, multiple cow licks in back\"] = \"Straight\" \n",
    "pheno[\"HairType\"][pheno[\"HairType\"] == \"Mostly Straight\"] = \"Straight\" \n",
    "pheno[\"HairType\"][pheno[\"HairType\"] == \"Red, Straight\"] = \"Straight\" \n",
    "pheno[\"HairType\"][pheno[\"HairType\"] == \"Fine but straight\"] = \"Straight\" \n",
    "pheno[\"HairType\"][pheno[\"HairType\"] == \"Straight but when moist get little bit wavy\"] = \"Straight\" \n",
    "pheno[\"HairType\"][pheno[\"HairType\"] == \"Slightly straighter than average\"] = \"Straight\" \n",
    "pheno[\"HairType\"][pheno[\"HairType\"] == \"Stick-straight *everywhere* but pubic region\"] = \"Straight\" \n",
    "\n",
    "# Curly\n",
    "pheno[\"HairType\"][pheno[\"HairType\"] == \"Fine/brown/curly\"] = \"Curly\" \n",
    "pheno[\"HairType\"][pheno[\"HairType\"] == \"Coarse, thick, curly\"] = \"Curly\" \n",
    "pheno[\"HairType\"][pheno[\"HairType\"] == \"Brown, curly\"] = \"Curly\" \n",
    "pheno[\"HairType\"][pheno[\"HairType\"] == \"brown, fine, curly\"] = \"Curly\" \n",
    "pheno[\"HairType\"][pheno[\"HairType\"] == \"Thick, slightly curly\"] = \"Curly\" \n",
    "pheno[\"HairType\"][pheno[\"HairType\"] == \"Brown, fine, curly\"] = \"Curly\" \n",
    "pheno[\"HairType\"][pheno[\"HairType\"] == \"Brown, straight,\"] = \"Curly\" \n",
    "pheno[\"HairType\"][pheno[\"HairType\"] == \"Fine, thin, curly\"] = \"Curly\" \n",
    "pheno[\"HairType\"][pheno[\"HairType\"] == \"Thick, curls with length\"] = \"Curly\" \n",
    "pheno[\"HairType\"][pheno[\"HairType\"] == \"Medium, loose curls\"] = \"Curly\" \n",
    "pheno[\"HairType\"][pheno[\"HairType\"] == \"Mixed straight in some areas, curly in other sections\"] = \"Curly\" \n",
    "\n",
    "# Wavy-Curly\n",
    "pheno[\"HairType\"][pheno[\"HairType\"] == \"Wavy-curly\"] = \"WavyCurly\" \n",
    "pheno[\"HairType\"][pheno[\"HairType\"] == \"Wavy-Curly\"] = \"WavyCurly\" \n",
    "pheno[\"HairType\"][pheno[\"HairType\"] == \"Large volume of fine curly/wavy hair\"] = \"WavyCurly\" \n",
    "pheno[\"HairType\"][pheno[\"HairType\"] == \"wavy-curly\"] = \"WavyCurly\" \n",
    "pheno[\"HairType\"][pheno[\"HairType\"] == \"Thick, brown, wavy/curly\"] = \"WavyCurly\" \n",
    "pheno[\"HairType\"][pheno[\"HairType\"] == \"Red, wavy-curly, dense \"] = \"WavyCurly\" \n",
    "pheno[\"HairType\"][pheno[\"HairType\"] == \"Thick, fine, wavey-to-curly\"] = \"WavyCurly\" \n",
    "pheno[\"HairType\"][pheno[\"HairType\"] == \"red, wavy-curly, dense \"] = \"WavyCurly\" \n",
    "pheno[\"HairType\"][pheno[\"HairType\"] == \"thick, brown, wavy/curly\"] = \"WavyCurly\" \n",
    "pheno[\"HairType\"][pheno[\"HairType\"] == \"Straight fine until 30's, became wavy to curly after\"] = \"WavyCurly\" \n",
    "pheno[\"HairType\"][pheno[\"HairType\"] == \"Fine, thin, loose curls as a child, straight with a minor wave as an adult\"] = \"WavyCurly\" \n",
    "\n",
    "# Wavy\n",
    "pheno[\"HairType\"][pheno[\"HairType\"] == \"Wavy-curly\"] = \"Wavy\" \n",
    "pheno[\"HairType\"][pheno[\"HairType\"] == \"Fine, wavy\"] = \"Wavy\" \n",
    "pheno[\"HairType\"][pheno[\"HairType\"] == \"Medium thickness/wavy\"] = \"Wavy\" \n",
    "pheno[\"HairType\"][pheno[\"HairType\"] == \"Red, fine, wavy and dense\"] = \"Wavy\" \n",
    "pheno[\"HairType\"][pheno[\"HairType\"] == \"Brown, slightly wavy\"] = \"Wavy\" \n",
    "pheno[\"HairType\"][pheno[\"HairType\"] == \"Fine, thin, slightly wavy\"] = \"Wavy\" \n",
    "pheno[\"HairType\"][pheno[\"HairType\"] == \"Fine, dense, body wave\"] = \"Wavy\" \n",
    "pheno[\"HairType\"][pheno[\"HairType\"] == \"Coarse,thick,wavy\"] = \"Wavy\" \n",
    "pheno[\"HairType\"][pheno[\"HairType\"] == \"Dense, slightly wavy\"] = \"Wavy\" \n",
    "pheno[\"HairType\"][pheno[\"HairType\"] == \"Baby fine/slightly wavy\"] = \"Wavy\" \n",
    "pheno[\"HairType\"][pheno[\"HairType\"] == \"baby fine, slightly wavy, later straight\"] = \"Wavy\" \n",
    "pheno[\"HairType\"][pheno[\"HairType\"] == \"Baby fine, slightly wavy, later straight\"] = \"Wavy\" \n",
    "pheno[\"HairType\"][pheno[\"HairType\"] == \"Near black, thick, slightly wavy\"] = \"Wavy\" \n",
    "pheno[\"HairType\"][pheno[\"HairType\"] == \"near black, thick, slightly wavy\"] = \"Wavy\" \n",
    "\n",
    "# Other\n",
    "pheno[\"HairType\"][pheno[\"HairType\"] == \"Rs17646946 gg\"] = \"Other\" \n",
    "pheno[\"HairType\"][pheno[\"HairType\"] == \"GG\"] = \"Other\" \n",
    "pheno[\"HairType\"][pheno[\"HairType\"] == \"Thin, fine, thinned with age\"] = \"Other\" \n",
    "pheno[\"HairType\"][pheno[\"HairType\"] == \"Fine, never gets long, breaks off at the end\"] = \"Other\" \n",
    "pheno[\"HairType\"][pheno[\"HairType\"] == \"Bald\"] = \"Other\" \n",
    "pheno[\"HairType\"] = pheno[\"HairType\"][pheno[\"HairType\"] != \"Other\"]\n",
    "\n",
    "pheno[\"HairType\"][pheno[\"HairType\"] == \"WavyCurly\"] = \"Curly\" \n",
    "#pheno[\"HairType\"][pheno[\"HairType\"] == \"Curly\"] = \"Wavy\" \n",
    "\n",
    "Counter(pheno[\"HairType\"])"
   ]
  },
  {
   "cell_type": "code",
   "execution_count": 14,
   "metadata": {},
   "outputs": [
    {
     "data": {
      "text/plain": [
       "Counter({'Yes': 112, '-': 2744, 'Medium': 112, 'No': 63, nan: 3})"
      ]
     },
     "execution_count": 14,
     "metadata": {},
     "output_type": "execute_result"
    }
   ],
   "source": [
    "''' 4. TAN ABILITY '''\n",
    "# No\n",
    "pheno[\"TanAbility\"][pheno[\"TanAbility\"] == \"None\"] = \"No\" \n",
    "pheno[\"TanAbility\"][pheno[\"TanAbility\"] == \"No tan, just freckles\"] = \"No\" \n",
    "pheno[\"TanAbility\"][pheno[\"TanAbility\"] == \"No problem with tanning after i corrected vit. d deficiency\"] = \"No\" \n",
    "pheno[\"TanAbility\"][pheno[\"TanAbility\"] == \"none\"] = \"No\" \n",
    "pheno[\"TanAbility\"][pheno[\"TanAbility\"] == \"Burn then tan\"] = \"No\" \n",
    "pheno[\"TanAbility\"][pheno[\"TanAbility\"] == \"Burn \"] = \"No\" \n",
    "\n",
    "# Yes\n",
    "pheno[\"TanAbility\"][pheno[\"TanAbility\"] == \"I stay dark year round\"] = \"Yes\" \n",
    "pheno[\"TanAbility\"][pheno[\"TanAbility\"] == \"Coarse, thick, curly\"] = \"Yes\" \n",
    "pheno[\"TanAbility\"][pheno[\"TanAbility\"] == \"Brown, curly\"] = \"Yes\" \n",
    "pheno[\"TanAbility\"][pheno[\"TanAbility\"] == \"I burn in some places and tan in others\"] = \"Yes\" \n",
    "pheno[\"TanAbility\"][pheno[\"TanAbility\"] == \"Easily deeply tan & rarely burn\"] = \"Yes\" \n",
    "\n",
    "# Medium\n",
    "pheno[\"TanAbility\"][pheno[\"TanAbility\"] == \"Moderate\"] = \"Medium\" \n",
    "pheno[\"TanAbility\"][pheno[\"TanAbility\"] == \"moderate\"] = \"Medium\" \n",
    "pheno[\"TanAbility\"][pheno[\"TanAbility\"] == \"poor\"] = \"Medium\" \n",
    "pheno[\"TanAbility\"][pheno[\"TanAbility\"] == \"Poor\"] = \"Medium\" \n",
    "pheno[\"TanAbility\"][pheno[\"TanAbility\"] == \"Freckled, burn very quickly, a bit of tan\"] = \"Medium\" \n",
    "\n",
    "# Other\n",
    "pheno[\"TanAbility\"][pheno[\"TanAbility\"] == \"Had Melanoma\"] = \"Other\" \n",
    "pheno[\"TanAbility\"][pheno[\"TanAbility\"] == \"Sun sensitivity with history of sun poisoning\"] = \"Other\" \n",
    "pheno[\"TanAbility\"] = pheno[\"TanAbility\"][pheno[\"TanAbility\"] != \"Other\"]\n",
    "\n",
    "Counter(pheno[\"TanAbility\"])"
   ]
  },
  {
   "cell_type": "code",
   "execution_count": 15,
   "metadata": {},
   "outputs": [
    {
     "data": {
      "text/plain": [
       "Counter({'No': 129, '-': 2808, 'Yes': 97})"
      ]
     },
     "execution_count": 15,
     "metadata": {},
     "output_type": "execute_result"
    }
   ],
   "source": [
    "''' 5. ASTHMA '''\n",
    "# No\n",
    "pheno[\"Asthma\"][pheno[\"Asthma\"] == \"None\"] = \"No\" \n",
    "pheno[\"Asthma\"][pheno[\"Asthma\"] == \"False\"] = \"No\" \n",
    "pheno[\"Asthma\"][pheno[\"Asthma\"] == \"no\"] = \"No\" \n",
    "pheno[\"Asthma\"][pheno[\"Asthma\"] == \"No (but i'm not sure)\"] = \"No\"\n",
    "\n",
    "# Yes\n",
    "pheno[\"Asthma\"][pheno[\"Asthma\"] == \"Asthma, secondary to allergies\"] = \"Yes\" \n",
    "pheno[\"Asthma\"][pheno[\"Asthma\"] == \"Late onset asthma\"] = \"Yes\" \n",
    "pheno[\"Asthma\"][pheno[\"Asthma\"] == \"Chronic asthma\"] = \"Yes\" \n",
    "pheno[\"Asthma\"][pheno[\"Asthma\"] == \"Cold-induced, worse when younger\"] = \"Yes\" \n",
    "pheno[\"Asthma\"][pheno[\"Asthma\"] == \"Asthmatic, \"] = \"Yes\" \n",
    "pheno[\"Asthma\"][pheno[\"Asthma\"] == \"slight\"] = \"Yes\" \n",
    "pheno[\"Asthma\"][pheno[\"Asthma\"] == \"Chronic Asthma\"] = \"Yes\" \n",
    "pheno[\"Asthma\"][pheno[\"Asthma\"] == \"Asthma, mostly during childhood\"] = \"Yes\" \n",
    "pheno[\"Asthma\"][pheno[\"Asthma\"] == \"Chronic Asthma, Allergen & Cold Induced\"] = \"Yes\" \n",
    "pheno[\"Asthma\"][pheno[\"Asthma\"] == \"cough variant asthma\"] = \"Yes\" \n",
    "pheno[\"Asthma\"][pheno[\"Asthma\"] == \"Slight\"] = \"Yes\" \n",
    "pheno[\"Asthma\"][pheno[\"Asthma\"] == \"Chronic Asthma\"] = \"Yes\" \n",
    "pheno[\"Asthma\"][pheno[\"Asthma\"] == \"Chronic asthma, allergen & cold induced\"] = \"Yes\" \n",
    "pheno[\"Asthma\"][pheno[\"Asthma\"] == \"Exercise-induced\"] = \"Yes\" \n",
    "\n",
    "# Childhood ??\n",
    "pheno[\"Asthma\"][pheno[\"Asthma\"] == \"Asthma, mostly during Childhood\"] = \"Childhood\" \n",
    "pheno[\"Asthma\"][pheno[\"Asthma\"] == \"Asthma, mostly during childhood\"] = \"Childhood\" \n",
    "pheno[\"Asthma\"][pheno[\"Asthma\"] == \"Childhood Asthma; No asthma as an adult\"] = \"Childhood\" \n",
    "pheno[\"Asthma\"][pheno[\"Asthma\"] == \"Allergy induced, mainly when younger\"] = \"Childhood\" \n",
    "pheno[\"Asthma\"][pheno[\"Asthma\"] == \"Had as a child, not anymore\"] = \"Childhood\" \n",
    "pheno[\"Asthma\"][pheno[\"Asthma\"] == \"Childhood asthma; no asthma as an adult\"] = \"Childhood\" \n",
    "pheno[\"Asthma\"][pheno[\"Asthma\"] == \"Severely asthmatic as a child, mildly as an adult (allergy and weather induced)\"] = \"Childhood\" \n",
    "\n",
    "pheno[\"Asthma\"][pheno[\"Asthma\"] == \"Childhood\"] = \"Yes\" \n",
    "\n",
    "Counter(pheno[\"Asthma\"])"
   ]
  },
  {
   "cell_type": "code",
   "execution_count": 16,
   "metadata": {},
   "outputs": [
    {
     "data": {
      "text/plain": [
       "Counter({'Tolerant': 235, 'Intolerant': 112, '-': 2683, nan: 4})"
      ]
     },
     "execution_count": 16,
     "metadata": {},
     "output_type": "execute_result"
    }
   ],
   "source": [
    "''' 6. LACTOSE INTOLERANCE '''\n",
    "# Tolerant\n",
    "pheno[\"LactoseIntolerance\"][pheno[\"LactoseIntolerance\"] == \"Lactose-tolerant\"] = \"Tolerant\" \n",
    "pheno[\"LactoseIntolerance\"][pheno[\"LactoseIntolerance\"] == \"Lactose tolerant\"] = \"Tolerant\" \n",
    "pheno[\"LactoseIntolerance\"][pheno[\"LactoseIntolerance\"] == \"lactose-tolerant\"] = \"Tolerant\" \n",
    "pheno[\"LactoseIntolerance\"][pheno[\"LactoseIntolerance\"] == \"lactose tolerant\"] = \"Tolerant\" \n",
    "pheno[\"LactoseIntolerance\"][pheno[\"LactoseIntolerance\"] == \"False\"] = \"Tolerant\" \n",
    "\n",
    "# Intolerant\n",
    "pheno[\"LactoseIntolerance\"][pheno[\"LactoseIntolerance\"] == \"Partially lactose intolerant - surfaces with a lot of dairy products in one day\"] = \"Intolerant\" \n",
    "pheno[\"LactoseIntolerance\"][pheno[\"LactoseIntolerance\"] == \"Lactose-intolerant\"] = \"Intolerant\" \n",
    "pheno[\"LactoseIntolerance\"][pheno[\"LactoseIntolerance\"] == \"lactose-intolerant\"] = \"Intolerant\" \n",
    "pheno[\"LactoseIntolerance\"][pheno[\"LactoseIntolerance\"] == \"Lactose intolerant\"] = \"Intolerant\" \n",
    "pheno[\"LactoseIntolerance\"][pheno[\"LactoseIntolerance\"] == \"Genetically intolerant but drink raw milk and eat lots of dairy.\"] = \"Intolerant\" \n",
    "pheno[\"LactoseIntolerance\"][pheno[\"LactoseIntolerance\"] == \"Slight lactose intolerance\"] = \"Intolerant\" \n",
    "pheno[\"LactoseIntolerance\"][pheno[\"LactoseIntolerance\"] == \" Allergic to all forms of dairy \"] = \"Intolerant\" \n",
    "pheno[\"LactoseIntolerance\"][pheno[\"LactoseIntolerance\"] == \"Genetically intolerant, partial intolerance.\"] = \"Intolerant\" \n",
    "pheno[\"LactoseIntolerance\"][pheno[\"LactoseIntolerance\"] == \" allergic to all forms of dairy \"] = \"Intolerant\" \n",
    "\n",
    "# Other\n",
    "pheno[\"LactoseIntolerance\"][pheno[\"LactoseIntolerance\"] == \"AA\"] = \"Other\" \n",
    "pheno[\"LactoseIntolerance\"][pheno[\"LactoseIntolerance\"] == \"Genetically tolerant-extrememly lactose intolerant\"] = \"Other\" \n",
    "pheno[\"LactoseIntolerance\"] = pheno[\"LactoseIntolerance\"][pheno[\"LactoseIntolerance\"] != \"Other\"]\n",
    "\n",
    "Counter(pheno[\"LactoseIntolerance\"])"
   ]
  },
  {
   "cell_type": "markdown",
   "metadata": {},
   "source": [
    "# Rh Protein"
   ]
  },
  {
   "cell_type": "code",
   "execution_count": 17,
   "metadata": {},
   "outputs": [
    {
     "data": {
      "text/plain": [
       "Counter({'Positive': 240, '-': 2721, 'Negative': 71, nan: 2})"
      ]
     },
     "execution_count": 17,
     "metadata": {},
     "output_type": "execute_result"
    }
   ],
   "source": [
    "# +\n",
    "pheno[\"RhProtein\"][pheno[\"RhProtein\"] == \"A+ Secretor / Saliva Non Secretor!!\"] = \"Positive\"\n",
    "pheno[\"RhProtein\"][pheno[\"RhProtein\"] == \"A+\"] = \"Positive\" \n",
    "pheno[\"RhProtein\"][pheno[\"RhProtein\"] == \"B+\"] = \"Positive\" \n",
    "pheno[\"RhProtein\"][pheno[\"RhProtein\"] == \"0+\"] = \"Positive\" \n",
    "pheno[\"RhProtein\"][pheno[\"RhProtein\"] == \"AB+\"] = \"Positive\" \n",
    "pheno[\"RhProtein\"][pheno[\"RhProtein\"] == \"b+\"] = \"Positive\" \n",
    "pheno[\"RhProtein\"][pheno[\"RhProtein\"] == \"A+ (A/O) \"] = \"Positive\" \n",
    "\n",
    "pheno[\"RhProtein\"][pheno[\"RhProtein\"] == \"O +\"] = \"Positive\" \n",
    "pheno[\"RhProtein\"][pheno[\"RhProtein\"] == \"A+ (a/o) \"] = \"Positive\" \n",
    "pheno[\"RhProtein\"][pheno[\"RhProtein\"] == \"ABO  Kidd:  AG \\tJk(a+b+)\"] = \"Positive\" \n",
    "pheno[\"RhProtein\"][pheno[\"RhProtein\"] == \"A+ (AO/+-) Non-Secretor\"] = \"Positive\" \n",
    "pheno[\"RhProtein\"][pheno[\"RhProtein\"] == \"A2B+\"] = \"Positive\" \n",
    "pheno[\"RhProtein\"][pheno[\"RhProtein\"] == \"Ab+\"] = \"Positive\" \n",
    "pheno[\"RhProtein\"][pheno[\"RhProtein\"] == \"A+ (ao/+-) non-secretor\"] = \"Positive\" \n",
    "\n",
    "pheno[\"RhProtein\"][pheno[\"RhProtein\"] == \"O/o +/-\"] = \"Positive\" \n",
    "pheno[\"RhProtein\"][pheno[\"RhProtein\"] == \"AO/O +/-\"] = \"Positive\" \n",
    "pheno[\"RhProtein\"][pheno[\"RhProtein\"] == \"O+\"] = \"Positive\" \n",
    "pheno[\"RhProtein\"][pheno[\"RhProtein\"] == \"O/O +/-\"] = \"Positive\" \n",
    "\n",
    "# -\n",
    "pheno[\"RhProtein\"][pheno[\"RhProtein\"] == \"Ab-\"] = \"Negative\" \n",
    "pheno[\"RhProtein\"][pheno[\"RhProtein\"] == \"B-\"] = \"Negative\" \n",
    "pheno[\"RhProtein\"][pheno[\"RhProtein\"] == \"A-\"] = \"Negative\" \n",
    "pheno[\"RhProtein\"][pheno[\"RhProtein\"] == \"Rh-\"] = \"Negative\" \n",
    "pheno[\"RhProtein\"][pheno[\"RhProtein\"] == \"o rh negative\"] = \"Negative\" \n",
    "pheno[\"RhProtein\"][pheno[\"RhProtein\"] == \"O-\"] = \"Negative\" \n",
    "\n",
    "pheno[\"RhProtein\"][pheno[\"RhProtein\"] == \"Dont know\"] = \"Other\" \n",
    "pheno[\"RhProtein\"] = pheno[\"RhProtein\"][pheno[\"RhProtein\"] != \"Other\"]\n",
    "\n",
    "Counter(pheno[\"RhProtein\"])"
   ]
  },
  {
   "cell_type": "markdown",
   "metadata": {},
   "source": [
    "# Blood Type"
   ]
  },
  {
   "cell_type": "code",
   "execution_count": 18,
   "metadata": {},
   "outputs": [
    {
     "data": {
      "text/plain": [
       "Counter({'A': 114, '-': 2721, 'B': 66, 'O': 130, nan: 3})"
      ]
     },
     "execution_count": 18,
     "metadata": {},
     "output_type": "execute_result"
    }
   ],
   "source": [
    "# A\n",
    "pheno[\"BloodType\"][pheno[\"BloodType\"] == \"A+ Secretor / Saliva Non Secretor!!\"] = \"A\" \n",
    "pheno[\"BloodType\"][pheno[\"BloodType\"] == \"A+ (A/O) \"] = \"A\" \n",
    "pheno[\"BloodType\"][pheno[\"BloodType\"] == \"A+ (a/o) \"] = \"A\" \n",
    "pheno[\"BloodType\"][pheno[\"BloodType\"] == \"A+ (ao/+-) non-secretor\"] = \"A\" \n",
    "pheno[\"BloodType\"][pheno[\"BloodType\"] == \"A+ (AO/+-) Non-Secretor\"] = \"A\" \n",
    "pheno[\"BloodType\"][pheno[\"BloodType\"] == \"A-\"] = \"A\" \n",
    "pheno[\"BloodType\"][pheno[\"BloodType\"] == \"A+\"] = \"A\" \n",
    "\n",
    "# B\n",
    "pheno[\"BloodType\"][pheno[\"BloodType\"] == \"b+\"] = \"B\" \n",
    "pheno[\"BloodType\"][pheno[\"BloodType\"] == \"B-\"] = \"B\" \n",
    "pheno[\"BloodType\"][pheno[\"BloodType\"] == \"B+\"] = \"B\" \n",
    "\n",
    "# 0\n",
    "pheno[\"BloodType\"][pheno[\"BloodType\"] == \"O/O +/-\"] = \"O\" \n",
    "pheno[\"BloodType\"][pheno[\"BloodType\"] == \"0+\"] = \"O\" \n",
    "pheno[\"BloodType\"][pheno[\"BloodType\"] == \"O/o +/-\"] = \"O\" \n",
    "pheno[\"BloodType\"][pheno[\"BloodType\"] == \"O+\"] = \"O\" \n",
    "pheno[\"BloodType\"][pheno[\"BloodType\"] == \"o rh negative\"] = \"O\" \n",
    "pheno[\"BloodType\"][pheno[\"BloodType\"] == \"0-\"] = \"O\" \n",
    "pheno[\"BloodType\"][pheno[\"BloodType\"] == \"O-\"] = \"O\" \n",
    "pheno[\"BloodType\"][pheno[\"BloodType\"] == \"O +\"] = \"O\" \n",
    "\n",
    "# AB\n",
    "pheno[\"BloodType\"][pheno[\"BloodType\"] == \"Ab+\"] = \"AB\" \n",
    "pheno[\"BloodType\"][pheno[\"BloodType\"] == \"A2B+\"] = \"AB\" \n",
    "pheno[\"BloodType\"][pheno[\"BloodType\"] == \"Ab-\"] = \"AB\"\n",
    "pheno[\"BloodType\"][pheno[\"BloodType\"] == \"AB+\"] = \"AB\" \n",
    "pheno[\"BloodType\"][pheno[\"BloodType\"] == \"AB-\"] = \"AB-\" \n",
    "pheno[\"BloodType\"][pheno[\"BloodType\"] == \"ABO  Kidd:  AG \\tJk(a+b+)\"] = \"AB\" \n",
    "pheno[\"BloodType\"][pheno[\"BloodType\"] == \"AB\"] = \"B\" \n",
    "\n",
    "# TODO\n",
    "#Counter(pheno[\"BloodType2\"].values)\n",
    "\n",
    "# Other\n",
    "pheno[\"BloodType\"][pheno[\"BloodType\"] == \"Dont know\"] = \"Other\"\n",
    "pheno[\"BloodType\"][pheno[\"BloodType\"] == \"Rh-\"] = \"Other\" \n",
    "pheno[\"BloodType\"] = pheno[\"BloodType\"][pheno[\"BloodType\"] != \"Other\"]\n",
    "\n",
    "Counter(pheno[\"BloodType\"])"
   ]
  },
  {
   "cell_type": "code",
   "execution_count": 19,
   "metadata": {},
   "outputs": [
    {
     "data": {
      "text/plain": [
       "Counter({'Wet': 180, '-': 2786, 'Mixed': 36, nan: 4, 'Dry': 28})"
      ]
     },
     "execution_count": 19,
     "metadata": {},
     "output_type": "execute_result"
    }
   ],
   "source": [
    "''' 8. EARWAX '''\n",
    "# Wet\n",
    "pheno[\"EarWax\"][pheno[\"EarWax\"] == \"C/T wet\"] = \"Wet\" \n",
    "\n",
    "# Dry\n",
    "pheno[\"EarWax\"][pheno[\"EarWax\"] == \"Wet-Dry (hetero)\"] = \"Mixed\"\n",
    "pheno[\"EarWax\"][pheno[\"EarWax\"] == \"Wet, dry\"] = \"Mixed\"\n",
    "pheno[\"EarWax\"][pheno[\"EarWax\"] == \"Varies with humidity/amt. of ambient dust (heterozygous)\"] = \"Mixed\"\n",
    "pheno[\"EarWax\"][pheno[\"EarWax\"] == \"Wet-dry (hetero)\"] = \"Mixed\"\n",
    "\n",
    "# Other\n",
    "pheno[\"EarWax\"][pheno[\"EarWax\"] == \"Cc\"] = \"Other\"\n",
    "pheno[\"EarWax\"][pheno[\"EarWax\"] == \"CC\"] = \"Other\" \n",
    "pheno[\"EarWax\"] = pheno[\"EarWax\"][pheno[\"EarWax\"] != \"Other\"]\n",
    "\n",
    "Counter(pheno[\"EarWax\"])"
   ]
  },
  {
   "cell_type": "code",
   "execution_count": 20,
   "metadata": {},
   "outputs": [
    {
     "data": {
      "text/plain": [
       "Counter({'No': 99, '-': 2755, 'Light': 111, nan: 2, 'Yes': 67})"
      ]
     },
     "execution_count": 20,
     "metadata": {},
     "output_type": "execute_result"
    }
   ],
   "source": [
    "''' 9. FRECKLING '''\n",
    "# No\n",
    "pheno[\"Freckling\"][pheno[\"Freckling\"] == \"None on face - many on shoulders\"] = \"No\" \n",
    "pheno[\"Freckling\"][pheno[\"Freckling\"] == \"None\"] = \"No\" \n",
    "pheno[\"Freckling\"][pheno[\"Freckling\"] == \"none\"] = \"No\" \n",
    "\n",
    "# Light\n",
    "pheno[\"Freckling\"][pheno[\"Freckling\"] == \"Light freckles all over, more when exposed to sun.\"] = \"Light\"\n",
    "pheno[\"Freckling\"][pheno[\"Freckling\"] == \"Light, more as a child\"] = \"Light\"\n",
    "pheno[\"Freckling\"][pheno[\"Freckling\"] == \"Some\"] = \"Light\"\n",
    "pheno[\"Freckling\"][pheno[\"Freckling\"] == \"some\"] = \"Light\"\n",
    "pheno[\"Freckling\"][pheno[\"Freckling\"] == \"Tiny amount\"] = \"Light\"\n",
    "pheno[\"Freckling\"][pheno[\"Freckling\"] == \"Slight\"] = \"Light\"\n",
    "pheno[\"Freckling\"][pheno[\"Freckling\"] == \"tiny amount\"] = \"Light\"\n",
    "pheno[\"Freckling\"][pheno[\"Freckling\"] == \"light, more as a child\"] = \"Light\"\n",
    "pheno[\"Freckling\"][pheno[\"Freckling\"] == \"I haven´t ,only in hand-light\"] = \"Light\"\n",
    "pheno[\"Freckling\"][pheno[\"Freckling\"] == \"Freckles only with sun\"] = \"Light\"\n",
    "pheno[\"Freckling\"][pheno[\"Freckling\"] == \"i haven´t ,only in hand-light\"] = \"Light\"\n",
    "pheno[\"Freckling\"][pheno[\"Freckling\"] == \"Light reddish freckling with sun\"] = \"Light\"\n",
    "pheno[\"Freckling\"][pheno[\"Freckling\"] == \"Very few freckles and the ones i do have are not visible\"] = \"Light\"\n",
    "\n",
    "# Yes\n",
    "pheno[\"Freckling\"][pheno[\"Freckling\"] == \"Moderate\"] = \"Yes\"\n",
    "pheno[\"Freckling\"][pheno[\"Freckling\"] == \"Across face, across arms, some light on shoulders. had more in childhood.\"] = \"Yes\"\n",
    "pheno[\"Freckling\"][pheno[\"Freckling\"] == \"Across face, across arms, some light on shoulders. Had more in childhood.\"] = \"Yes\"\n",
    "pheno[\"Freckling\"][pheno[\"Freckling\"] == \"Extensive\"] = \"Yes\"\n",
    "pheno[\"Freckling\"][pheno[\"Freckling\"] == \"Not the cute kinds \"] = \"Yes\"\n",
    "pheno[\"Freckling\"][pheno[\"Freckling\"] == \"Heavy on face, light on shoulders\"] = \"Yes\"\n",
    "pheno[\"Freckling\"][pheno[\"Freckling\"] == \"Heavy\"] = \"Yes\"\n",
    "pheno[\"Freckling\"][pheno[\"Freckling\"] == \"Medium\"] = \"Yes\"\n",
    "\n",
    "# Other\n",
    "pheno[\"Freckling\"][pheno[\"Freckling\"] == \"Ct\"] = \"Other\"\n",
    "pheno[\"Freckling\"][pheno[\"Freckling\"] == \"CT\"] = \"Other\"\n",
    "pheno[\"Freckling\"] = pheno[\"Freckling\"][pheno[\"Freckling\"] != \"Other\"]\n",
    "\n",
    "#pheno[\"Freckling\"][pheno[\"Freckling\"] == \"Light\"] = \"Yes\"\n",
    "\n",
    "Counter(pheno[\"Freckling\"])"
   ]
  },
  {
   "cell_type": "code",
   "execution_count": 21,
   "metadata": {},
   "outputs": [
    {
     "data": {
      "text/plain": [
       "Counter({'Yes': 353, '-': 2600, 'No': 81})"
      ]
     },
     "execution_count": 21,
     "metadata": {},
     "output_type": "execute_result"
    }
   ],
   "source": [
    "''' 10. TONGUE ROLLER '''\n",
    "# No\n",
    "pheno[\"TongueRoller\"][pheno[\"TongueRoller\"] == \"Non-roller\"] = \"No\" \n",
    "pheno[\"TongueRoller\"][pheno[\"TongueRoller\"] == \"Non-Roller\"] = \"No\" \n",
    "pheno[\"TongueRoller\"][pheno[\"TongueRoller\"] == \"No, but my siblings (7) can roll\"] = \"No\" \n",
    "pheno[\"TongueRoller\"][pheno[\"TongueRoller\"] == \"Non \"] = \"No\" \n",
    "pheno[\"TongueRoller\"][pheno[\"TongueRoller\"] == \"No, but parent and a sibling can.\"] = \"No\" \n",
    "\n",
    "# Yes\n",
    "pheno[\"TongueRoller\"][pheno[\"TongueRoller\"] == \"Tongue roller\"] = \"Yes\"\n",
    "pheno[\"TongueRoller\"][pheno[\"TongueRoller\"] == \"Roller\"] = \"Yes\"\n",
    "pheno[\"TongueRoller\"][pheno[\"TongueRoller\"] == \"Tongue folder\"] = \"Yes\"\n",
    "pheno[\"TongueRoller\"][pheno[\"TongueRoller\"] == \"Tongue roller, can fold tongue into 3-leaf clover shape\"] = \"Yes\"\n",
    "pheno[\"TongueRoller\"][pheno[\"TongueRoller\"] == \"roller\"] = \"Yes\"\n",
    "\n",
    "Counter(pheno[\"TongueRoller\"])"
   ]
  },
  {
   "cell_type": "code",
   "execution_count": 22,
   "metadata": {},
   "outputs": [
    {
     "data": {
      "text/plain": [
       "Counter({'Blonde': 16,\n",
       "         '-': 2854,\n",
       "         nan: 41,\n",
       "         'Brown': 75,\n",
       "         'DarkBrown': 28,\n",
       "         'Black': 20})"
      ]
     },
     "execution_count": 22,
     "metadata": {},
     "output_type": "execute_result"
    }
   ],
   "source": [
    "''' 11. BEARD COLOR '''\n",
    "# Brown\n",
    "pheno[\"BeardColor\"][pheno[\"BeardColor\"] == \"Brown-grey\"] = \"Brown\"\n",
    "pheno[\"BeardColor\"][pheno[\"BeardColor\"] == \"Red-brown\"] = \"Brown\"\n",
    "pheno[\"BeardColor\"][pheno[\"BeardColor\"] == \"Was red-brown now mixed with gray,\"] = \"Brown\"\n",
    "pheno[\"BeardColor\"][pheno[\"BeardColor\"] == \"red-brown\"] = \"Brown\"\n",
    "pheno[\"BeardColor\"][pheno[\"BeardColor\"] == \"Red-blonde-brown-black(in diferent parts i have different color,for example near the lips blond-red\"] = \"Brown\"\n",
    "pheno[\"BeardColor\"][pheno[\"BeardColor\"] == \"Red-Blonde-Brown-Black(in diferent parts i have different color,for example near the lips blond-red\"] = \"Brown\"\n",
    "pheno[\"BeardColor\"][pheno[\"BeardColor\"] == \"Was red-brown now mixed with gray,\"] = \"Brown\"\n",
    "pheno[\"BeardColor\"][pheno[\"BeardColor\"] == \"Brown-gray\"] = \"Brown\"\n",
    "pheno[\"BeardColor\"][pheno[\"BeardColor\"] == \"Brown, some red\"] = \"Brown\"\n",
    "pheno[\"BeardColor\"][pheno[\"BeardColor\"] == \"was red-brown now mixed with gray,\"] = \"Brown\"\n",
    "pheno[\"BeardColor\"][pheno[\"BeardColor\"] == \"Red-blonde-brown-black\"] = \"Brown\"\n",
    "pheno[\"BeardColor\"][pheno[\"BeardColor\"] == \"Red-blonde-brown\"] = \"Brown\"\n",
    "pheno[\"BeardColor\"][pheno[\"BeardColor\"] == \"Red-Blonde-Brown-Black\"] = \"Brown\"\n",
    "pheno[\"BeardColor\"][pheno[\"BeardColor\"] == \"Red\"] = \"Brown\"\n",
    "pheno[\"BeardColor\"][pheno[\"BeardColor\"] == \"Red, moustache still is, beard mostly white\"] = \"Brown\"\n",
    "\n",
    "# Dark Brown\n",
    "pheno[\"BeardColor\"][pheno[\"BeardColor\"] == \"Brown-black\"] = \"DarkBrown\"\n",
    "pheno[\"BeardColor\"][pheno[\"BeardColor\"] == \"Brown-black\"] = \"DarkBrown\"\n",
    "pheno[\"BeardColor\"][pheno[\"BeardColor\"] == \"Dark brown\"] = \"DarkBrown\"\n",
    "pheno[\"BeardColor\"][pheno[\"BeardColor\"] == \"Dark brown with minor blondish-red\"] = \"DarkBrown\"\n",
    "pheno[\"BeardColor\"][pheno[\"BeardColor\"] == \"Dark Brown w/few Blonde & Red Hairs\"] = \"DarkBrown\"\n",
    "pheno[\"BeardColor\"][pheno[\"BeardColor\"] == \"dark brown with minor blondish-red\"] = \"DarkBrown\"\n",
    "pheno[\"BeardColor\"][pheno[\"BeardColor\"] == \"Dark brown w/few blonde & red hairs\"] = \"DarkBrown\"\n",
    "pheno[\"BeardColor\"][pheno[\"BeardColor\"] == \"Black-brown-blonde\"] = \"DarkBrown\"\n",
    "\n",
    "# Black\n",
    "pheno[\"BeardColor\"][pheno[\"BeardColor\"] == \"black with few white hairs\"] = \"Black\"\n",
    "pheno[\"BeardColor\"][pheno[\"BeardColor\"] == \"Black with few red hairs\"] = \"Black\"\n",
    "pheno[\"BeardColor\"][pheno[\"BeardColor\"] == \"Black with few white hairs\"] = \"Black\"\n",
    "pheno[\"BeardColor\"][pheno[\"BeardColor\"] == \"Black, graying\"] = \"Black\"\n",
    "\n",
    "# Blonde\n",
    "pheno[\"BeardColor\"][pheno[\"BeardColor\"] == \"Blonde/brown-some black-and red on chin-all starting to gray\"] = \"Blonde\"\n",
    "pheno[\"BeardColor\"][pheno[\"BeardColor\"] == \"blonde-brown\"] = \"Blonde\"\n",
    "pheno[\"BeardColor\"][pheno[\"BeardColor\"] == \"Blond-brown\"] = \"Blonde\"\n",
    "pheno[\"BeardColor\"][pheno[\"BeardColor\"] == \"blonde-brown\"] = \"Blonde\"\n",
    "pheno[\"BeardColor\"][pheno[\"BeardColor\"] == \"Blonde-brown\"] = \"Blonde\"\n",
    "pheno[\"BeardColor\"][pheno[\"BeardColor\"] == \"Dark blonde with red and light blonde on goatee area.\"] = \"Blonde\"\n",
    "\n",
    "# Other\n",
    "pheno[\"BeardColor\"][pheno[\"BeardColor\"] == \"every possible color, most hair shafts have more than one color at different points along the shaft\"] = \"Other\"\n",
    "pheno[\"BeardColor\"][pheno[\"BeardColor\"] == \"No beard-female\"] = \"Other\"\n",
    "pheno[\"BeardColor\"][pheno[\"BeardColor\"] == \"never had a beard\"] = \"Other\"\n",
    "pheno[\"BeardColor\"][pheno[\"BeardColor\"] == \"I'm a woman\"] = \"Other\"\n",
    "pheno[\"BeardColor\"][pheno[\"BeardColor\"] == \"i'm a woman\"] = \"Other\"\n",
    "pheno[\"BeardColor\"][pheno[\"BeardColor\"] == \"never had a beard\"] = \"Other\"\n",
    "pheno[\"BeardColor\"][pheno[\"BeardColor\"] == \"Never had a beard\"] = \"Other\"\n",
    "\n",
    "pheno[\"BeardColor\"] = pheno[\"BeardColor\"][pheno[\"BeardColor\"] != \"Other\"]\n",
    "\n",
    "Counter(pheno[\"BeardColor\"])"
   ]
  },
  {
   "cell_type": "code",
   "execution_count": 23,
   "metadata": {},
   "outputs": [
    {
     "data": {
      "text/plain": [
       "Counter({'Yes': 174, '-': 2766, 'No': 94})"
      ]
     },
     "execution_count": 23,
     "metadata": {},
     "output_type": "execute_result"
    }
   ],
   "source": [
    "''' 12. RING FINGER '''\n",
    "# No\n",
    "pheno[\"RingFinger\"][pheno[\"RingFinger\"] == \"Equal\"] = \"No\" \n",
    "pheno[\"RingFinger\"][pheno[\"RingFinger\"] == \"equal\"] = \"No\" \n",
    "pheno[\"RingFinger\"][pheno[\"RingFinger\"] == \"Left hand: yes / right hand: equal\"] = \"No\" \n",
    "\n",
    "# Yes\n",
    "pheno[\"RingFinger\"][pheno[\"RingFinger\"] == \"yes\"] = \"Yes\"\n",
    "pheno[\"RingFinger\"][pheno[\"RingFinger\"] == \"Both ring fingers are longer than my index fingers.\"] = \"Yes\"\n",
    "pheno[\"RingFinger\"][pheno[\"RingFinger\"] == \"Both ring fingers are longer than my index fingers, but my right ring finger is 1-2 mm longer than the left one.\"] = \"Yes\"\n",
    "\n",
    "Counter(pheno[\"RingFinger\"])"
   ]
  },
  {
   "cell_type": "code",
   "execution_count": 24,
   "metadata": {},
   "outputs": [
    {
     "data": {
      "text/plain": [
       "Counter({'NoIntolerance': 105, '-': 2889, nan: 9, 'Intolerant': 31})"
      ]
     },
     "execution_count": 24,
     "metadata": {},
     "output_type": "execute_result"
    }
   ],
   "source": [
    "''' 13. INTOLERANCE '''\n",
    "# NoIntolerance\n",
    "pheno[\"Intolerance\"][pheno[\"Intolerance\"] == \"no intolerance\"] = \"NoIntolerance\" \n",
    "pheno[\"Intolerance\"][pheno[\"Intolerance\"] == \"No intolerance\"] = \"NoIntolerance\" \n",
    "pheno[\"Intolerance\"][pheno[\"Intolerance\"] == \"rs2300753 CC and no intolerance\"] = \"NoIntolerance\" \n",
    "pheno[\"Intolerance\"][pheno[\"Intolerance\"] == \"Rs2300753 CC and no intolerance\"] = \"NoIntolerance\" \n",
    "pheno[\"Intolerance\"][pheno[\"Intolerance\"] == \"Rs2300753 cc and no intolerance\"] = \"NoIntolerance\" \n",
    "pheno[\"Intolerance\"][pheno[\"Intolerance\"] == \"rs4988235 aa no intolerance\"] = \"NoIntolerance\" \n",
    "pheno[\"Intolerance\"][pheno[\"Intolerance\"] == \"No but close family member with gluten intolerance\"] = \"NoIntolerance\" \n",
    "\n",
    "# Intolerant to smt\n",
    "pheno[\"Intolerance\"][pheno[\"Intolerance\"] == \"Soy Intolerant\"] = \"Intolerant\"\n",
    "pheno[\"Intolerance\"][pheno[\"Intolerance\"] == \"Gluten & casein intolerant, soy tolerant\"] = \"Intolerant\"\n",
    "pheno[\"Intolerance\"][pheno[\"Intolerance\"] == \"Gluten, casein, and soy intolerant\"] = \"Intolerant\"\n",
    "pheno[\"Intolerance\"][pheno[\"Intolerance\"] == \"Casein intolerance\"] = \"Intolerant\"\n",
    "pheno[\"Intolerance\"][pheno[\"Intolerance\"] == \"Gluten intolerance\"] = \"Intolerant\"\n",
    "pheno[\"Intolerance\"][pheno[\"Intolerance\"] == \"gluten & casein intolerant, soy tolerant\"] = \"Intolerant\"\n",
    "pheno[\"Intolerance\"][pheno[\"Intolerance\"] == \"Gluten, soy and corn intolerant \"] = \"Intolerant\"\n",
    "pheno[\"Intolerance\"][pheno[\"Intolerance\"] == \"Lactose\"] = \"Intolerant\"\n",
    "pheno[\"Intolerance\"][pheno[\"Intolerance\"] == \"Soy intolerant\"] = \"Intolerant\"\n",
    "pheno[\"Intolerance\"][pheno[\"Intolerance\"] == \"Wheat intolerant\"] = \"Intolerant\"\n",
    "pheno[\"Intolerance\"][pheno[\"Intolerance\"] == \"Celiac, casein intolerant, soy intolerant\"] = \"Intolerant\"\n",
    "pheno[\"Intolerance\"][pheno[\"Intolerance\"] == \"Possible celiac\"] = \"Intolerant\"\n",
    "pheno[\"Intolerance\"][pheno[\"Intolerance\"] == \"possible celiac\"] = \"Intolerant\"\n",
    "\n",
    "# Other\n",
    "pheno[\"Intolerance\"][pheno[\"Intolerance\"] == \"Rs2300753 cc\"] = \"Other\"\n",
    "pheno[\"Intolerance\"][pheno[\"Intolerance\"] == \" rs4988235 AG likely to be tolerant\"] = \"Other\"\n",
    "pheno[\"Intolerance\"][pheno[\"Intolerance\"] == \"rs2300753 CC\"] = \"Other\"\n",
    "pheno[\"Intolerance\"][pheno[\"Intolerance\"] == \"rs2300753 CC\"] = \"Other\"\n",
    "pheno[\"Intolerance\"][pheno[\"Intolerance\"] == \"rs2300753 CC\"] = \"Other\"\n",
    "pheno[\"Intolerance\"] = pheno[\"Intolerance\"][pheno[\"Intolerance\"] != \"Other\"]\n",
    "\n",
    "Counter(pheno[\"Intolerance\"])"
   ]
  },
  {
   "cell_type": "code",
   "execution_count": 25,
   "metadata": {},
   "outputs": [
    {
     "data": {
      "text/plain": [
       "Counter({'No': 351, '-': 2664, 'Yes': 19})"
      ]
     },
     "execution_count": 25,
     "metadata": {},
     "output_type": "execute_result"
    }
   ],
   "source": [
    "''' 14. COLOR BLINDNESS '''\n",
    "# No\n",
    "pheno[\"ColorBlindness\"][pheno[\"ColorBlindness\"] == \"Not colour blind\"] = \"No\"\n",
    "pheno[\"ColorBlindness\"][pheno[\"ColorBlindness\"] == \"Not color blind\"] = \"No\"\n",
    "pheno[\"ColorBlindness\"][pheno[\"ColorBlindness\"] == \"False\"] = \"No\"\n",
    "pheno[\"ColorBlindness\"][pheno[\"ColorBlindness\"] == \"not color blind\"] = \"No\"\n",
    "pheno[\"ColorBlindness\"][pheno[\"ColorBlindness\"] == \"carrier (eg: my brother and my son have colour blindness)\"] = \"No\"\n",
    "pheno[\"ColorBlindness\"][pheno[\"ColorBlindness\"] == \"Carrier (eg: my brother and my son have colour blindness)\"] = \"No\"\n",
    "\n",
    "# Yes\n",
    "pheno[\"ColorBlindness\"][pheno[\"ColorBlindness\"] == \"Mild red-green colour blind\"] = \"Yes\"\n",
    "pheno[\"ColorBlindness\"][pheno[\"ColorBlindness\"] == \"Red-green colour blind\"] = \"Yes\"\n",
    "pheno[\"ColorBlindness\"][pheno[\"ColorBlindness\"] == \"low light blue green colour blindness\"] = \"Yes\"\n",
    "pheno[\"ColorBlindness\"][pheno[\"ColorBlindness\"] == \"Tritanomaly\"] = \"Yes\"\n",
    "pheno[\"ColorBlindness\"][pheno[\"ColorBlindness\"] == \"Mild blue-black colour blind\"] = \"Yes\"\n",
    "\n",
    "# Other\n",
    "pheno[\"ColorBlindness\"][pheno[\"ColorBlindness\"] == \"Not colour blind, but difficulty telling red/orange/pink apart sometimes\"] = \"No\"\n",
    "pheno[\"ColorBlindness\"] = pheno[\"ColorBlindness\"][pheno[\"ColorBlindness\"] != \"Other\"]\n",
    "\n",
    "Counter(pheno[\"ColorBlindness\"])"
   ]
  },
  {
   "cell_type": "markdown",
   "metadata": {},
   "source": [
    "# Handedness"
   ]
  },
  {
   "cell_type": "code",
   "execution_count": 26,
   "metadata": {},
   "outputs": [
    {
     "data": {
      "text/plain": [
       "Counter({'Left': 96, 'Right': 554, '-': 2328, 'Ambidexter': 54, nan: 2})"
      ]
     },
     "execution_count": 26,
     "metadata": {},
     "output_type": "execute_result"
    }
   ],
   "source": [
    "# Left\n",
    "pheno[\"Handedness\"][pheno[\"Handedness\"] == \"left-handed\"] = \"Left\"\n",
    "pheno[\"Handedness\"][pheno[\"Handedness\"] == \"Left-handed\"] = \"Left\"\n",
    "pheno[\"Handedness\"][pheno[\"Handedness\"] == \"Left-handed in Hockey and Dominant left handed clapping; everything else right handed\"] = \"Left\"\n",
    "pheno[\"Handedness\"][pheno[\"Handedness\"] == \"Left-handed for small motor movement, writing. right-handed for large motor movement, throwing\"] = \"Left\"\n",
    "pheno[\"Handedness\"][pheno[\"Handedness\"] == \"Left-handed in hockey and dominant left handed clapping; everything else right handed\"] = \"Left\"\n",
    "pheno[\"Handedness\"][pheno[\"Handedness\"] == \"Left-handed trained right handed as child\"] = \"Left\"\n",
    "pheno[\"Handedness\"][pheno[\"Handedness\"] == \"Was born left handed but forced to be right\"] = \"Left\"\n",
    "pheno[\"Handedness\"][pheno[\"Handedness\"] == \"Left-handed dominant, right-handed/ambidextrous  for sport.\"] = \"Left\"\n",
    "\n",
    "# Right\n",
    "pheno[\"Handedness\"][pheno[\"Handedness\"] == \"right-handed\"] = \"Right\"\n",
    "pheno[\"Handedness\"][pheno[\"Handedness\"] == \"Right-handed\"] = \"Right\"\n",
    "pheno[\"Handedness\"][pheno[\"Handedness\"] == \"Right handed\"] = \"Right\"\n",
    "pheno[\"Handedness\"][pheno[\"Handedness\"] == \"right handed\"] = \"Right\"\n",
    "pheno[\"Handedness\"][pheno[\"Handedness\"] == \"Ambidexterous, write with Right Hand\"] = \"Right\"\n",
    "pheno[\"Handedness\"][pheno[\"Handedness\"] == \"right\"] = \"Right\"\n",
    "pheno[\"Handedness\"][pheno[\"Handedness\"] == \"Right handed. Left footed.\"] = \"Right\"\n",
    "pheno[\"Handedness\"][pheno[\"Handedness\"] == \"Right handed. left footed.\"] = \"Right\"\n",
    "pheno[\"Handedness\"][pheno[\"Handedness\"] == \"Primarily right-handed but for active, more detailed activities (e.g. writing, drawing, using scissors, etc.); less precise, slow, and less focused movements are done with my left hand (e.g. driving/steering, pulling/pushing to open doors, etc.)\"] = \"Right\"\n",
    "pheno[\"Handedness\"][pheno[\"Handedness\"] == \"Right-handed - but play cards, pay at cash registers left-handed \"] = \"Right\"\n",
    "pheno[\"Handedness\"][pheno[\"Handedness\"] == \"Right-handed but throw ball overarm with my left\"] = \"Right\"\n",
    "pheno[\"Handedness\"][pheno[\"Handedness\"] == \"Right hand dominant; play multiple musical instruments,guitar, banjo, mandolin;baseball,switch hitter; ;fine motor skills ambidextrous\"] = \"Right\"\n",
    "\n",
    "# Ambidexter\n",
    "pheno[\"Handedness\"][pheno[\"Handedness\"] == \"ambidexterous\"] = \"Ambidexter\"\n",
    "pheno[\"Handedness\"][pheno[\"Handedness\"] == \"Ambidexterous\"] = \"Ambidexter\"\n",
    "pheno[\"Handedness\"][pheno[\"Handedness\"] == \"Ambidexterous, write with right hand\"] = \"Ambidexter\"\n",
    "pheno[\"Handedness\"][pheno[\"Handedness\"] == \"Right-handed dominant with left for computer mouse\"] = \"Ambidexter\"\n",
    "pheno[\"Handedness\"][pheno[\"Handedness\"] == \"Right-handed. hit left-handed in baseball & golf\"] = \"Ambidexter\"\n",
    "pheno[\"Handedness\"][pheno[\"Handedness\"] == \"Right-handed, but slightly ambidextrous.\"] = \"Ambidexter\"\n",
    "pheno[\"Handedness\"][pheno[\"Handedness\"] == \"Right-handed, but ambidexterous in sports, music, filing, cutting, etc.\"] = \"Ambidexter\"\n",
    "pheno[\"Handedness\"][pheno[\"Handedness\"] == \"Mixed-handed (right for writing / left for other)\"] = \"Ambidexter\"\n",
    "pheno[\"Handedness\"][pheno[\"Handedness\"] == \"Cross-dominant, favouring right side somewhat more\"] = \"Ambidexter\"\n",
    "pheno[\"Handedness\"][pheno[\"Handedness\"] == \"Right hand dominant but ambidextrous and \\\"goofy-footed\\\" in sports/larger motor movement\"] = \"Ambidexter\"\n",
    "\n",
    "# Other\n",
    "pheno[\"Handedness\"][pheno[\"Handedness\"] == \"70%\"] = \"Other\"\n",
    "pheno[\"Handedness\"][pheno[\"Handedness\"] == \"Right-handed dominant, left-handed for eating, riding and sport when younger.\"] = \"Other\"\n",
    "pheno[\"Handedness\"] = pheno[\"Handedness\"][pheno[\"Handedness\"] != \"Other\"]\n",
    "\n",
    "Counter(pheno[\"Handedness\"].values)"
   ]
  },
  {
   "cell_type": "markdown",
   "metadata": {},
   "source": [
    "# WidowPeak"
   ]
  },
  {
   "cell_type": "code",
   "execution_count": 27,
   "metadata": {},
   "outputs": [
    {
     "data": {
      "text/plain": [
       "Counter({'-': 2858, 'No': 117, 'Yes': 59})"
      ]
     },
     "execution_count": 27,
     "metadata": {},
     "output_type": "execute_result"
    }
   ],
   "source": [
    "# Yes\n",
    "pheno[\"WidowPeak\"][pheno[\"WidowPeak\"] == \"Slight\"] = \"Yes\"\n",
    "pheno[\"WidowPeak\"][pheno[\"WidowPeak\"] == \"yes\"] = \"Yes\"\n",
    "# No\n",
    "pheno[\"WidowPeak\"] = pheno[\"WidowPeak\"][pheno[\"WidowPeak\"] != \"Other\"]\n",
    "\n",
    "Counter(pheno[\"WidowPeak\"].values)"
   ]
  },
  {
   "cell_type": "markdown",
   "metadata": {},
   "source": [
    "# ADHD"
   ]
  },
  {
   "cell_type": "code",
   "execution_count": 28,
   "metadata": {},
   "outputs": [
    {
     "data": {
      "text/plain": [
       "Counter({'No': 68, '-': 2862, 'Yes': 86, nan: 18})"
      ]
     },
     "execution_count": 28,
     "metadata": {},
     "output_type": "execute_result"
    }
   ],
   "source": [
    "# Yes\n",
    "pheno[\"ADHD\"][pheno[\"ADHD\"] == \"True\"] = \"Yes\"\n",
    "pheno[\"ADHD\"][pheno[\"ADHD\"] == \"Diagnosed as \\\"other hyperkinetic disorder\\\"\"] = \"Yes\"\n",
    "pheno[\"ADHD\"][pheno[\"ADHD\"] == \"Undiagnosed, but probably true\"] = \"Yes\"\n",
    "pheno[\"ADHD\"][pheno[\"ADHD\"] == \"yes\"] = \"Yes\"\n",
    "\n",
    "# No\n",
    "pheno[\"ADHD\"][pheno[\"ADHD\"] == \"no\"] = \"No\"\n",
    "pheno[\"ADHD\"][pheno[\"ADHD\"] == \"False\"] = \"No\"\n",
    "\n",
    "# Other\n",
    "pheno[\"ADHD\"][pheno[\"ADHD\"] == \"rs1801260\"] = \"Other\"\n",
    "pheno[\"ADHD\"][pheno[\"ADHD\"] == \"Rs1801260\"] = \"Other\"\n",
    "pheno[\"ADHD\"][pheno[\"ADHD\"] == \"Mthfr c677t\"] = \"Other\"\n",
    "pheno[\"ADHD\"][pheno[\"ADHD\"] == \"MTHFR C677T\"] = \"Other\"\n",
    "pheno[\"ADHD\"][pheno[\"ADHD\"] == \"Adult Onset\"] = \"Other\"\n",
    "pheno[\"ADHD\"][pheno[\"ADHD\"] == \"Not diagnosed\"] = \"Other\"\n",
    "\n",
    "pheno[\"ADHD\"] = pheno[\"ADHD\"][pheno[\"ADHD\"] != \"Other\"]\n",
    "\n",
    "Counter(pheno[\"ADHD\"].values)"
   ]
  },
  {
   "cell_type": "markdown",
   "metadata": {},
   "source": [
    "# Acrophobia "
   ]
  },
  {
   "cell_type": "code",
   "execution_count": 29,
   "metadata": {},
   "outputs": [
    {
     "data": {
      "text/plain": [
       "Counter({'No': 93, '-': 2878, 'Yes': 62, nan: 1})"
      ]
     },
     "execution_count": 29,
     "metadata": {},
     "output_type": "execute_result"
    }
   ],
   "source": [
    "# Yes\n",
    "pheno[\"Acrophobia\"][pheno[\"Acrophobia\"] == \"True\"] = \"Yes\"\n",
    "pheno[\"Acrophobia\"][pheno[\"Acrophobia\"] == \"Slightly\"] = \"Yes\"\n",
    "pheno[\"Acrophobia\"][pheno[\"Acrophobia\"] == \"Medium\"] = \"Yes\"\n",
    "pheno[\"Acrophobia\"][pheno[\"Acrophobia\"] == \"True\"] = \"Yes\"\n",
    "pheno[\"Acrophobia\"][pheno[\"Acrophobia\"] == \"True\"] = \"Yes\"\n",
    "\n",
    "# No\n",
    "pheno[\"Acrophobia\"][pheno[\"Acrophobia\"] == \"no\"] = \"No\"\n",
    "pheno[\"Acrophobia\"][pheno[\"Acrophobia\"] == \"Afraid of falling.\"] = \"No\"\n",
    "pheno[\"Acrophobia\"][pheno[\"Acrophobia\"] == \"No as a child - fear of falling from heights gradually got (a lot) worse as i aged\"] = \"No\"\n",
    "pheno[\"Acrophobia\"][pheno[\"Acrophobia\"] == \"Counterphobic (skydiver)\"] = \"No\"\n",
    "pheno[\"Acrophobia\"][pheno[\"Acrophobia\"] == \"Counterphobic (tree and roof-climber, as a kid)\"] = \"No\"\n",
    "pheno[\"Acrophobia\"][pheno[\"Acrophobia\"] == \"Counterphobic (Skydiver)\"] = \"No\"\n",
    "\n",
    "# Other\n",
    "pheno[\"Acrophobia\"][pheno[\"Acrophobia\"] == \"(supposedly) a precocious infant climber, rock-climbed through my 30s, now somewhat vertiginous\"] = \"Other\"\n",
    "\n",
    "pheno[\"Acrophobia\"] = pheno[\"Acrophobia\"][pheno[\"Acrophobia\"] != \"Other\"]\n",
    "\n",
    "Counter(pheno[\"Acrophobia\"].values)"
   ]
  },
  {
   "cell_type": "markdown",
   "metadata": {},
   "source": [
    "# Finger Hair"
   ]
  },
  {
   "cell_type": "code",
   "execution_count": 30,
   "metadata": {},
   "outputs": [
    {
     "data": {
      "text/plain": [
       "Counter({'No': 57, '-': 2879, 'Yes': 98})"
      ]
     },
     "execution_count": 30,
     "metadata": {},
     "output_type": "execute_result"
    }
   ],
   "source": [
    "# Yes\n",
    "pheno[\"FingerHair\"][pheno[\"FingerHair\"] == \"slight\"] = \"Yes\"\n",
    "pheno[\"FingerHair\"][pheno[\"FingerHair\"] == \"yes\"] = \"Yes\"\n",
    "pheno[\"FingerHair\"][pheno[\"FingerHair\"] == \"Slight\"] = \"Yes\"\n",
    "pheno[\"FingerHair\"][pheno[\"FingerHair\"] == \"not visible but is there, slightly\"] = \"Yes\"\n",
    "pheno[\"FingerHair\"][pheno[\"FingerHair\"] == \"Not visible but is there, slightly\"] = \"Yes\"\n",
    "\n",
    "# No\n",
    "pheno[\"FingerHair\"][pheno[\"FingerHair\"] == \"No hair from top of finger to second knuckle.\"] = \"No\"\n",
    "pheno[\"FingerHair\"][pheno[\"FingerHair\"] == \"no\"] = \"No\"\n",
    "\n",
    "pheno[\"FingerHair\"] = pheno[\"FingerHair\"][pheno[\"FingerHair\"] != \"Other\"]\n",
    "\n",
    "Counter(pheno[\"FingerHair\"].values)"
   ]
  },
  {
   "cell_type": "markdown",
   "metadata": {},
   "source": [
    "# Myopia"
   ]
  },
  {
   "cell_type": "code",
   "execution_count": 31,
   "metadata": {},
   "outputs": [
    {
     "data": {
      "text/plain": [
       "Counter({'Low': 57, '-': 2879, 'Medium': 38, 'High': 57, nan: 3})"
      ]
     },
     "execution_count": 31,
     "metadata": {},
     "output_type": "execute_result"
    }
   ],
   "source": [
    "# Low\n",
    "pheno[\"Myopia\"][pheno[\"Myopia\"] == \"low\"] = \"Low\"\n",
    "pheno[\"Myopia\"][pheno[\"Myopia\"] == \"False\"] = \"Low\"\n",
    "pheno[\"Myopia\"][pheno[\"Myopia\"] == \"normal\"] = \"Low\"\n",
    "pheno[\"Myopia\"][pheno[\"Myopia\"] == \"20/15 vision\"] = \"Low\"\n",
    "\n",
    "# Medium\n",
    "pheno[\"Myopia\"][pheno[\"Myopia\"] == \"medium\"] = \"Medium\"\n",
    "pheno[\"Myopia\"][pheno[\"Myopia\"] == \"Moderate\"] = \"Medium\"\n",
    "pheno[\"Myopia\"][pheno[\"Myopia\"] == \"20/25\"] = \"Medium\"\n",
    "pheno[\"Myopia\"][pheno[\"Myopia\"] == \"yes\"] = \"Medium\"\n",
    "\n",
    "# High\n",
    "pheno[\"Myopia\"][pheno[\"Myopia\"] == \"High\"] = \"High\"\n",
    "pheno[\"Myopia\"][pheno[\"Myopia\"] == \"20/40 corrected  so modeately high\"] = \"High\"\n",
    "pheno[\"Myopia\"][pheno[\"Myopia\"] == \"At age 40\"] = \"High\"\n",
    "pheno[\"Myopia\"][pheno[\"Myopia\"] == \"High in one eye (right)\"] = \"High\"\n",
    "pheno[\"Myopia\"][pheno[\"Myopia\"] == \"myopia age 10\"] = \"High\"\n",
    "pheno[\"Myopia\"][pheno[\"Myopia\"] == \"Myopia age 10\"] = \"High\"\n",
    "pheno[\"Myopia\"][pheno[\"Myopia\"] == \"20/300\"] = \"High\"\n",
    "pheno[\"Myopia\"][pheno[\"Myopia\"] == \"Yes\"] = \"High\"\n",
    "\n",
    "# Other\n",
    "pheno[\"Myopia\"][pheno[\"Myopia\"] == \"Adult onset; disease-related\"] = \"Other\"\n",
    "pheno[\"Myopia\"][pheno[\"Myopia\"] == \"Don't know- Had cararacts removed\"] = \"Other\"\n",
    "pheno[\"Myopia\"][pheno[\"Myopia\"] == \"Don't know- had cararacts removed\"] = \"Other\"\n",
    "\n",
    "pheno[\"Myopia\"] = pheno[\"Myopia\"][pheno[\"Myopia\"] != \"Other\"]\n",
    "Counter(pheno[\"Myopia\"].values)"
   ]
  },
  {
   "cell_type": "markdown",
   "metadata": {},
   "source": [
    "# Irritable Bowel Syndrome"
   ]
  },
  {
   "cell_type": "code",
   "execution_count": 32,
   "metadata": {},
   "outputs": [
    {
     "data": {
      "text/plain": [
       "Counter({'-': 2892, 'Yes': 73, 'No': 69})"
      ]
     },
     "execution_count": 32,
     "metadata": {},
     "output_type": "execute_result"
    }
   ],
   "source": [
    "# Yes\n",
    "pheno[\"IrritableBowel\"][pheno[\"IrritableBowel\"] == \"Yes (occasionally, under stress)\"] = \"Yes\"\n",
    "pheno[\"IrritableBowel\"][pheno[\"IrritableBowel\"] == \"constipation and bloating\"] = \"Yes\"\n",
    "pheno[\"IrritableBowel\"][pheno[\"IrritableBowel\"] == \"Constipation and bloating\"] = \"Yes\"\n",
    "pheno[\"IrritableBowel\"][pheno[\"IrritableBowel\"] == \"before 10ft colon resection, yes\"] = \"Yes\"\n",
    "pheno[\"IrritableBowel\"][pheno[\"IrritableBowel\"] == \"Yes (mild)\"] = \"Yes\"\n",
    "pheno[\"IrritableBowel\"][pheno[\"IrritableBowel\"] == \"Yes (severe)\"] = \"Yes\"\n",
    "\n",
    "# No\n",
    "pheno[\"IrritableBowel\"][pheno[\"IrritableBowel\"] == \"No issues unless i consume wheat, gluten, dairy and sugar.\"] = \"No\"\n",
    "pheno[\"IrritableBowel\"][pheno[\"IrritableBowel\"] == \"No if i cut out all wheat, gluten and sugar\"] = \"No\"\n",
    "pheno[\"IrritableBowel\"][pheno[\"IrritableBowel\"] == \"No issues unless i consume wheat, gluten, dairy and sugar.\"] = \"No\"\n",
    "pheno[\"IrritableBowel\"][pheno[\"IrritableBowel\"] == \"No if I cut out all wheat, gluten and sugar\"] = \"No\"\n",
    "\n",
    "# Other\n",
    "pheno[\"IrritableBowel\"] = pheno[\"IrritableBowel\"][pheno[\"WidowPeak\"] != \"Other\"]\n",
    "\n",
    "Counter(pheno[\"IrritableBowel\"].values)"
   ]
  },
  {
   "cell_type": "markdown",
   "metadata": {},
   "source": [
    "# IndexLongerBig"
   ]
  },
  {
   "cell_type": "code",
   "execution_count": 33,
   "metadata": {},
   "outputs": [
    {
     "data": {
      "text/plain": [
       "Counter({'BigLonger': 56, '-': 2895, 'IndexLonger': 75, nan: 8})"
      ]
     },
     "execution_count": 33,
     "metadata": {},
     "output_type": "execute_result"
    }
   ],
   "source": [
    "# Index Longer\n",
    "pheno[\"IndexLongerBig\"][pheno[\"IndexLongerBig\"] == \"index toe longer\"] = \"IndexLonger\"\n",
    "pheno[\"IndexLongerBig\"][pheno[\"IndexLongerBig\"] == \"Index Toe Larger Than Big Toe\"] = \"IndexLonger\"\n",
    "pheno[\"IndexLongerBig\"][pheno[\"IndexLongerBig\"] == \"Index toe longer\"] = \"IndexLonger\"\n",
    "pheno[\"IndexLongerBig\"][pheno[\"IndexLongerBig\"] == \"Index toe larger than big toe\"] = \"IndexLonger\"\n",
    "pheno[\"IndexLongerBig\"][pheno[\"IndexLongerBig\"] == \"Yes\"] = \"IndexLonger\"\n",
    "pheno[\"IndexLongerBig\"][pheno[\"IndexLongerBig\"] == \"2nd toe longer\"] = \"IndexLonger\"\n",
    "pheno[\"IndexLongerBig\"][pheno[\"IndexLongerBig\"] == \"Left index longer than big toe\"] = \"IndexLonger\"\n",
    "\n",
    "# Big Longer\n",
    "pheno[\"IndexLongerBig\"][pheno[\"IndexLongerBig\"] == \"No\"] = \"BigLonger\"\n",
    "pheno[\"IndexLongerBig\"][pheno[\"IndexLongerBig\"] == \"no\"] = \"BigLonger\"\n",
    "pheno[\"IndexLongerBig\"][pheno[\"IndexLongerBig\"] == \"Big Toe Larger then Second or Index Toe\"] = \"BigLonger\"\n",
    "pheno[\"IndexLongerBig\"][pheno[\"IndexLongerBig\"] == \"Toe size in order big thru little\"] = \"BigLonger\"\n",
    "pheno[\"IndexLongerBig\"][pheno[\"IndexLongerBig\"] == \"Big toe larger then second or index toe\"] = \"BigLonger\"\n",
    "   \n",
    "# Other\n",
    "pheno[\"IndexLongerBig\"][pheno[\"IndexLongerBig\"] == \"Right side index longer, left sidebig toe longer\"] = \"Other\"\n",
    "pheno[\"IndexLongerBig\"][pheno[\"IndexLongerBig\"] == \"Index toe the same height as big toe\"] = \"Other\"\n",
    "pheno[\"IndexLongerBig\"][pheno[\"IndexLongerBig\"] == \"Morton’s neuroma\"] = \"Other\"\n",
    "\n",
    "pheno[\"IndexLongerBig\"] = pheno[\"IndexLongerBig\"][pheno[\"IndexLongerBig\"] != \"Other\"]\n",
    "\n",
    "Counter(pheno[\"IndexLongerBig\"].values)"
   ]
  },
  {
   "cell_type": "markdown",
   "metadata": {},
   "source": [
    "# Photoptarmis"
   ]
  },
  {
   "cell_type": "code",
   "execution_count": 34,
   "metadata": {},
   "outputs": [
    {
     "data": {
      "text/plain": [
       "Counter({'No': 73, '-': 2897, 'Yes': 60, nan: 4})"
      ]
     },
     "execution_count": 34,
     "metadata": {},
     "output_type": "execute_result"
    }
   ],
   "source": [
    "# Yes\n",
    "pheno[\"Photoptarmis\"][pheno[\"Photoptarmis\"] == \"photic sneezer\"] = \"Yes\"\n",
    "pheno[\"Photoptarmis\"][pheno[\"Photoptarmis\"] == \"photic sneezer - but do not have snp\"] = \"Yes\"\n",
    "pheno[\"Photoptarmis\"][pheno[\"Photoptarmis\"] == \"Instant sneezing using pepper on my plate\"] = \"Yes\"\n",
    "pheno[\"Photoptarmis\"][pheno[\"Photoptarmis\"] == \"Photic sneezer - but do not have snp\"] = \"Yes\"\n",
    "\n",
    "pheno[\"Photoptarmis\"][pheno[\"Photoptarmis\"] == \"Sometimes\"] = \"Yes\"\n",
    "pheno[\"Photoptarmis\"][pheno[\"Photoptarmis\"] == \"Photic sneezer\"] = \"Yes\"\n",
    "pheno[\"Photoptarmis\"][pheno[\"Photoptarmis\"] == \"Photic sneezer with the snp\"] = \"Yes\"\n",
    "pheno[\"Photoptarmis\"][pheno[\"Photoptarmis\"] == \"Photic sneezer\"] = \"Yes\"\n",
    "pheno[\"Photoptarmis\"][pheno[\"Photoptarmis\"] == \"Photic sneezer\"] = \"Yes\"\n",
    "\n",
    "# No\n",
    "pheno[\"Photoptarmis\"][pheno[\"Photoptarmis\"] == \"no sneezing\"] = \"No\"\n",
    "pheno[\"Photoptarmis\"][pheno[\"Photoptarmis\"] == \"I have the snp but no sneezing\"] = \"No\"\n",
    "pheno[\"Photoptarmis\"][pheno[\"Photoptarmis\"] == \"Not in light but do have sneezing fits on occasion\"] = \"No\"\n",
    "pheno[\"Photoptarmis\"][pheno[\"Photoptarmis\"] == \"No sneezing\"] = \"No\"\n",
    "\n",
    "\n",
    "# Other\n",
    "pheno[\"Photoptarmis\"][pheno[\"Photoptarmis\"] == \"CC\"] = \"Other\"\n",
    "pheno[\"Photoptarmis\"][pheno[\"Photoptarmis\"] == \"rs10427255\"] = \"Other\"\n",
    "pheno[\"Photoptarmis\"][pheno[\"Photoptarmis\"] == \"Rs10427255\"] = \"Other\"\n",
    "pheno[\"Photoptarmis\"][pheno[\"Photoptarmis\"] == \"Bright light helps control my sneezing (moves it along) but not an uncontrollable source of.\"] = \"Other\"\n",
    "\n",
    "\n",
    "pheno[\"Photoptarmis\"] = pheno[\"Photoptarmis\"][pheno[\"Photoptarmis\"] != \"Other\"]\n",
    "\n",
    "Counter(pheno[\"Photoptarmis\"].values)"
   ]
  },
  {
   "cell_type": "markdown",
   "metadata": {},
   "source": [
    "# Migraine"
   ]
  },
  {
   "cell_type": "code",
   "execution_count": 35,
   "metadata": {},
   "outputs": [
    {
     "data": {
      "text/plain": [
       "Counter({'No': 58, '-': 2900, 'Yes': 71, nan: 5})"
      ]
     },
     "execution_count": 35,
     "metadata": {},
     "output_type": "execute_result"
    }
   ],
   "source": [
    "# Yes\n",
    "pheno[\"Migraine\"][pheno[\"Migraine\"] == \"yes, basilar\"] = \"Yes\"\n",
    "pheno[\"Migraine\"][pheno[\"Migraine\"] == \"Yes, without aura\"] = \"Yes\"\n",
    "pheno[\"Migraine\"][pheno[\"Migraine\"] == \"Yes, both with and without aura\"] = \"Yes\"\n",
    "pheno[\"Migraine\"][pheno[\"Migraine\"] == \"yes, both with and without aura\"] = \"Yes\"\n",
    "pheno[\"Migraine\"][pheno[\"Migraine\"] == \"Yes, hemiplegic with aura\"] = \"Yes\"\n",
    "pheno[\"Migraine\"][pheno[\"Migraine\"] == \"yes, hemiplegic with aura\"] = \"Yes\"\n",
    "pheno[\"Migraine\"][pheno[\"Migraine\"] == \"Yes, always with aura\"] = \"Yes\"\n",
    "pheno[\"Migraine\"][pheno[\"Migraine\"] == \"Vestibular Migraine, with and without aura\"] = \"Yes\"\n",
    "pheno[\"Migraine\"][pheno[\"Migraine\"] == \"Vestibular migraine, with and without aura\"] = \"Yes\"\n",
    "\n",
    "# No\n",
    "pheno[\"Migraine\"][pheno[\"Migraine\"] == \"no\"] = \"No\"\n",
    "\n",
    "# Other\n",
    "pheno[\"Migraine\"][pheno[\"Migraine\"] == \"Not sure it really is a migraine\"] = \"Other\"\n",
    "pheno[\"Migraine\"][pheno[\"Migraine\"] == \"Occasional\"] = \"Other\"\n",
    "\n",
    "pheno[\"Migraine\"] = pheno[\"Migraine\"][pheno[\"Migraine\"] != \"Other\"]\n",
    "\n",
    "Counter(pheno[\"Migraine\"].values)"
   ]
  },
  {
   "cell_type": "code",
   "execution_count": 36,
   "metadata": {},
   "outputs": [],
   "source": [
    "pheno.fillna(\"-\", inplace=True)\n",
    "pheno.index = pheno.index.astype(str)"
   ]
  },
  {
   "cell_type": "code",
   "execution_count": 37,
   "metadata": {},
   "outputs": [],
   "source": [
    "pheno.to_pickle(join(beacons, \"OpenSNP_Phenotype.pickle\"))\n",
    "with open(join(beacons, \"OpenSNP_Phenotype.pickle\"), 'rb') as handle:\n",
    "    pheno = pickle.load(handle)"
   ]
  },
  {
   "cell_type": "code",
   "execution_count": null,
   "metadata": {},
   "outputs": [],
   "source": []
  },
  {
   "cell_type": "code",
   "execution_count": null,
   "metadata": {},
   "outputs": [],
   "source": []
  }
 ],
 "metadata": {
  "kernelspec": {
   "display_name": "Python 3",
   "language": "python",
   "name": "python3"
  },
  "language_info": {
   "codemirror_mode": {
    "name": "ipython",
    "version": 3
   },
   "file_extension": ".py",
   "mimetype": "text/x-python",
   "name": "python",
   "nbconvert_exporter": "python",
   "pygments_lexer": "ipython3",
   "version": "3.7.6"
  }
 },
 "nbformat": 4,
 "nbformat_minor": 2
}

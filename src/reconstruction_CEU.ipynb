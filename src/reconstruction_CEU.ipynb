{
 "cells": [
  {
   "cell_type": "code",
   "execution_count": 1,
   "metadata": {},
   "outputs": [
    {
     "data": {
      "text/html": [
       "<style>.container { width:75% !important; }</style>"
      ],
      "text/plain": [
       "<IPython.core.display.HTML object>"
      ]
     },
     "metadata": {},
     "output_type": "display_data"
    }
   ],
   "source": [
    "import pandas as pd\n",
    "import numpy as np\n",
    "import random\n",
    "import math\n",
    "import timeit\n",
    "import itertools\n",
    "import warnings\n",
    "import pickle\n",
    "import feather\n",
    "import gc\n",
    "import sys\n",
    "import os\n",
    "import seaborn as sns\n",
    "import matplotlib.pyplot as plt\n",
    "from os.path import join, isfile\n",
    "from collections import Counter\n",
    "from fcmeans import FCM\n",
    "import scipy.stats as stats\n",
    "from sklearn.manifold import TSNE\n",
    "from sklearn.metrics.pairwise import pairwise_distances\n",
    "from sklearn.cluster import KMeans, SpectralClustering\n",
    "from sklearn.decomposition import PCA\n",
    "from sklearn.feature_selection import SelectKBest, chi2, mutual_info_classif\n",
    "from sklearn.metrics import auc, accuracy_score, confusion_matrix, mean_squared_error, classification_report, mutual_info_score\n",
    "from sklearn.preprocessing import LabelEncoder\n",
    "\n",
    "warnings.filterwarnings('ignore')\n",
    "np.set_printoptions(suppress=True, formatter={'float': lambda x: \"{0:0.2f}\".format(x)})\n",
    "from IPython.core.display import display, HTML\n",
    "display(HTML(\"<style>.container { width:75% !important; }</style>\"))"
   ]
  },
  {
   "cell_type": "code",
   "execution_count": 2,
   "metadata": {},
   "outputs": [],
   "source": [
    "mainPath = \"../../data\"\n",
    "beacons = join(mainPath, \"beacon\")\n",
    "testSets = join(beacons, \"testsets\")\n",
    "models = join(mainPath, \"models\")\n",
    "ceuPath = join(beacons, \"CEU\")\n",
    "opensnpPath = join(beacons, \"OpenSNP\")"
   ]
  },
  {
   "cell_type": "markdown",
   "metadata": {},
   "source": [
    "#### STEP 1: Load Beacon, MAF, Reference and other cached variables"
   ]
  },
  {
   "cell_type": "code",
   "execution_count": 6,
   "metadata": {},
   "outputs": [],
   "source": [
    "# CEU\n",
    "beacon = pd.read_csv(join(ceuPath, \"Beacon_164.txt\"), index_col=0, delim_whitespace=True)\n",
    "maf = pd.read_csv(join(ceuPath, \"MAF.txt\"), index_col=0, delim_whitespace=True)\n",
    "reference = pickle.load(open(join(ceuPath, \"reference.pickle\"),\"rb\"))"
   ]
  },
  {
   "cell_type": "code",
   "execution_count": 7,
   "metadata": {},
   "outputs": [],
   "source": [
    "binary = np.logical_and(beacon.values != reference, beacon.values != \"NN\").astype(int)\n",
    "ternary = binary.copy()\n",
    "ternary[beacon.values==\"NN\"] = -1\n",
    "\n",
    "maf.rename(columns = {'referenceAllele':'major', 'referenceAlleleFrequency':'major_freq', 'otherAllele':'minor', 'otherAlleleFrequency':'minor_freq'}, inplace = True)\n",
    "\n",
    "beaconPeople = np.arange(65)\n",
    "otherPeople = np.arange(99)+65\n",
    "allPeople = np.arange(164)"
   ]
  },
  {
   "cell_type": "code",
   "execution_count": 33,
   "metadata": {},
   "outputs": [],
   "source": [
    "ternary = np.zeros(beacon.shape, dtype=int)\n",
    "ternary[beacon != reference] = 1\n",
    "ternary[beacon == \"NN\"] = -1"
   ]
  },
  {
   "cell_type": "code",
   "execution_count": null,
   "metadata": {},
   "outputs": [],
   "source": [
    "pca = PCA(n_components=4)\n",
    "tr1 = pca.fit_transform(ternary.T)\n",
    "plt.scatter(tr1[:, 0], tr1[:, 1], alpha=0.4)"
   ]
  },
  {
   "cell_type": "code",
   "execution_count": 42,
   "metadata": {},
   "outputs": [
    {
     "name": "stdout",
     "output_type": "stream",
     "text": [
      "Counter({0: 81, 1: 75, 2: 8})\n",
      "[[-976.14 11.53 -0.02 -0.02]\n",
      " [938.20 -171.92 0.20 0.06]\n",
      " [1087.75 1495.00 -1.68 -0.29]]\n",
      "(81,) (75,) (8,)\n"
     ]
    },
    {
     "data": {
      "image/png": "[encoded data removed]",
      "text/plain": [
       "<Figure size 432x288 with 1 Axes>"
      ]
     },
     "metadata": {
      "needs_background": "light"
     },
     "output_type": "display_data"
    }
   ],
   "source": [
    "kmeans = KMeans(3)\n",
    "y_kmeans = kmeans.fit_predict(tr1)\n",
    "plt.scatter(tr1[:, 0], tr1[:, 1], c=y_kmeans, s=50, cmap='viridis')\n",
    "centers = kmeans.cluster_centers_\n",
    "print(Counter(y_kmeans))\n",
    "print(centers)\n",
    "\n",
    "# Get indices of homogeneous groups\n",
    "g1 = allPeople[np.where(y_kmeans == 0)[0]]\n",
    "g2 = allPeople[np.where(y_kmeans == 1)[0]]\n",
    "g3 = allPeople[np.where(y_kmeans == 2)[0]]\n",
    "print(g1.shape, g2.shape, g3.shape)"
   ]
  },
  {
   "cell_type": "markdown",
   "metadata": {},
   "source": [
    "#### Chromosome Seperation"
   ]
  },
  {
   "cell_type": "code",
   "execution_count": null,
   "metadata": {},
   "outputs": [],
   "source": [
    "chromosome_index = 1\n",
    "ind = (maf[\"chromosome\"] == \"chr\"+str(chromosome_index)).values\n",
    "print(np.sum(ind),\" SNP's exist in chromosome \", chromosome_index)\n",
    "\n",
    "reference = reference[ind]\n",
    "beacon = beacon.loc[ind]\n",
    "extra = extra.loc[ind]\n",
    "giant = giant.loc[ind]\n",
    "maf = maf.loc[ind]"
   ]
  },
  {
   "cell_type": "markdown",
   "metadata": {},
   "source": [
    "#### STEP 1.2: Function Definitions"
   ]
  },
  {
   "cell_type": "code",
   "execution_count": 8,
   "metadata": {},
   "outputs": [],
   "source": [
    "# Beacon operations\n",
    "def queryBeacon(beacon_people):\n",
    "    return binary[:, beacon_people].any(axis=1)\n",
    "\n",
    "def getMutationAt(index):\n",
    "    temp = maf.iloc[index]\n",
    "    if temp[\"minor_freq\"] == temp[\"maf\"]:\n",
    "        return temp[\"minor\"] + temp[\"minor\"] \n",
    "    else:\n",
    "        return temp[\"major\"] + temp[\"major\"] \n",
    "\n",
    "def div(n, d):\n",
    "    return n / d if d else 0\n",
    "\n",
    "def rpaCalculate(tp,fp,tn,fn):\n",
    "    recall = div(tp,(tp+fn)) \n",
    "    precision = div(tp,(tp+fp))\n",
    "    accuracy = div((tp+tn),(tp+fp+tn+fn))\n",
    "    return recall, precision, accuracy\n",
    "\n",
    "# Performance method\n",
    "def performance(person, reconstruction, eval_pos, reference):\n",
    "    ind = np.logical_and(person[eval_pos] != np.squeeze(reference)[eval_pos], person[eval_pos] != \"NN\")\n",
    "    tp = np.sum(reconstruction[eval_pos][ind] != np.squeeze(reference)[eval_pos][ind])\n",
    "    fn = np.sum(ind) - tp\n",
    "    fp = np.sum(reconstruction[eval_pos][~ind] != np.squeeze(reference)[eval_pos][~ind])\n",
    "    tn = np.sum(~ind) - fp\n",
    "    return tp, fp, tn, fn\n",
    "\n",
    "def performance_f(test_people, reconstructed, add_count, cluster_count, eval_pos):\n",
    "    total_values = np.zeros((4))\n",
    "    best_matches = []\n",
    "    # For all people in victim set\n",
    "    for i in range(add_count):\n",
    "        all_combinations = np.zeros((4, cluster_count))\n",
    "        rpa = np.zeros((3, cluster_count))\n",
    "        # For each cluster obtained\n",
    "        for j in range(cluster_count):\n",
    "            all_combinations[:, j] = performance(test_people[i], reconstructed[j], eval_pos, reference)\n",
    "            rpa[:, j] = rpaCalculate(*all_combinations[:, j])\n",
    "        ind = np.argmax(rpa[0,:]*rpa[1,:])       #Best-match index\n",
    "        best_matches.append(ind)\n",
    "        total_values += all_combinations[:, ind] #Add total tp-fp-tn-fn\n",
    "    recall, precision, accuracy = rpaCalculate(*total_values)\n",
    "    print(\"Recall_Micro_Avg    =\", round(recall, 2),\"\\nPrecision_Micro_Avg =\", round(precision, 2))\n",
    "    return (precision,recall,accuracy), total_values, best_matches"
   ]
  },
  {
   "cell_type": "markdown",
   "metadata": {},
   "source": [
    "#### STEP 2: Choose random people and send query to Beacon to obtain No-Yes answers"
   ]
  },
  {
   "cell_type": "code",
   "execution_count": 76,
   "metadata": {},
   "outputs": [],
   "source": [
    "def getNoYes(add_count, beacon_size):\n",
    "\n",
    "    # Take people for added group\n",
    "    added_people = otherPeople.copy()\n",
    "    random.shuffle(added_people)\n",
    "    added_people = added_people[:add_count]\n",
    "    \n",
    "    # Take people for beacon\n",
    "    beacon_people = np.setdiff1d(allPeople, added_people)\n",
    "    random.shuffle(beacon_people)\n",
    "    beacon_people = beacon_people[:beacon_size]\n",
    "\n",
    "    # Query Beacon initially\n",
    "    before = queryBeacon(beacon_people)\n",
    "    # Add people\n",
    "    updated_beacon = np.concatenate([added_people,beacon_people])\n",
    "    # Query Beacon again\n",
    "    after = queryBeacon(updated_beacon)\n",
    "    # Find No-Yes SNPs' indices\n",
    "    no_yes_indices = np.where(np.logical_and(before==False, after==True))[0]\n",
    "    yes_yes_indices = np.where(np.logical_and(before==True, after==True))[0]\n",
    "    print(\"Number of No-Yes SNP's : \", len(no_yes_indices))\n",
    "    \n",
    "    return yes_yes_indices, no_yes_indices, added_people, beacon_people"
   ]
  },
  {
   "cell_type": "code",
   "execution_count": 105,
   "metadata": {},
   "outputs": [],
   "source": [
    "def getNoYes2(add_count, beacon_size):\n",
    "\n",
    "    # Take people for added group\n",
    "    random.shuffle(g1)\n",
    "    random.shuffle(g2)\n",
    "    if add_count == 5:\n",
    "        added_people = np.concatenate([g1[:3], g2[:2]])\n",
    "    else:\n",
    "        added_people = np.concatenate([g1[:(add_count // 2)], g2[:(add_count // 2)]])\n",
    "\n",
    "    # Take people for beacon\n",
    "    g1_ = np.setdiff1d(g1, added_people)\n",
    "    random.shuffle(g1_)\n",
    "    g2_ = np.setdiff1d(g2, added_people)\n",
    "    random.shuffle(g2_)\n",
    "    \n",
    "    \n",
    "    curBeacon = np.concatenate([g1_[:(beacon_size // 2)], g2_[:(beacon_size // 2)]])\n",
    "\n",
    "    # Query Beacon initially\n",
    "    before = queryBeacon(curBeacon)\n",
    "    # Add people\n",
    "    updatedBeacon = np.concatenate([added_people, curBeacon])\n",
    "    # Query Beacon again\n",
    "    after = queryBeacon(updatedBeacon)\n",
    "    # Find No-Yes SNPs' indices\n",
    "    no_yes_indices = np.where(np.logical_and(before == False, after == True))[0]\n",
    "    yes_yes_indices = np.where(np.logical_and(before == True, after == True))[0]\n",
    "    print(\"Number of No-Yes SNP's : \", len(no_yes_indices))\n",
    "\n",
    "    return yes_yes_indices, no_yes_indices, added_people, curBeacon"
   ]
  },
  {
   "cell_type": "markdown",
   "metadata": {},
   "source": [
    "#### STEP 3: Correlation Model"
   ]
  },
  {
   "cell_type": "code",
   "execution_count": 10,
   "metadata": {},
   "outputs": [],
   "source": [
    "def builtSNPNetwork(no_yes_indices, model_ind, reference):\n",
    "    model = ternary[no_yes_ind][:, model_ind].astype(float)\n",
    "    model[model==-1] = np.nan\n",
    "    x = pairwise_distances(model, metric = \"sokalmichener\", n_jobs=-1)\n",
    "    x = 1-np.nan_to_num(x)\n",
    "    return x"
   ]
  },
  {
   "cell_type": "code",
   "execution_count": 11,
   "metadata": {},
   "outputs": [],
   "source": [
    "def baseline_method(no_yes_indices, add_count, cluster_count=None):\n",
    "    c = maf.iloc[no_yes_indices]\n",
    "\n",
    "    # Calculate probabilities of SNP possibilities\n",
    "    greater = c.loc[c['major_freq'] >= c['minor_freq']]\n",
    "    smaller = c.loc[c['major_freq'] < c['minor_freq']]\n",
    "\n",
    "    greater[\"maj-maj\"] = greater['major'] + \"\" + greater['major']\n",
    "    greater[\"mean\"] = pd.concat([greater['major'] + \"\" + greater['minor'], greater['minor'] + \"\" + greater['major']], axis=1).min(axis=1)\n",
    "    greater[\"min-min\"] = greater['minor'] + \"\" + greater['minor']\n",
    "    greater[\"p1\"] = greater['major_freq']**2\n",
    "    greater[\"p2\"] = 2*greater['major_freq']*greater['minor_freq']\n",
    "    greater[\"p3\"] = greater['minor_freq']**2\n",
    "\n",
    "    smaller[\"maj-maj\"] = smaller['minor'] + \"\" + smaller['minor']\n",
    "    smaller[\"mean\"] = pd.concat([smaller['major'] + \"\" + smaller['minor'], smaller['minor'] + \"\" + smaller['major']], axis=1).min(axis=1)\n",
    "    smaller[\"min-min\"] = smaller['major'] + \"\" + smaller['major']\n",
    "    smaller[\"p1\"] = smaller['minor_freq']**2\n",
    "    smaller[\"p2\"] = 2*smaller['major_freq']*smaller['minor_freq']\n",
    "    smaller[\"p3\"] = smaller['major_freq']**2\n",
    "\n",
    "    tt = pd.concat([greater,smaller], axis=0)\n",
    "    tt.sort_index(inplace=True)\n",
    "\n",
    "    genome_possibilities = tt[[\"maj-maj\", \"mean\", \"min-min\"]].values\n",
    "    probabilities = tt[[\"p1\",\"p2\",\"p3\"]].values\n",
    "\n",
    "    mutations = tt[[\"mean\", \"min-min\"]].values\n",
    "    mutation_probs = tt[[\"p2\",\"p3\"]].values\n",
    "\n",
    "    # Randomly reconstruct the people's genome\n",
    "    bins = []\n",
    "    cumulative = probabilities.cumsum(axis=1)\n",
    "    for i in range(add_count):\n",
    "        uniform = np.random.rand(len(cumulative), 1)\n",
    "        choices = (uniform < cumulative).argmax(axis=1)\n",
    "        reconstructed = np.choose(choices, genome_possibilities.T)\n",
    "        bins.append(reconstructed)\n",
    "    bins = np.array(bins)\n",
    "    \n",
    "    # Be sure that at least one person has the mutation\n",
    "    equality = np.sum((bins == reference[no_yes_indices].T), axis=0)\n",
    "    changed_indices = np.where(equality==add_count)[0]\n",
    "\n",
    "    index_choices = np.random.randint(add_count, size=len(equality))[changed_indices]\n",
    "\n",
    "    non_zeros = mutation_probs[np.sum(mutation_probs, axis=1) != 0]\n",
    "    probs = (non_zeros.T / np.sum(non_zeros, axis=1).T).T\n",
    "\n",
    "    zeros = np.zeros((mutation_probs.shape[0], 2))\n",
    "    zeros[np.sum(mutation_probs, axis=1) != 0] = probs\n",
    "    probs = zeros[changed_indices]\n",
    "\n",
    "    cum = probs.cumsum(axis=1)\n",
    "    uni = np.random.rand(len(cum), 1)\n",
    "    choi = (uni < cum).argmax(axis=1)\n",
    "    res = np.choose(choi, mutations[changed_indices].T)\n",
    "\n",
    "    bins.T[changed_indices, index_choices] = res\n",
    "    # Reconstruct\n",
    "    reconstructed = np.array([reference.T[0] for i in range(add_count)])\n",
    "    reconstructed.T[no_yes_indices] = bins.T\n",
    "    return reconstructed"
   ]
  },
  {
   "cell_type": "markdown",
   "metadata": {},
   "source": [
    "##### Spectral Clustering"
   ]
  },
  {
   "cell_type": "code",
   "execution_count": 12,
   "metadata": {},
   "outputs": [],
   "source": [
    "def spectralClustering(no_yes_indices, add_count, x, reference, cluster_count=None):\n",
    "    if not cluster_count:\n",
    "        cluster_count = add_count\n",
    "    sc = SpectralClustering(cluster_count, affinity='precomputed', n_init=100, n_jobs=-1)\n",
    "    sc.fit(np.array(x))\n",
    "    bins = []\n",
    "    for i in range(cluster_count):\n",
    "        temp = []\n",
    "        for element in np.where(sc.labels_==i)[0]:\n",
    "            temp.append(no_yes_indices[element])\n",
    "        #print(\"Bin \" + str(i) + \" has \" + str(len(temp)) + \" SNP's\")\n",
    "        bins.append(temp)\n",
    "    reconstructed = np.array([reference.T[0] for i in range(cluster_count)])\n",
    "    for i in range(cluster_count):\n",
    "        for j in bins[i]:\n",
    "            reconstructed[i][j] = getMutationAt(j)\n",
    "    return reconstructed"
   ]
  },
  {
   "cell_type": "markdown",
   "metadata": {},
   "source": [
    "#### Fuzzy Clustering"
   ]
  },
  {
   "cell_type": "code",
   "execution_count": 13,
   "metadata": {},
   "outputs": [],
   "source": [
    "def fuzzyClustering(no_yes_indices, add_count, x, reference, cluster_count=None):\n",
    "    if not cluster_count:\n",
    "        cluster_count = add_count\n",
    "    fcm = FCM(n_clusters=cluster_count)\n",
    "    fcm.fit(correlations)\n",
    "    soft_clusters = fcm.u\n",
    "    bins = [[] for i in range(cluster_count)]\n",
    "    for i in range(len(soft_clusters)):\n",
    "        maxPos = np.argmax(soft_clusters[i])\n",
    "        if soft_clusters[i][maxPos] <= 0.5:\n",
    "            for j in np.where(soft_clusters[i] > (soft_clusters[i][maxPos] * 2 / 3))[0]:\n",
    "                bins[j].append(no_yes_indices[i])\n",
    "        else:\n",
    "            bins[maxPos].append(no_yes_indices[i])\n",
    "    reconstructed = np.array([reference.T[0] for i in range(cluster_count)])\n",
    "    for i in range(cluster_count):\n",
    "        for j in bins[i]:\n",
    "            reconstructed[i][j] = getMutationAt(j)\n",
    "    return reconstructed"
   ]
  },
  {
   "cell_type": "markdown",
   "metadata": {},
   "source": [
    "# E X P E R I M E N T"
   ]
  },
  {
   "cell_type": "code",
   "execution_count": 106,
   "metadata": {},
   "outputs": [
    {
     "name": "stdout",
     "output_type": "stream",
     "text": [
      "Number of No-Yes SNP's :  14783\n"
     ]
    }
   ],
   "source": [
    "add_count = 5\n",
    "cluster_count = 5\n",
    "beacon_size = 50\n",
    "yes_yes_ind, no_yes_ind, added_people, beacon_people     = getNoYes2(add_count, beacon_size)"
   ]
  },
  {
   "cell_type": "markdown",
   "metadata": {},
   "source": [
    "### All People"
   ]
  },
  {
   "cell_type": "code",
   "execution_count": 107,
   "metadata": {},
   "outputs": [
    {
     "name": "stdout",
     "output_type": "stream",
     "text": [
      "Recall_Micro_Avg    = 0.75 \n",
      "Precision_Micro_Avg = 0.72\n"
     ]
    }
   ],
   "source": [
    "model_ind = allPeople\n",
    "correlations                              = builtSNPNetwork(no_yes_ind, model_ind, reference)\n",
    "reconstructed_spectral                    = spectralClustering(no_yes_ind, add_count, correlations, reference)\n",
    "(precision,recall,accuracy), _, matches   = performance_f(beacon.iloc[:, added_people].values.T,reconstructed_spectral,add_count,cluster_count,no_yes_ind)"
   ]
  },
  {
   "cell_type": "markdown",
   "metadata": {},
   "source": [
    "### Without Added People"
   ]
  },
  {
   "cell_type": "code",
   "execution_count": 108,
   "metadata": {},
   "outputs": [
    {
     "name": "stdout",
     "output_type": "stream",
     "text": [
      "Recall_Micro_Avg    = 0.55 \n",
      "Precision_Micro_Avg = 0.42\n"
     ]
    }
   ],
   "source": [
    "model_ind = np.setdiff1d(allPeople, added_people)\n",
    "model_ind = np.setdiff1d(model_ind, beacon_people)\n",
    "\n",
    "correlations                              = builtSNPNetwork(no_yes_ind, model_ind, reference)\n",
    "reconstructed_spectral                    = spectralClustering(no_yes_ind, add_count, correlations, reference)\n",
    "(precision,recall,accuracy), _, matches   = performance_f(beacon.iloc[:, added_people].values.T,reconstructed_spectral,add_count,cluster_count,no_yes_ind)"
   ]
  },
  {
   "cell_type": "code",
   "execution_count": null,
   "metadata": {},
   "outputs": [],
   "source": []
  },
  {
   "cell_type": "code",
   "execution_count": null,
   "metadata": {},
   "outputs": [],
   "source": []
  },
  {
   "cell_type": "code",
   "execution_count": null,
   "metadata": {},
   "outputs": [],
   "source": []
  },
  {
   "cell_type": "markdown",
   "metadata": {},
   "source": [
    "## Genome Reconstruction"
   ]
  },
  {
   "cell_type": "code",
   "execution_count": null,
   "metadata": {},
   "outputs": [],
   "source": [
    "add_count = 2\n",
    "cluster_count = 2\n",
    "beacon_size = 50\n",
    "yes_yes_ind, no_yes_ind, added_people     = getNoYes(add_count, beacon_size)"
   ]
  },
  {
   "cell_type": "code",
   "execution_count": null,
   "metadata": {},
   "outputs": [],
   "source": [
    "model_ind = np.setdiff1d(otherPeople, added_people)\n",
    "correlations                              = builtSNPNetwork(no_yes_ind, model_ind, reference)\n",
    "reconstructed_spectral                    = spectralClustering(no_yes_ind, add_count, correlations, reference)\n",
    "(precision,recall,accuracy), _, matches   = performance_f(beacon.iloc[:, added_people].values.T,reconstructed_spectral,add_count,cluster_count,no_yes_ind)"
   ]
  },
  {
   "cell_type": "markdown",
   "metadata": {},
   "source": [
    "## All Tests and Plots"
   ]
  },
  {
   "cell_type": "code",
   "execution_count": null,
   "metadata": {},
   "outputs": [],
   "source": [
    "experiments = [(2,20),(3,30),(4,40),(5,50),(10,100),(20,100)]\n",
    "res = []\n",
    "for e in experiments:\n",
    "    add_count = e[0]\n",
    "    beacon_size = e[1]\n",
    "\n",
    "    for i in range(20):\n",
    "        yes_yes_ind, no_yes_ind, added_people = getNoYes(add_count, beacon_size)\n",
    "        model_ind = np.setdiff1d(otherPeople, added_people)\n",
    "\n",
    "        # Genome Reconstruction    \n",
    "        correlations                              = builtSNPNetwork(no_yes_ind, model_ind, reference)\n",
    "        reconstructed_spectral                    = spectralClustering(no_yes_ind, add_count, correlations, reference)\n",
    "        (precision,recall,accuracy), _, matches   = performance_f(beacon.iloc[:, added_people].values.T,reconstructed_spectral,add_count,add_count,no_yes_ind)"
   ]
  },
  {
   "cell_type": "markdown",
   "metadata": {},
   "source": [
    "## Experiment 1: Vary Added People"
   ]
  },
  {
   "cell_type": "code",
   "execution_count": null,
   "metadata": {
    "scrolled": true
   },
   "outputs": [],
   "source": [
    "counts = [2,3,5,10,20]\n",
    "beacon_size = 50\n",
    "run_count = 20\n",
    "\n",
    "results = np.zeros((3, len(counts), run_count, 3))\n",
    "\n",
    "for i in range(len(counts)):\n",
    "    for j in range(run_count):\n",
    "        yes_yes_ind, no_yes_ind, added_people = getNoYes(counts[i], beacon_size)\n",
    "        model_ind = np.setdiff1d(otherPeople, added_people)\n",
    "\n",
    "        # Genome Reconstruction    \n",
    "        correlations                = builtSNPNetwork(no_yes_ind, model_ind, reference)\n",
    "        reconstructed_spectral      = spectralClustering(no_yes_ind, counts[i], correlations, reference)\n",
    "        results[0, i, j, :],_,_     = performance_f(beacon.iloc[:, added_people].values.T,reconstructed_spectral,counts[i],counts[i],no_yes_ind) \n",
    "\n",
    "        # Baseline\n",
    "        reconstructed_baseline      = baseline_method(no_yes_ind, counts[i])\n",
    "        results[1, i, j, :],_,_     = performance_f(beacon.iloc[:, added_people].values.T, reconstructed_baseline,counts[i],counts[i],no_yes_ind)  \n",
    "\n",
    "        # Fuzzy\n",
    "        reconstructed_fuzzy         = fuzzyClustering(no_yes_ind, counts[i], correlations, reference)\n",
    "        results[2, i, j, :],_,_     = performance_f(beacon.iloc[:, added_people].values.T, reconstructed_fuzzy, counts[i], counts[i], no_yes_ind)  \n",
    "        \n",
    "with open(\"../results/1C-Triple-VaryAdded.pickle\", 'wb') as file:\n",
    "    pickle.dump(results, file)"
   ]
  },
  {
   "cell_type": "markdown",
   "metadata": {},
   "source": [
    "## Experiment 2: Vary Beacon Size"
   ]
  },
  {
   "cell_type": "code",
   "execution_count": null,
   "metadata": {},
   "outputs": [],
   "source": [
    "counts = [25,50,75,100]\n",
    "add_count = 5\n",
    "run_count = 20\n",
    "\n",
    "results = np.zeros((3, len(counts), run_count, 3))\n",
    "\n",
    "for i in range(len(counts)):\n",
    "    for j in range(run_count):\n",
    "        yes_yes_ind, no_yes_ind, added_people = getNoYes(add_count, counts[i])\n",
    "        model_ind = np.setdiff1d(otherPeople, added_people)\n",
    "\n",
    "        # Genome Reconstruction    \n",
    "        correlations                = builtSNPNetwork(no_yes_ind, model_ind, reference)\n",
    "        reconstructed_spectral      = spectralClustering(no_yes_ind, add_count, correlations, reference)\n",
    "        results[0, i, j, :],_,_     = performance_f(beacon.iloc[:, added_people].values.T,reconstructed_spectral,add_count,add_count,no_yes_ind) \n",
    "\n",
    "        # Baseline\n",
    "        reconstructed_baseline      = baseline_method(no_yes_ind, add_count)\n",
    "        results[1, i, j, :],_,_     = performance_f(beacon.iloc[:, added_people].values.T, reconstructed_baseline,add_count,add_count,no_yes_ind)  \n",
    "\n",
    "        # Fuzzy\n",
    "        reconstructed_fuzzy         = fuzzyClustering(no_yes_ind,add_count,correlations,reference)\n",
    "        results[2, i, j, :],_,_     = performance_f(beacon.iloc[:, added_people].values.T, reconstructed_fuzzy,add_count,add_count,no_yes_ind)  \n",
    "        \n",
    "with open(\"../results/1C-Triple-VaryBeacon.pickle\", 'wb') as file:\n",
    "    pickle.dump(results, file)"
   ]
  },
  {
   "cell_type": "markdown",
   "metadata": {},
   "source": [
    "## Experiment 3: Cluster Count"
   ]
  },
  {
   "cell_type": "code",
   "execution_count": null,
   "metadata": {},
   "outputs": [],
   "source": [
    "counts = [1,2,3,4,5,10]\n",
    "add_count = 5\n",
    "run_count = 20\n",
    "beacon_size = 50\n",
    "\n",
    "results = np.zeros((3, len(counts), run_count, 3))\n",
    "\n",
    "for i in range(len(counts)):\n",
    "    for j in range(run_count):\n",
    "        yes_yes_ind, no_yes_ind, added_people = getNoYes(add_count, beacon_size)\n",
    "        model_ind = np.setdiff1d(otherPeople, added_people)\n",
    "\n",
    "        # Genome Reconstruction    \n",
    "        correlations                = builtSNPNetwork(no_yes_ind, model_ind, reference)\n",
    "        reconstructed_spectral      = spectralClustering(no_yes_ind, add_count, correlations, reference)\n",
    "        results[0, i, j, :],_,_     = performance_f(beacon.iloc[:, added_people].values.T,reconstructed_spectral,add_count,counts[i],no_yes_ind) \n",
    "\n",
    "        # Baseline\n",
    "        reconstructed_baseline      = baseline_method(no_yes_ind, add_count)\n",
    "        results[1, i, j, :],_,_     = performance_f(beacon.iloc[:, added_people].values.T, reconstructed_baseline,add_count,counts[i],no_yes_ind)  \n",
    "\n",
    "        # Fuzzy\n",
    "        reconstructed_fuzzy         = fuzzyClustering(no_yes_ind,add_count,correlations,reference)\n",
    "        results[2, i, j, :],_,_     = performance_f(beacon.iloc[:, added_people].values.T, reconstructed_fuzzy,add_count,counts[i],no_yes_ind)  \n",
    "        \n",
    "with open(\"../results/1C-Triple-VaryCluster.pickle\", 'wb') as file:\n",
    "    pickle.dump(results, file)"
   ]
  },
  {
   "cell_type": "code",
   "execution_count": null,
   "metadata": {},
   "outputs": [],
   "source": []
  }
 ],
 "metadata": {
  "kernelspec": {
   "display_name": "Python 3",
   "language": "python",
   "name": "python3"
  },
  "language_info": {
   "codemirror_mode": {
    "name": "ipython",
    "version": 3
   },
   "file_extension": ".py",
   "mimetype": "text/x-python",
   "name": "python",
   "nbconvert_exporter": "python",
   "pygments_lexer": "ipython3",
   "version": "3.7.6"
  }
 },
 "nbformat": 4,
 "nbformat_minor": 2
}

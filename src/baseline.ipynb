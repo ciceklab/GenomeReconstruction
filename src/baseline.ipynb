{
 "cells": [
  {
   "cell_type": "code",
   "execution_count": 1,
   "metadata": {},
   "outputs": [
    {
     "data": {
      "text/html": [
       "<style>.container { width:75% !important; }</style>"
      ],
      "text/plain": [
       "<IPython.core.display.HTML object>"
      ]
     },
     "metadata": {},
     "output_type": "display_data"
    }
   ],
   "source": [
    "import pandas as pd\n",
    "import numpy as np\n",
    "import random\n",
    "import math\n",
    "import timeit\n",
    "import itertools\n",
    "import warnings\n",
    "import pickle\n",
    "import feather\n",
    "import gc\n",
    "import sys\n",
    "import os\n",
    "import matplotlib.pyplot as plt\n",
    "from os.path import join, isfile\n",
    "from collections import Counter\n",
    "from xgboost import XGBClassifier\n",
    "from fcmeans import FCM\n",
    "import scipy.stats as stats\n",
    "from scipy.spatial import distance\n",
    "from sklearn.metrics.pairwise import pairwise_distances\n",
    "\n",
    "warnings.filterwarnings('ignore')\n",
    "np.set_printoptions(suppress=True, formatter={'float': lambda x: \"{0:0.2f}\".format(x)})\n",
    "from IPython.core.display import display, HTML\n",
    "display(HTML(\"<style>.container { width:75% !important; }</style>\"))"
   ]
  },
  {
   "cell_type": "code",
   "execution_count": 2,
   "metadata": {},
   "outputs": [],
   "source": [
    "mainPath = \"../../data\"\n",
    "beacons = join(mainPath, \"beacon\")\n",
    "testSets = join(\"\", \"test_sets\")\n",
    "models = join(mainPath, \"models\")\n",
    "ceuPath = join(beacons, \"CEU\")\n",
    "opensnpPath = join(beacons, \"OpenSNP\")\n",
    "inferencePath = join(\"\", \"inference\")"
   ]
  },
  {
   "cell_type": "markdown",
   "metadata": {},
   "source": [
    "#### STEP 1: Load Beacon, MAF, Reference and other cached variables"
   ]
  },
  {
   "cell_type": "code",
   "execution_count": 3,
   "metadata": {},
   "outputs": [],
   "source": [
    "features = [ 'EyeColor','HairType','HairColor','TanAbility','Asthma','LactoseIntolerance',\n",
    "             'EarWax','Freckling','TongueRoller','RingFinger','Intolerance','WidowPeak','ADHD','Acrophobia',\n",
    "             'FingerHair','Myopia','IrritableBowel','IndexLongerBig','Photoptarmis','Migraine','RhProtein']\n",
    "with open(join(opensnpPath, \"OpenSNP_Phenotype.pickle\"), 'rb') as handle:\n",
    "    pheno = pickle.load(handle)\n",
    "pheno = pheno[features]\n",
    "pheno[pheno==\"Auburn\"] = \"Blonde\"\n",
    "pheno[pheno==\"Black\"] = \"Brown\"\n",
    "\n",
    "with open(join(opensnpPath, \"MAF.pickle\"), 'rb') as handle:\n",
    "    maf = pickle.load(handle)\n",
    "\n",
    "with open(join(opensnpPath, \"Reference.pickle\"), 'rb') as handle:\n",
    "    reference = pickle.load(handle)\n",
    "reference = reference.values\n",
    "\n",
    "with open(join(opensnpPath, \"Beacon.pickle\"), 'rb') as handle:\n",
    "    beacon = pickle.load(handle)\n",
    "\n",
    "with open(join(opensnpPath, \"BinaryBeacon.pickle\"), 'rb') as handle:\n",
    "    binary = pickle.load(handle)"
   ]
  },
  {
   "cell_type": "markdown",
   "metadata": {},
   "source": [
    "# Baseline Classifier"
   ]
  },
  {
   "cell_type": "code",
   "execution_count": 4,
   "metadata": {},
   "outputs": [],
   "source": [
    "def div(n, d):\n",
    "    return n / d if d else 0\n",
    "\n",
    "def rpaCalculate(tp,fp,tn,fn):\n",
    "    recall = div(tp,(tp+fn)) \n",
    "    precision = div(tp,(tp+fp))\n",
    "    accuracy = div((tp+tn),(tp+fp+tn+fn))\n",
    "    return recall, precision, accuracy\n",
    "\n",
    "def getData(phenotype, snp_pos, people_pos=[]):\n",
    "    if people_pos == []:\n",
    "        people_pos = np.arange(beacon.shape[1])\n",
    "    # Find indices of people who has the specified feature\n",
    "    feature_label = pheno[pheno[phenotype] != \"-\"][phenotype]\n",
    "    existing = beacon.iloc[:, people_pos].columns.isin(feature_label.index.values)\n",
    "    \n",
    "    # Get training data\n",
    "    X = binary[:, people_pos][snp_pos][:, existing].T\n",
    "    Y = feature_label[beacon.iloc[:, people_pos].columns].values\n",
    "    return X, Y\n",
    "\n",
    "def performances(person, reconstruction, eval_pos, reference):\n",
    "    ind = person[eval_pos] != reference[eval_pos]\n",
    "    tp = np.sum(reconstruction[eval_pos][ind] != reference[eval_pos][ind])\n",
    "    fn = np.sum(ind) - tp\n",
    "    fp = np.sum(reconstruction[eval_pos][~ind] != reference[eval_pos][~ind])\n",
    "    tn = np.sum(~ind) - fp\n",
    "\n",
    "    return tp, fp, tn, fn"
   ]
  },
  {
   "cell_type": "code",
   "execution_count": 5,
   "metadata": {},
   "outputs": [],
   "source": [
    "overall_recall = []\n",
    "recall_snp_count = 0\n",
    "overall_precision = []\n",
    "precision_snp_count = 0"
   ]
  },
  {
   "cell_type": "markdown",
   "metadata": {},
   "source": [
    "### Eye Color"
   ]
  },
  {
   "cell_type": "code",
   "execution_count": null,
   "metadata": {},
   "outputs": [],
   "source": [
    "with open(\"blue_eye.txt\") as f:\n",
    "    blues = f.readlines()\n",
    "blues = np.array(list(set([x.strip() for x in blues])))\n",
    "\n",
    "with open(\"not_blue.txt\") as f:\n",
    "    not_blue = f.readlines()\n",
    "not_blue = np.array(list(set([x.strip() for x in not_blue])))\n",
    "not_blue = np.setdiff1d(not_blue,blues)\n",
    "\n",
    "not_blue = np.intersect1d(not_blue,beacon.index.values)\n",
    "blues = np.intersect1d(blues,beacon.index.values)\n",
    "\n",
    "nb_ind = np.where(np.in1d(beacon.index.values, not_blue))[0]\n",
    "b_ind = np.where(np.in1d(beacon.index.values, blues))[0]\n",
    "whole_ind = np.concatenate([nb_ind, b_ind])\n",
    "\n",
    "x, y = getData(\"EyeColor\", whole_ind)\n",
    "x, y = getData(\"EyeColor\", whole_ind, test_ind)\n",
    "\n",
    "base_recon = np.zeros(x.shape, dtype=int)\n",
    "base_recon[np.ix_(np.where(y == \"Brown\")[0], np.arange(0, len(nb_ind)))] = 1\n",
    "base_recon[np.ix_(np.where(y == \"Blue\")[0], np.arange(len(nb_ind),len(whole_ind)))] = 1\n",
    "\n",
    "# Reconstruct the whole genome also\n",
    "#genome[]\n",
    "\n",
    "recalls = []\n",
    "precisions = []\n",
    "for i in range(len(x)):\n",
    "    reference = np.zeros(x[i].shape, dtype=int)\n",
    "    r, p, _ = rpaCalculate(*performances(x[i], base_recon[i], np.arange(len(whole_ind)), reference))\n",
    "    recalls.append(r)\n",
    "    precisions.append(p)\n",
    "print(\"Recall: \", np.mean(recalls), \"\\tPrecision: \", np.mean(precisions), \"\\tNumber of SNPs: \", len(whole_ind))\n",
    "\n",
    "overall_recall.append(np.mean(recalls) * len(whole_ind))\n",
    "recall_snp_count += len(whole_ind)\n",
    "overall_precision.append(np.mean(precisions) * len(whole_ind))\n",
    "precision_snp_count += len(whole_ind)"
   ]
  },
  {
   "cell_type": "markdown",
   "metadata": {},
   "source": [
    "### Hair Color"
   ]
  },
  {
   "cell_type": "code",
   "execution_count": null,
   "metadata": {},
   "outputs": [],
   "source": [
    "hair_snps = [\"rs12821256\",\"rs12203592\",\"rs1540771\",\"rs35264875\",\"rs3829241\",\"rs12896399\", \"rs12896399\",\"rs3212379\",\"rs1805005\",\n",
    "             \"rs34474212\",\"rs1805006\",\"rs2228479\",\"rs34158934\",\"rs11547464\",\"rs1805007\",\"rs201326893\",\"rs1110400\",\"rs1805008\",\n",
    "             \"rs885479\",\"rs555179612\",\"rs200000734\",\"rs1805009\",\"rs368507952\"]\n",
    "\n",
    "hair_snps = list(set(hair_snps))\n",
    "random.shuffle(hair_snps)\n",
    "c1 = hair_snps[:len(hair_snps)//2]\n",
    "c2 = hair_snps[len(hair_snps)//2:]\n",
    "\n",
    "c1 = np.intersect1d(c1,beacon.index.values)\n",
    "c2 = np.intersect1d(c2,beacon.index.values)\n",
    "\n",
    "c1_ind = np.where(np.in1d(beacon.index.values, c1))[0]\n",
    "c2_ind = np.where(np.in1d(beacon.index.values, c2))[0]\n",
    "whole_ind = np.concatenate([c1_ind, c2_ind])\n",
    "\n",
    "x, y = getData(\"HairColor\", whole_ind)\n",
    "x, y = getData(\"HairColor\", whole_ind, test_ind)\n",
    "\n",
    "base_recon = np.zeros(x.shape, dtype=int)\n",
    "base_recon[np.ix_(np.where(y == \"Blonde\")[0], np.arange(0, len(c1_ind)))] = 1\n",
    "base_recon[np.ix_(np.where(y == \"Brown\")[0], np.arange(len(c1_ind),len(whole_ind)))] = 1\n",
    "\n",
    "recalls = []\n",
    "precisions = []\n",
    "for i in range(len(x)):\n",
    "    reference = np.zeros(x[i].shape, dtype=int)\n",
    "    r, p, _ = rpaCalculate(*performances(x[i], base_recon[i], np.arange(len(whole_ind)), reference))\n",
    "    recalls.append(r)\n",
    "    precisions.append(p)\n",
    "print(\"Recall: \", np.mean(recalls), \"\\tPrecision: \", np.mean(precisions), \"\\tNumber of SNPs: \", len(whole_ind))\n",
    "\n",
    "overall_recall.append(np.mean(recalls) * len(whole_ind))\n",
    "recall_snp_count += len(whole_ind)\n",
    "overall_precision.append(np.mean(precisions) * len(whole_ind))\n",
    "precision_snp_count += len(whole_ind)"
   ]
  },
  {
   "cell_type": "markdown",
   "metadata": {},
   "source": [
    "### Asthma"
   ]
  },
  {
   "cell_type": "code",
   "execution_count": null,
   "metadata": {},
   "outputs": [],
   "source": [
    "with open(\"asthma_snps.txt\") as f:\n",
    "    asthma = f.readlines()\n",
    "asthma = np.array(list(set([x.strip() for x in asthma])))\n",
    "\n",
    "asthma = np.intersect1d(asthma,beacon.index.values)\n",
    "whole_ind = np.where(np.in1d(beacon.index.values, asthma))[0]\n",
    "\n",
    "x, y = getData(\"Asthma\", whole_ind)\n",
    "x, y = getData(\"Asthma\", whole_ind, test_ind)\n",
    "\n",
    "base_recon = np.zeros(x.shape, dtype=int)\n",
    "base_recon[np.ix_(np.where(y == \"Yes\")[0], np.arange(0, len(whole_ind)))] = 1\n",
    "\n",
    "recalls = []\n",
    "precisions = []\n",
    "for i in range(len(x)):\n",
    "    reference = np.zeros(x[i].shape, dtype=int)\n",
    "    r, p, _ = rpaCalculate(*performances(x[i], base_recon[i], np.arange(len(whole_ind)), reference))\n",
    "    recalls.append(r)\n",
    "    precisions.append(p)\n",
    "print(\"Recall: \", np.mean(recalls), \"\\tPrecision: \", np.mean(precisions), \"\\tNumber of SNPs: \", len(whole_ind))\n",
    "\n",
    "overall_recall.append(np.mean(recalls) * len(whole_ind))\n",
    "recall_snp_count += len(whole_ind)\n",
    "overall_precision.append(np.mean(precisions) * len(whole_ind))\n",
    "precision_snp_count += len(whole_ind)"
   ]
  },
  {
   "cell_type": "markdown",
   "metadata": {},
   "source": [
    "### Myopia"
   ]
  },
  {
   "cell_type": "code",
   "execution_count": null,
   "metadata": {},
   "outputs": [],
   "source": [
    "with open(\"myopia_snps.txt\") as f:\n",
    "    myopia = f.readlines()\n",
    "myopia = np.array(list(set([x.strip() for x in myopia])))\n",
    "\n",
    "myopia = np.intersect1d(myopia,beacon.index.values)\n",
    "whole_ind = np.where(np.in1d(beacon.index.values, myopia))[0]\n",
    "\n",
    "x, y = getData(\"Myopia\", whole_ind)\n",
    "x, y = getData(\"Myopia\", whole_ind, test_ind)\n",
    "\n",
    "base_recon = np.zeros(x.shape, dtype=int)\n",
    "base_recon[np.ix_(np.where(y == \"High\")[0], np.arange(0, len(whole_ind)))] = 1\n",
    "\n",
    "recalls = []\n",
    "precisions = []\n",
    "for i in range(len(x)):\n",
    "    reference = np.zeros(x[i].shape, dtype=int)\n",
    "    r, p, _ = rpaCalculate(*performances(x[i], base_recon[i], np.arange(len(whole_ind)), reference))\n",
    "    recalls.append(r)\n",
    "    precisions.append(p)\n",
    "print(\"Recall: \", np.mean(recalls), \"\\tPrecision: \", np.mean(precisions), \"\\tNumber of SNPs: \", len(whole_ind))\n",
    "\n",
    "overall_recall.append(np.mean(recalls) * len(whole_ind))\n",
    "recall_snp_count += len(whole_ind)\n",
    "overall_precision.append(np.mean(precisions) * len(whole_ind))\n",
    "precision_snp_count += len(whole_ind)"
   ]
  },
  {
   "cell_type": "markdown",
   "metadata": {},
   "source": [
    "### Photoptarmis\n",
    "https://www.nature.com/articles/s41598-019-41551-0"
   ]
  },
  {
   "cell_type": "code",
   "execution_count": null,
   "metadata": {},
   "outputs": [],
   "source": [
    "with open(\"photoptarmis_snps.txt\") as f:\n",
    "    photoptarmis = f.readlines()\n",
    "photoptarmis = np.array(list(set([x.strip() for x in photoptarmis])))\n",
    "\n",
    "photoptarmis = np.intersect1d(photoptarmis,beacon.index.values)\n",
    "whole_ind = np.where(np.in1d(beacon.index.values, photoptarmis))[0]\n",
    "\n",
    "x, y = getData(\"Photoptarmis\", whole_ind)\n",
    "x, y = getData(\"Photoptarmis\", whole_ind, test_ind)\n",
    "\n",
    "base_recon = np.zeros(x.shape, dtype=int)\n",
    "base_recon[np.ix_(np.where(y == \"Yes\")[0], np.arange(0, len(whole_ind)))] = 1\n",
    "\n",
    "recalls = []\n",
    "precisions = []\n",
    "for i in range(len(x)):\n",
    "    reference = np.zeros(x[i].shape, dtype=int)\n",
    "    r, p, _ = rpaCalculate(*performances(x[i], base_recon[i], np.arange(len(whole_ind)), reference))\n",
    "    recalls.append(r)\n",
    "    precisions.append(p)\n",
    "print(\"Recall: \", np.mean(recalls), \"\\tPrecision: \", np.mean(precisions), \"\\tNumber of SNPs: \", len(whole_ind))\n",
    "\n",
    "overall_recall.append(np.mean(recalls) * len(whole_ind))\n",
    "recall_snp_count += len(whole_ind)\n",
    "overall_precision.append(np.mean(precisions) * len(whole_ind))\n",
    "precision_snp_count += len(whole_ind)"
   ]
  },
  {
   "cell_type": "markdown",
   "metadata": {},
   "source": [
    "### Migraine"
   ]
  },
  {
   "cell_type": "code",
   "execution_count": null,
   "metadata": {},
   "outputs": [],
   "source": [
    "with open(\"migraine.txt\") as f:\n",
    "    migraine = f.readlines()\n",
    "migraine = np.array(list(set([x.strip() for x in migraine])))\n",
    "\n",
    "migraine = np.intersect1d(migraine,beacon.index.values)\n",
    "whole_ind = np.where(np.in1d(beacon.index.values, migraine))[0]\n",
    "\n",
    "x, y = getData(\"Migraine\", whole_ind)\n",
    "x, y = getData(\"Migraine\", whole_ind, test_ind)\n",
    "\n",
    "base_recon = np.zeros(x.shape, dtype=int)\n",
    "base_recon[np.ix_(np.where(y == \"Yes\")[0], np.arange(0, len(whole_ind)))] = 1\n",
    "\n",
    "recalls = []\n",
    "precisions = []\n",
    "for i in range(len(x)):\n",
    "    reference = np.zeros(x[i].shape, dtype=int)\n",
    "    r, p, _ = rpaCalculate(*performances(x[i], base_recon[i], np.arange(len(whole_ind)), reference))\n",
    "    recalls.append(r)\n",
    "    precisions.append(p)\n",
    "print(\"Recall: \", np.mean(recalls), \"\\tPrecision: \", np.mean(precisions), \"\\tNumber of SNPs: \", len(whole_ind))\n",
    "\n",
    "overall_recall.append(np.mean(recalls) * len(whole_ind))\n",
    "recall_snp_count += len(whole_ind)\n",
    "overall_precision.append(np.mean(precisions) * len(whole_ind))\n",
    "precision_snp_count += len(whole_ind)"
   ]
  },
  {
   "cell_type": "markdown",
   "metadata": {},
   "source": [
    "### Irritiable Bowel"
   ]
  },
  {
   "cell_type": "code",
   "execution_count": null,
   "metadata": {},
   "outputs": [],
   "source": [
    "irbow = [\"rs62625044\", \"rs806378\", \"rs7209436\", \"rs242924\"]\n",
    "irbow = np.intersect1d(irbow,beacon.index.values)\n",
    "whole_ind = np.where(np.in1d(beacon.index.values, irbow))[0]\n",
    "\n",
    "x, y = getData(\"IrritableBowel\", whole_ind)\n",
    "x, y = getData(\"IrritableBowel\", whole_ind, test_ind)\n",
    "\n",
    "base_recon = np.zeros(x.shape, dtype=int)\n",
    "base_recon[np.ix_(np.where(y == \"Yes\")[0], np.arange(0, len(whole_ind)))] = 1\n",
    "\n",
    "recalls = []\n",
    "precisions = []\n",
    "for i in range(len(x)):\n",
    "    reference = np.zeros(x[i].shape, dtype=int)\n",
    "    r, p, _ = rpaCalculate(*performances(x[i], base_recon[i], np.arange(len(whole_ind)), reference))\n",
    "    recalls.append(r)\n",
    "    precisions.append(p)\n",
    "print(\"Recall: \", np.mean(recalls), \"\\tPrecision: \", np.mean(precisions), \"\\tNumber of SNPs: \", len(whole_ind))\n",
    "\n",
    "overall_recall.append(np.mean(recalls) * len(whole_ind))\n",
    "recall_snp_count += len(whole_ind)\n",
    "overall_precision.append(np.mean(precisions) * len(whole_ind))\n",
    "precision_snp_count += len(whole_ind)"
   ]
  },
  {
   "cell_type": "markdown",
   "metadata": {},
   "source": [
    "### ADHD"
   ]
  },
  {
   "cell_type": "code",
   "execution_count": null,
   "metadata": {},
   "outputs": [],
   "source": [
    "with open(\"adhd.txt\") as f:\n",
    "    adhd = f.readlines()\n",
    "adhd = np.array(list(set([x.strip() for x in adhd])))\n",
    "\n",
    "adhd = np.intersect1d(adhd,beacon.index.values)\n",
    "whole_ind = np.where(np.in1d(beacon.index.values, adhd))[0]\n",
    "\n",
    "x, y = getData(\"ADHD\", whole_ind)\n",
    "x, y = getData(\"ADHD\", whole_ind, test_ind)\n",
    "\n",
    "base_recon = np.zeros(x.shape, dtype=int)\n",
    "base_recon[np.ix_(np.where(y == \"Yes\")[0], np.arange(0, len(whole_ind)))] = 1\n",
    "\n",
    "recalls = []\n",
    "precisions = []\n",
    "for i in range(len(x)):\n",
    "    reference = np.zeros(x[i].shape, dtype=int)\n",
    "    r, p, _ = rpaCalculate(*performances(x[i], base_recon[i], np.arange(len(whole_ind)), reference))\n",
    "    recalls.append(r)\n",
    "    precisions.append(p)\n",
    "print(\"Recall: \", np.mean(recalls), \"\\tPrecision: \", np.mean(precisions), \"\\tNumber of SNPs: \", len(whole_ind))\n",
    "\n",
    "overall_recall.append(np.mean(recalls) * len(whole_ind))\n",
    "recall_snp_count += len(whole_ind)\n",
    "overall_precision.append(np.mean(precisions) * len(whole_ind))\n",
    "precision_snp_count += len(whole_ind)"
   ]
  },
  {
   "cell_type": "markdown",
   "metadata": {},
   "source": [
    "### Freckling"
   ]
  },
  {
   "cell_type": "code",
   "execution_count": null,
   "metadata": {},
   "outputs": [],
   "source": [
    "freck = [\"rs251468\",\"rs4752116\", \"rs10886142\",\"rs17833789\", \"rs12259842\", \"rs10444039\",\"rs10810635\"]\n",
    "freck = np.intersect1d(freck,beacon.index.values)\n",
    "whole_ind = np.where(np.in1d(beacon.index.values, freck))[0]\n",
    "\n",
    "x, y = getData(\"Freckling\", whole_ind)\n",
    "x, y = getData(\"Freckling\", whole_ind, test_ind)\n",
    "\n",
    "base_recon = np.zeros(x.shape, dtype=int)\n",
    "base_recon[np.ix_(np.where(y == \"Yes\")[0], np.arange(0, len(whole_ind)))] = 1\n",
    "\n",
    "recalls = []\n",
    "precisions = []\n",
    "for i in range(len(x)):\n",
    "    reference = np.zeros(x[i].shape, dtype=int)\n",
    "    r, p, _ = rpaCalculate(*performances(x[i], base_recon[i], np.arange(len(whole_ind)), reference))\n",
    "    recalls.append(r)\n",
    "    precisions.append(p)\n",
    "print(\"Recall: \", np.mean(recalls), \"\\tPrecision: \", np.mean(precisions), \"\\tNumber of SNPs: \", len(whole_ind))\n",
    "\n",
    "overall_recall.append(np.mean(recalls) * len(whole_ind))\n",
    "recall_snp_count += len(whole_ind)\n",
    "overall_precision.append(np.mean(precisions) * len(whole_ind))\n",
    "precision_snp_count += len(whole_ind)"
   ]
  },
  {
   "cell_type": "markdown",
   "metadata": {},
   "source": [
    "### Hair Type"
   ]
  },
  {
   "cell_type": "code",
   "execution_count": null,
   "metadata": {},
   "outputs": [],
   "source": [
    "hair_type = [\"rs11803731\",\"rs17646946\",\"rs7349332\"]\n",
    "hair_type = np.intersect1d(hair_type,beacon.index.values)\n",
    "whole_ind = np.where(np.in1d(beacon.index.values, hair_type))[0]\n",
    "\n",
    "x, y = getData(\"HairType\", whole_ind)\n",
    "x, y = getData(\"HairType\", whole_ind, test_ind)\n",
    "print(x.shape)\n",
    "base_recon = np.zeros(x.shape, dtype=int)\n",
    "base_recon[np.ix_(np.where(y == \"Curly\")[0], np.arange(0, len(whole_ind)))] = 1\n",
    "\n",
    "recalls = []\n",
    "precisions = []\n",
    "for i in range(len(x)):\n",
    "    reference = np.zeros(x[i].shape, dtype=int)\n",
    "    r, p, _ = rpaCalculate(*performances(x[i], base_recon[i], np.arange(len(whole_ind)), reference))\n",
    "    recalls.append(r)\n",
    "    precisions.append(p)\n",
    "print(\"Recall: \", np.mean(recalls), \"\\tPrecision: \", np.mean(precisions), \"\\tNumber of SNPs: \", len(whole_ind))\n",
    "\n",
    "overall_recall.append(np.mean(recalls) * len(whole_ind))\n",
    "recall_snp_count += len(whole_ind)\n",
    "overall_precision.append(np.mean(precisions) * len(whole_ind))\n",
    "precision_snp_count += len(whole_ind)"
   ]
  },
  {
   "cell_type": "code",
   "execution_count": null,
   "metadata": {},
   "outputs": [],
   "source": [
    "print(\"Recall= \", np.sum(overall_recall) / recall_snp_count)\n",
    "print(\"Precision= \", np.sum(overall_precision) / precision_snp_count)\n",
    "print(\"Total Number of inferred SNPs= \",precision_snp_count)"
   ]
  },
  {
   "cell_type": "markdown",
   "metadata": {},
   "source": [
    "# Correlations"
   ]
  },
  {
   "cell_type": "code",
   "execution_count": 6,
   "metadata": {},
   "outputs": [],
   "source": [
    "remaining = ['TanAbility','LactoseIntolerance',\n",
    "             'TongueRoller','Intolerance'\n",
    "             ,'RhProtein', 'EarWax', 'Acrophobia', \"IndexFinger\"]\n",
    "used_features = np.setdiff1d(features, remaining)\n",
    "used_features\n",
    "\n",
    "test_ids = pheno[used_features].iloc[np.where(np.sum(pheno != \"-\", axis = 1) >= len(used_features))[0]].index\n",
    "test_ids = test_ids.map(str)\n",
    "test_ind = np.where(beacon.columns.isin(test_ids))[0]\n",
    "test_binary = binary[:, test_ind]\n",
    "\n",
    "indices = []\n",
    "genome = np.zeros(test_binary.shape, dtype=int)\n",
    "eval_pos = []"
   ]
  },
  {
   "cell_type": "code",
   "execution_count": 7,
   "metadata": {},
   "outputs": [],
   "source": [
    "with open(\"blue_eye.txt\") as f:\n",
    "    blues = f.readlines()\n",
    "blues = np.array(list(set([x.strip() for x in blues])))\n",
    "\n",
    "with open(\"not_blue.txt\") as f:\n",
    "    not_blue = f.readlines()\n",
    "not_blue = np.array(list(set([x.strip() for x in not_blue])))\n",
    "not_blue = np.setdiff1d(not_blue,blues)\n",
    "\n",
    "not_blue = np.intersect1d(not_blue,beacon.index.values)\n",
    "blues = np.intersect1d(blues,beacon.index.values)\n",
    "\n",
    "nb_ind = np.where(np.in1d(beacon.index.values, not_blue))[0]\n",
    "b_ind = np.where(np.in1d(beacon.index.values, blues))[0]\n",
    "whole_ind = np.concatenate([nb_ind, b_ind])\n",
    "eval_pos.append(whole_ind)\n",
    "\n",
    "x, y = getData(\"EyeColor\", whole_ind, test_ind)\n",
    "\n",
    "genome[np.ix_(nb_ind, np.where(y == \"Brown\")[0])] = 1\n",
    "genome[np.ix_(b_ind, np.where(y == \"Blue\")[0])] = 1"
   ]
  },
  {
   "cell_type": "code",
   "execution_count": 8,
   "metadata": {},
   "outputs": [],
   "source": [
    "hair_snps = [\"rs12821256\",\"rs12203592\",\"rs1540771\",\"rs35264875\",\"rs3829241\",\"rs12896399\", \"rs12896399\",\"rs3212379\",\"rs1805005\",\n",
    "             \"rs34474212\",\"rs1805006\",\"rs2228479\",\"rs34158934\",\"rs11547464\",\"rs1805007\",\"rs201326893\",\"rs1110400\",\"rs1805008\",\n",
    "             \"rs885479\",\"rs555179612\",\"rs200000734\",\"rs1805009\",\"rs368507952\"]\n",
    "\n",
    "hair_snps = list(set(hair_snps))\n",
    "hair_snps = np.intersect1d(hair_snps,beacon.index.values)\n",
    "random.shuffle(hair_snps)\n",
    "\n",
    "c1 = hair_snps[:len(hair_snps)//2]\n",
    "c2 = hair_snps[len(hair_snps)//2:]\n",
    "\n",
    "c1_ind = np.where(np.in1d(beacon.index.values, c1))[0]\n",
    "c2_ind = np.where(np.in1d(beacon.index.values, c2))[0]\n",
    "whole_ind = np.concatenate([c1_ind, c2_ind])\n",
    "eval_pos.append(whole_ind)\n",
    "\n",
    "x, y = getData(\"HairColor\", whole_ind, test_ind)\n",
    "\n",
    "# Total Genome\n",
    "genome[np.ix_(c1_ind, np.where(y == \"Blonde\")[0])] = 1\n",
    "genome[np.ix_(c2_ind, np.where(y == \"Brown\")[0])] = 1"
   ]
  },
  {
   "cell_type": "code",
   "execution_count": 9,
   "metadata": {},
   "outputs": [],
   "source": [
    "with open(\"asthma_snps.txt\") as f:\n",
    "    asthma = f.readlines()\n",
    "asthma = np.array(list(set([x.strip() for x in asthma])))\n",
    "\n",
    "asthma = np.intersect1d(asthma,beacon.index.values)\n",
    "whole_ind = np.where(np.in1d(beacon.index.values, asthma))[0]\n",
    "eval_pos.append(whole_ind)\n",
    "\n",
    "x, y = getData(\"Asthma\", whole_ind, test_ind)\n",
    "\n",
    "# Total Genome\n",
    "genome[np.ix_(whole_ind, np.where(y == \"Yes\")[0])] = 1"
   ]
  },
  {
   "cell_type": "code",
   "execution_count": 10,
   "metadata": {},
   "outputs": [],
   "source": [
    "with open(\"myopia_snps.txt\") as f:\n",
    "    myopia = f.readlines()\n",
    "myopia = np.array(list(set([x.strip() for x in myopia])))\n",
    "\n",
    "myopia = np.intersect1d(myopia,beacon.index.values)\n",
    "whole_ind = np.where(np.in1d(beacon.index.values, myopia))[0]\n",
    "eval_pos.append(whole_ind)\n",
    "\n",
    "x, y = getData(\"Myopia\", whole_ind, test_ind)\n",
    "\n",
    "# Total Genome\n",
    "genome[np.ix_(whole_ind, np.where(y == \"High\")[0])] = 1"
   ]
  },
  {
   "cell_type": "code",
   "execution_count": 11,
   "metadata": {},
   "outputs": [],
   "source": [
    "with open(\"photoptarmis_snps.txt\") as f:\n",
    "    photoptarmis = f.readlines()\n",
    "photoptarmis = np.array(list(set([x.strip() for x in photoptarmis])))\n",
    "\n",
    "photoptarmis = np.intersect1d(photoptarmis,beacon.index.values)\n",
    "whole_ind = np.where(np.in1d(beacon.index.values, photoptarmis))[0]\n",
    "eval_pos.append(whole_ind)\n",
    "\n",
    "x, y = getData(\"Photoptarmis\", whole_ind, test_ind)\n",
    "\n",
    "# Total Genome\n",
    "genome[np.ix_(whole_ind, np.where(y == \"Yes\")[0])] = 1"
   ]
  },
  {
   "cell_type": "code",
   "execution_count": 12,
   "metadata": {},
   "outputs": [],
   "source": [
    "with open(\"migraine.txt\") as f:\n",
    "    migraine = f.readlines()\n",
    "migraine = np.array(list(set([x.strip() for x in migraine])))\n",
    "\n",
    "migraine = np.intersect1d(migraine,beacon.index.values)\n",
    "whole_ind = np.where(np.in1d(beacon.index.values, migraine))[0]\n",
    "eval_pos.append(whole_ind)\n",
    "\n",
    "x, y = getData(\"Migraine\", whole_ind, test_ind)\n",
    "\n",
    "genome[np.ix_(whole_ind, np.where(y == \"Yes\")[0])] = 1"
   ]
  },
  {
   "cell_type": "code",
   "execution_count": 13,
   "metadata": {},
   "outputs": [],
   "source": [
    "irbow = [\"rs62625044\", \"rs806378\", \"rs7209436\", \"rs242924\"]\n",
    "irbow = np.intersect1d(irbow,beacon.index.values)\n",
    "whole_ind = np.where(np.in1d(beacon.index.values, irbow))[0]\n",
    "eval_pos.append(whole_ind)\n",
    "\n",
    "x, y = getData(\"IrritableBowel\", whole_ind, test_ind)\n",
    "\n",
    "genome[np.ix_(whole_ind, np.where(y == \"Yes\")[0])] = 1"
   ]
  },
  {
   "cell_type": "code",
   "execution_count": 14,
   "metadata": {},
   "outputs": [],
   "source": [
    "with open(\"adhd.txt\") as f:\n",
    "    adhd = f.readlines()\n",
    "adhd = np.array(list(set([x.strip() for x in adhd])))\n",
    "\n",
    "adhd = np.intersect1d(adhd,beacon.index.values)\n",
    "whole_ind = np.where(np.in1d(beacon.index.values, adhd))[0]\n",
    "eval_pos.append(whole_ind)\n",
    "\n",
    "x, y = getData(\"ADHD\", whole_ind, test_ind)\n",
    "\n",
    "genome[np.ix_(whole_ind, np.where(y == \"Yes\")[0])] = 1"
   ]
  },
  {
   "cell_type": "code",
   "execution_count": 15,
   "metadata": {},
   "outputs": [],
   "source": [
    "freck = [\"rs251468\",\"rs4752116\", \"rs10886142\",\"rs17833789\", \"rs12259842\", \"rs10444039\",\"rs10810635\"]\n",
    "freck = np.intersect1d(freck,beacon.index.values)\n",
    "whole_ind = np.where(np.in1d(beacon.index.values, freck))[0]\n",
    "eval_pos.append(whole_ind)\n",
    "\n",
    "x, y = getData(\"Freckling\", whole_ind, test_ind)\n",
    "\n",
    "genome[np.ix_(whole_ind, np.where(y == \"Yes\")[0])] = 1"
   ]
  },
  {
   "cell_type": "code",
   "execution_count": 16,
   "metadata": {},
   "outputs": [],
   "source": [
    "hair_type = [\"rs11803731\",\"rs17646946\",\"rs7349332\"]\n",
    "hair_type = np.intersect1d(hair_type,beacon.index.values)\n",
    "whole_ind = np.where(np.in1d(beacon.index.values, hair_type))[0]\n",
    "eval_pos.append(whole_ind)\n",
    "\n",
    "x, y = getData(\"HairType\", whole_ind, test_ind)\n",
    "genome[np.ix_(whole_ind, np.where(y == \"Curly\")[0])] = 1"
   ]
  },
  {
   "cell_type": "code",
   "execution_count": 17,
   "metadata": {},
   "outputs": [],
   "source": [
    "pos = []\n",
    "for e in eval_pos:\n",
    "    pos += list(e)\n",
    "pos = np.sort(np.unique(pos))"
   ]
  },
  {
   "cell_type": "code",
   "execution_count": 18,
   "metadata": {},
   "outputs": [
    {
     "name": "stdout",
     "output_type": "stream",
     "text": [
      "Recall:  0.3353318371424009 \tPrecision:  0.2869309852403443\n"
     ]
    }
   ],
   "source": [
    "recalls1 = []\n",
    "precisions1 = []\n",
    "for i in range(genome.shape[1]):\n",
    "    reference = np.zeros(genome[:, i].shape, dtype=int)\n",
    "    r, p, _ = rpaCalculate(*performances(test_binary[:, i], genome[:, i], pos, reference))\n",
    "    recalls1.append(r)\n",
    "    precisions1.append(p)\n",
    "print(\"Recall: \", np.mean(recalls1), \"\\tPrecision: \", np.mean(precisions1))"
   ]
  },
  {
   "cell_type": "markdown",
   "metadata": {},
   "source": [
    "## Add Correlated SNPs"
   ]
  },
  {
   "cell_type": "code",
   "execution_count": 23,
   "metadata": {},
   "outputs": [],
   "source": [
    "genome2 = genome.copy()"
   ]
  },
  {
   "cell_type": "code",
   "execution_count": 24,
   "metadata": {},
   "outputs": [],
   "source": [
    "remaining = binary[:, np.setdiff1d(np.arange(beacon.shape[1]), test_ind)]\n",
    "remaining_snps = np.setdiff1d(np.arange(beacon.shape[0]), pos)\n",
    "x = 1-pairwise_distances(remaining[pos,:], remaining[remaining_snps,:] , metric = \"sokalmichener\", n_jobs=-1)"
   ]
  },
  {
   "cell_type": "code",
   "execution_count": 25,
   "metadata": {},
   "outputs": [
    {
     "name": "stdout",
     "output_type": "stream",
     "text": [
      "0\n",
      "10\n",
      "20\n",
      "30\n",
      "40\n",
      "50\n",
      "60\n",
      "70\n",
      "Recall:  0.3353318371424009 \tPrecision:  0.04024661325768025\n"
     ]
    }
   ],
   "source": [
    "k = 500\n",
    "recalls = []\n",
    "precisions = []\n",
    "\n",
    "for i in range(genome.shape[1]):\n",
    "    snp_ind = np.where(np.in1d(pos, np.where(genome2[:, i] == 1)[0]))[0]    \n",
    "    sums = np.sum(x[snp_ind,:], axis=0)\n",
    "    correlated_snps = sums.argsort()[-k:][::-1]\n",
    "    genome2[remaining_snps[correlated_snps], i] = 1\n",
    "    \n",
    "    # Performance\n",
    "    e_pos = np.sort(np.concatenate([pos,remaining_snps[correlated_snps] ]))\n",
    "    reference = np.zeros(genome2[:, i].shape, dtype=int)\n",
    "    r, p, _ = rpaCalculate(*performances(test_binary[:, i], genome2[:, i], e_pos, reference))\n",
    "    recalls.append(r)\n",
    "    precisions.append(p)\n",
    "    \n",
    "    if i % 10 == 0:\n",
    "        print(i)\n",
    "        \n",
    "print(\"Recall: \", np.mean(recalls), \"\\tPrecision: \", np.mean(precisions))"
   ]
  },
  {
   "cell_type": "code",
   "execution_count": 26,
   "metadata": {},
   "outputs": [
    {
     "data": {
      "text/plain": [
       "(0.6233766233766234, 0.4067796610169492, 0.863448275862069)"
      ]
     },
     "execution_count": 26,
     "metadata": {},
     "output_type": "execute_result"
    }
   ],
   "source": [
    "rpaCalculate(*performances(test_binary[:, 3], genome2[:, 3], e_pos, reference))"
   ]
  },
  {
   "cell_type": "code",
   "execution_count": null,
   "metadata": {},
   "outputs": [],
   "source": [
    "genome2[]"
   ]
  },
  {
   "cell_type": "code",
   "execution_count": null,
   "metadata": {},
   "outputs": [],
   "source": []
  },
  {
   "cell_type": "code",
   "execution_count": null,
   "metadata": {},
   "outputs": [],
   "source": []
  },
  {
   "cell_type": "code",
   "execution_count": null,
   "metadata": {},
   "outputs": [],
   "source": []
  },
  {
   "cell_type": "code",
   "execution_count": null,
   "metadata": {},
   "outputs": [],
   "source": []
  },
  {
   "cell_type": "code",
   "execution_count": null,
   "metadata": {},
   "outputs": [],
   "source": []
  },
  {
   "cell_type": "code",
   "execution_count": null,
   "metadata": {},
   "outputs": [],
   "source": []
  },
  {
   "cell_type": "code",
   "execution_count": null,
   "metadata": {},
   "outputs": [],
   "source": []
  },
  {
   "cell_type": "code",
   "execution_count": null,
   "metadata": {},
   "outputs": [],
   "source": []
  },
  {
   "cell_type": "code",
   "execution_count": null,
   "metadata": {},
   "outputs": [],
   "source": [
    "'''\n",
    "### IndexFinger\n",
    "infin = [\"rs314277\"]\n",
    "infin = np.intersect1d(infin,beacon.index.values)\n",
    "whole_ind = np.where(np.in1d(beacon.index.values, infin))[0]\n",
    "\n",
    "x, y = getData(\"IndexLongerBig\", whole_ind)\n",
    "\n",
    "base_recon = np.zeros(x.shape, dtype=int)\n",
    "base_recon[np.ix_(np.where(y == \"IndexLonger\")[0], np.arange(0, len(whole_ind)))] = 1\n",
    "\n",
    "recalls = []\n",
    "precisions = []\n",
    "for i in range(len(x)):\n",
    "    reference = np.zeros(x[i].shape, dtype=int)\n",
    "    r, p, _ = rpaCalculate(*performances(x[i], base_recon[i], np.arange(len(whole_ind)), reference))\n",
    "    recalls.append(r)\n",
    "    precisions.append(p)\n",
    "print(\"Recall: \", np.mean(recalls), \"\\tPrecision: \", np.mean(precisions), \"\\tNumber of SNPs: \", len(whole_ind))\n",
    "\n",
    "overall_recall.append(np.mean(recalls) * len(whole_ind))\n",
    "recall_snp_count += len(whole_ind)\n",
    "overall_precision.append(np.mean(precisions) * len(whole_ind))\n",
    "precision_snp_count += len(whole_ind)\n",
    "\n",
    "\n",
    "\n",
    "### Acrophobia\n",
    "acrop = [\"rs2323266\"]\n",
    "acrop = np.intersect1d(acrop,beacon.index.values)\n",
    "whole_ind = np.where(np.in1d(beacon.index.values, acrop))[0]\n",
    "\n",
    "x, y = getData(\"Acrophobia\", whole_ind)\n",
    "\n",
    "base_recon = np.zeros(x.shape, dtype=int)\n",
    "base_recon[np.ix_(np.where(y == \"Yes\")[0], np.arange(0, len(whole_ind)))] = 1\n",
    "\n",
    "recalls = []\n",
    "precisions = []\n",
    "for i in range(len(x)):\n",
    "    reference = np.zeros(x[i].shape, dtype=int)\n",
    "    r, p, _ = rpaCalculate(*performances(x[i], base_recon[i], np.arange(len(whole_ind)), reference))\n",
    "    recalls.append(r)\n",
    "    precisions.append(p)\n",
    "print(\"Recall: \", np.mean(recalls), \"\\tPrecision: \", np.mean(precisions), \"\\tNumber of SNPs: \", len(whole_ind))\n",
    "\n",
    "overall_recall.append(np.mean(recalls) * len(whole_ind))\n",
    "recall_snp_count += len(whole_ind)\n",
    "overall_precision.append(np.mean(precisions) * len(whole_ind))\n",
    "precision_snp_count += len(whole_ind)\n",
    "\n",
    "\n",
    "### EarWax\n",
    "wax = [\"rs17822931\"]\n",
    "\n",
    "wax = np.intersect1d(wax,beacon.index.values)\n",
    "whole_ind = np.where(np.in1d(beacon.index.values, wax))[0]\n",
    "\n",
    "x, y = getData(\"EarWax\", whole_ind)\n",
    "\n",
    "base_recon = np.zeros(x.shape, dtype=int)\n",
    "base_recon[np.ix_(np.where(y == \"Wet\")[0], np.arange(0, len(whole_ind)))] = 1\n",
    "\n",
    "recalls = []\n",
    "precisions = []\n",
    "for i in range(len(x)):\n",
    "    reference = np.zeros(x[i].shape, dtype=int)\n",
    "    r, p, _ = rpaCalculate(*performances(x[i], base_recon[i], np.arange(len(whole_ind)), reference))\n",
    "    recalls.append(r)\n",
    "    precisions.append(p)\n",
    "print(\"Recall: \", np.mean(recalls), \"\\tPrecision: \", np.mean(precisions), \"\\tNumber of SNPs: \", len(whole_ind))\n",
    "\n",
    "overall_recall.append(np.mean(recalls) * len(whole_ind))\n",
    "recall_snp_count += len(whole_ind)\n",
    "overall_precision.append(np.mean(precisions) * len(whole_ind))\n",
    "precision_snp_count += len(whole_ind)\n",
    "\n",
    "'''"
   ]
  }
 ],
 "metadata": {
  "kernelspec": {
   "display_name": "Python 3",
   "language": "python",
   "name": "python3"
  },
  "language_info": {
   "codemirror_mode": {
    "name": "ipython",
    "version": 3
   },
   "file_extension": ".py",
   "mimetype": "text/x-python",
   "name": "python",
   "nbconvert_exporter": "python",
   "pygments_lexer": "ipython3",
   "version": "3.7.6"
  }
 },
 "nbformat": 4,
 "nbformat_minor": 2
}
